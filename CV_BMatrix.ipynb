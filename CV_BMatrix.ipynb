{
 "cells": [
  {
   "cell_type": "code",
   "execution_count": 2,
   "metadata": {
    "collapsed": false
   },
   "outputs": [],
   "source": [
    "from sklearn import datasets\n",
    "from sklearn.cross_validation import train_test_split\n",
    "from scipy import io as sio\n",
    "from tensorflow.python.framework import ops\n",
    "from dfs2 import DeepFeatureSelectionNew\n",
    "import numpy as np\n",
    "from sklearn.datasets import make_classification\n",
    "from sklearn.preprocessing import normalize\n",
    "from __future__ import print_function\n",
    "\n",
    "# ourdataB = sio.loadmat(\"/Volumes/TONY/Regeneron/Data/OriginalData/newDataB_2labels.mat\")\n",
    "ourdata = sio.loadmat(\"/Users/xupeng.tong/Documents/Data/OriginalData/newDataB_2labels.mat\")\n",
    "# ourdata = sio.loadmat(\"/Users/xupeng.tong/Documents/Data/OriginalData/Q_2labels_standardized.mat\")\n",
    "\n",
    "inputX = ourdata['X']\n",
    "inputX = normalize(inputX, axis=0)\n",
    "inputY = ourdata['Y'][0,:]\n",
    "columnNames = ourdata['columnNames']"
   ]
  },
  {
   "cell_type": "code",
   "execution_count": 4,
   "metadata": {
    "collapsed": false
   },
   "outputs": [
    {
     "name": "stdout",
     "output_type": "stream",
     "text": [
      "epoch 0: global loss = 0.733293890953\n",
      "('Train accuracy:', 0.42763543)\n",
      "('Test accuracy:', 0.43799719)\n",
      "epoch 10: global loss = 0.476914912462\n",
      "('Train accuracy:', 0.83935887)\n",
      "('Test accuracy:', 0.84277022)\n",
      "epoch 20: global loss = 0.129701793194\n",
      "('Train accuracy:', 0.96197498)\n",
      "('Test accuracy:', 0.95273751)\n",
      "epoch 30: global loss = 0.052871208638\n",
      "('Train accuracy:', 0.98350298)\n",
      "('Test accuracy:', 0.97707069)\n",
      "epoch 40: global loss = 0.0323026739061\n",
      "('Train accuracy:', 0.98993796)\n",
      "('Test accuracy:', 0.98596162)\n",
      "('Final train accuracy:', 0.99216098)\n",
      "('Final test accuracy:', 0.99064106)\n",
      "Train finised for random state:0\n",
      "epoch 0: global loss = 0.751039803028\n",
      "('Train accuracy:', 0.42939043)\n",
      "('Test accuracy:', 0.430978)\n",
      "epoch 10: global loss = 0.507127285004\n",
      "('Train accuracy:', 0.85257983)\n",
      "('Test accuracy:', 0.86008424)\n",
      "epoch 20: global loss = 0.141821071506\n",
      "('Train accuracy:', 0.95401895)\n",
      "('Test accuracy:', 0.95320541)\n",
      "epoch 30: global loss = 0.0590038299561\n",
      "('Train accuracy:', 0.98256701)\n",
      "('Test accuracy:', 0.98408985)\n",
      "epoch 40: global loss = 0.0350771062076\n",
      "('Train accuracy:', 0.98993796)\n",
      "('Test accuracy:', 0.98642957)\n",
      "('Final train accuracy:', 0.992863)\n",
      "('Final test accuracy:', 0.99110901)\n",
      "Train finised for random state:1\n",
      "epoch 0: global loss = 0.759872674942\n",
      "('Train accuracy:', 0.42857143)\n",
      "('Test accuracy:', 0.43425363)\n",
      "epoch 10: global loss = 0.506673395634\n",
      "('Train accuracy:', 0.85059083)\n",
      "('Test accuracy:', 0.84604585)\n",
      "epoch 20: global loss = 0.154908597469\n",
      "('Train accuracy:', 0.94793493)\n",
      "('Test accuracy:', 0.94478238)\n",
      "epoch 30: global loss = 0.0784661099315\n",
      "('Train accuracy:', 0.97542995)\n",
      "('Test accuracy:', 0.97145534)\n",
      "epoch 40: global loss = 0.0517223998904\n",
      "('Train accuracy:', 0.98432201)\n",
      "('Test accuracy:', 0.98455781)\n",
      "('Final train accuracy:', 0.98982102)\n",
      "('Final test accuracy:', 0.98736548)\n",
      "Train finised for random state:2\n",
      "epoch 0: global loss = 0.748433232307\n",
      "('Train accuracy:', 0.43009242)\n",
      "('Test accuracy:', 0.42817032)\n",
      "epoch 10: global loss = 0.509174644947\n",
      "('Train accuracy:', 0.83315784)\n",
      "('Test accuracy:', 0.83575106)\n",
      "epoch 20: global loss = 0.141662657261\n",
      "('Train accuracy:', 0.95495498)\n",
      "('Test accuracy:', 0.96443611)\n",
      "epoch 30: global loss = 0.0590850003064\n",
      "('Train accuracy:', 0.98198199)\n",
      "('Test accuracy:', 0.98408985)\n",
      "epoch 40: global loss = 0.0356163904071\n",
      "('Train accuracy:', 0.98888499)\n",
      "('Test accuracy:', 0.9897052)\n",
      "('Final train accuracy:', 0.99321401)\n",
      "('Final test accuracy:', 0.99204493)\n",
      "Train finised for random state:3\n",
      "epoch 0: global loss = 0.733057200909\n",
      "('Train accuracy:', 0.43360242)\n",
      "('Test accuracy:', 0.41413197)\n",
      "epoch 10: global loss = 0.49149876833\n",
      "('Train accuracy:', 0.83163685)\n",
      "('Test accuracy:', 0.83153951)\n",
      "epoch 20: global loss = 0.134568467736\n",
      "('Train accuracy:', 0.95858198)\n",
      "('Test accuracy:', 0.94431448)\n",
      "epoch 30: global loss = 0.0583451613784\n",
      "('Train accuracy:', 0.98291796)\n",
      "('Test accuracy:', 0.97707069)\n",
      "epoch 40: global loss = 0.0373480655253\n",
      "('Train accuracy:', 0.98853397)\n",
      "('Test accuracy:', 0.98502576)\n",
      "('Final train accuracy:', 0.99145901)\n",
      "('Final test accuracy:', 0.99064106)\n",
      "Train finised for random state:4\n",
      "epoch 0: global loss = 0.736807286739\n",
      "('Train accuracy:', 0.43056044)\n",
      "('Test accuracy:', 0.42629856)\n",
      "epoch 10: global loss = 0.50833773613\n",
      "('Train accuracy:', 0.82917982)\n",
      "('Test accuracy:', 0.83902669)\n",
      "epoch 20: global loss = 0.138045296073\n",
      "('Train accuracy:', 0.95612496)\n",
      "('Test accuracy:', 0.95975667)\n",
      "epoch 30: global loss = 0.0586299747229\n",
      "('Train accuracy:', 0.982099)\n",
      "('Test accuracy:', 0.98315394)\n",
      "epoch 40: global loss = 0.0354525335133\n",
      "('Train accuracy:', 0.989353)\n",
      "('Test accuracy:', 0.98689753)\n",
      "('Final train accuracy:', 0.992863)\n",
      "('Final test accuracy:', 0.99017316)\n",
      "Train finised for random state:5\n",
      "epoch 0: global loss = 0.75368309021\n",
      "('Train accuracy:', 0.43009242)\n",
      "('Test accuracy:', 0.42817032)\n",
      "epoch 10: global loss = 0.509149491787\n",
      "('Train accuracy:', 0.84942085)\n",
      "('Test accuracy:', 0.84464204)\n",
      "epoch 20: global loss = 0.138327404857\n",
      "('Train accuracy:', 0.95682698)\n",
      "('Test accuracy:', 0.95507723)\n",
      "epoch 30: global loss = 0.056102283299\n",
      "('Train accuracy:', 0.983971)\n",
      "('Test accuracy:', 0.97987831)\n",
      "epoch 40: global loss = 0.0324657447636\n",
      "('Train accuracy:', 0.99063998)\n",
      "('Test accuracy:', 0.98596162)\n",
      "('Final train accuracy:', 0.99414998)\n",
      "('Final test accuracy:', 0.98923725)\n",
      "Train finised for random state:6\n",
      "epoch 0: global loss = 0.727672696114\n",
      "('Train accuracy:', 0.42611444)\n",
      "('Test accuracy:', 0.44408047)\n",
      "epoch 10: global loss = 0.47494405508\n",
      "('Train accuracy:', 0.84052885)\n",
      "('Test accuracy:', 0.83809078)\n",
      "epoch 20: global loss = 0.126760289073\n",
      "('Train accuracy:', 0.96045399)\n",
      "('Test accuracy:', 0.95741695)\n",
      "epoch 30: global loss = 0.0550770014524\n",
      "('Train accuracy:', 0.983854)\n",
      "('Test accuracy:', 0.97894245)\n",
      "epoch 40: global loss = 0.0347224362195\n",
      "('Train accuracy:', 0.98982102)\n",
      "('Test accuracy:', 0.98502576)\n",
      "('Final train accuracy:', 0.99298)\n",
      "('Final test accuracy:', 0.98736548)\n",
      "Train finised for random state:7\n",
      "epoch 0: global loss = 0.753837943077\n",
      "('Train accuracy:', 0.42903942)\n",
      "('Test accuracy:', 0.43238184)\n",
      "epoch 10: global loss = 0.528392732143\n",
      "('Train accuracy:', 0.84532583)\n",
      "('Test accuracy:', 0.83996254)\n",
      "epoch 20: global loss = 0.140707731247\n",
      "('Train accuracy:', 0.95635897)\n",
      "('Test accuracy:', 0.95741695)\n",
      "epoch 30: global loss = 0.0585461705923\n",
      "('Train accuracy:', 0.982099)\n",
      "('Test accuracy:', 0.98128217)\n",
      "epoch 40: global loss = 0.0387108251452\n",
      "('Train accuracy:', 0.98806602)\n",
      "('Test accuracy:', 0.98689753)\n",
      "('Final train accuracy:', 0.99251199)\n",
      "('Final test accuracy:', 0.98923725)\n",
      "Train finised for random state:8\n",
      "epoch 0: global loss = 0.745738267899\n",
      "('Train accuracy:', 0.42810342)\n",
      "('Test accuracy:', 0.4361254)\n",
      "epoch 10: global loss = 0.502628087997\n",
      "('Train accuracy:', 0.83678484)\n",
      "('Test accuracy:', 0.8404305)\n",
      "epoch 20: global loss = 0.140836164355\n",
      "('Train accuracy:', 0.95425296)\n",
      "('Test accuracy:', 0.95367336)\n",
      "epoch 30: global loss = 0.0612846538424\n",
      "('Train accuracy:', 0.98151398)\n",
      "('Test accuracy:', 0.98034626)\n",
      "epoch 40: global loss = 0.0394038744271\n",
      "('Train accuracy:', 0.987481)\n",
      "('Test accuracy:', 0.9836219)\n",
      "('Final train accuracy:', 0.99157602)\n",
      "('Final test accuracy:', 0.99064106)\n",
      "Train finised for random state:9\n"
     ]
    }
   ],
   "source": [
    "weights_0_10 = []\n",
    "for random_state in xrange(10):\n",
    "    X_train, X_test, y_train, y_test = train_test_split(inputX, inputY, test_size=0.2, random_state=random_state)\n",
    "    dfsMLP = DeepFeatureSelectionNew(X_train, X_test, y_train, y_test, n_input=1, hidden_dims=[50], learning_rate=0.01, \\\n",
    "                                     lambda1=0, lambda2=1, alpha1=0, alpha2=0, activation='tanh', \\\n",
    "                                     weight_init='uniform',epochs=50, optimizer='Adam', print_step=10)\n",
    "    dfsMLP.train(batch_size=2000)\n",
    "    print(\"Train finised for random state:\" + str(random_state))\n",
    "    weights_0_10.append(dfsMLP.selected_ws[0])"
   ]
  },
  {
   "cell_type": "code",
   "execution_count": 5,
   "metadata": {
    "collapsed": false
   },
   "outputs": [],
   "source": [
    "np.save(\"weights-0-10-new\", weights_0_10)\n",
    "# weights_10_20 = np.load(\"weights-10-20.npy\")\n",
    "# weights_20_30 = np.load(\"weights-20-30.npy\")\n"
   ]
  },
  {
   "cell_type": "code",
   "execution_count": 29,
   "metadata": {
    "collapsed": false
   },
   "outputs": [],
   "source": [
    "allweights = np.concatenate((weights,weights_10_20,weights_20_30))"
   ]
  },
  {
   "cell_type": "code",
   "execution_count": 32,
   "metadata": {
    "collapsed": false
   },
   "outputs": [],
   "source": [
    "np.save(\"allweights-0-30\", allweights)"
   ]
  },
  {
   "cell_type": "code",
   "execution_count": 9,
   "metadata": {
    "collapsed": false
   },
   "outputs": [],
   "source": [
    "weights = np.array(weights)"
   ]
  },
  {
   "cell_type": "code",
   "execution_count": 31,
   "metadata": {
    "collapsed": false
   },
   "outputs": [
    {
     "name": "stdout",
     "output_type": "stream",
     "text": [
      "High five! You successfuly sent some data to your account on plotly. View your plot in your browser at https://plot.ly/~tonyabracadabra/0 or inside your plot.ly account where it is named 'basic-heatmap'\n"
     ]
    },
    {
     "data": {
      "text/html": [
       "<iframe id=\"igraph\" scrolling=\"no\" style=\"border:none;\" seamless=\"seamless\" src=\"https://plot.ly/~tonyabracadabra/0.embed\" height=\"525px\" width=\"100%\"></iframe>"
      ],
      "text/plain": [
       "<plotly.tools.PlotlyDisplay object>"
      ]
     },
     "execution_count": 31,
     "metadata": {},
     "output_type": "execute_result"
    }
   ],
   "source": [
    "import plotly.plotly as py\n",
    "import plotly.graph_objs as go\n",
    "import plotly\n",
    "\n",
    "plotly.tools.set_credentials_file(username='tonyabracadabra', api_key='6gs9i5iec7')\n",
    "\n",
    "data = [\n",
    "    go.Heatmap(\n",
    "        z=np.abs(allweights)\n",
    "    )\n",
    "]\n",
    "\n",
    "py.iplot(data, filename='basic-heatmap')"
   ]
  },
  {
   "cell_type": "code",
   "execution_count": 17,
   "metadata": {
    "collapsed": false
   },
   "outputs": [],
   "source": [
    "averagedWeight = np.abs(weights.sum(axis=0)/10)"
   ]
  },
  {
   "cell_type": "code",
   "execution_count": null,
   "metadata": {
    "collapsed": true
   },
   "outputs": [],
   "source": [
    "for random_state in xrange(10,20):\n",
    "    X_train, X_test, y_train, y_test = train_test_split(inputX, inputY, test_size=0.2, random_state=random_state)\n",
    "    dfsMLP = DeepFeatureSelectionNew(X_train, X_test, y_train, y_test, n_input=1, hidden_dims=[50], learning_rate=0.01, \\\n",
    "                                     lambda1=0, lambda2=1, alpha1=0.0001, alpha2=0, activation='tanh', \\\n",
    "                                     weight_init='uniform',epochs=50, optimizer='Adam', print_step=10)\n",
    "    dfsMLP.train(batch_size=2000)\n",
    "    print(\"Train finised for random state:\" + str(random_state))\n",
    "    weights.append(dfsMLP.selected_ws[0])"
   ]
  }
 ],
 "metadata": {
  "kernelspec": {
   "display_name": "Python 2",
   "language": "python",
   "name": "python2"
  },
  "language_info": {
   "codemirror_mode": {
    "name": "ipython",
    "version": 2
   },
   "file_extension": ".py",
   "mimetype": "text/x-python",
   "name": "python",
   "nbconvert_exporter": "python",
   "pygments_lexer": "ipython2",
   "version": "2.7.12"
  }
 },
 "nbformat": 4,
 "nbformat_minor": 0
}

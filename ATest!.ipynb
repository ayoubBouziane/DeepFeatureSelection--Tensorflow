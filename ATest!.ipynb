{
 "cells": [
  {
   "cell_type": "code",
   "execution_count": 5,
   "metadata": {
    "collapsed": false
   },
   "outputs": [],
   "source": [
    "from sklearn import datasets\n",
    "from sklearn.cross_validation import train_test_split\n",
    "from scipy import io as sio\n",
    "from tensorflow.python.framework import ops\n",
    "from dfs2 import DeepFeatureSelectionNew\n",
    "import numpy as np\n",
    "from sklearn.datasets import make_classification\n",
    "from sklearn.preprocessing import normalize\n",
    "\n",
    "# ourdataB = sio.loadmat(\"/Volumes/TONY/Regeneron/Data/OriginalData/newDataB_2labels.mat\")\n",
    "ourdataB = sio.loadmat(\"/Users/xupeng.tong/Documents/Data/OriginalData/newDataB_2labels.mat\")\n",
    "\n",
    "inputX = ourdataB['X']\n",
    "inputX = normalize(inputX, axis=0)\n",
    "inputY = ourdataB['Y'][0,:]\n",
    "columnNames = ourdataB['columnNames']\n",
    "\n",
    "X_train, X_test, y_train, y_test = train_test_split(inputX, inputY, test_size=0.2, random_state=42)"
   ]
  },
  {
   "cell_type": "code",
   "execution_count": null,
   "metadata": {
    "collapsed": true
   },
   "outputs": [],
   "source": []
  },
  {
   "cell_type": "code",
   "execution_count": 6,
   "metadata": {
    "collapsed": false
   },
   "outputs": [],
   "source": [
    "\n",
    "X_train500, X_test500 = X_train[:, indexes.tolist()[0][:500]], X_test[:, indexes.tolist()[0][:500]]\n",
    "X_train100, X_test100 = X_train[:, indexes.tolist()[0][:100]], X_test[:, indexes.tolist()[0][:100]]\n",
    "X_train10, X_test10 = X_train[:, indexes.tolist()[0][:10]], X_test[:, indexes.tolist()[0][:10]]\n",
    "X_train50, X_test50 = X_train[:, indexes.tolist()[0][:50]], X_test[:, indexes.tolist()[0][:50]]"
   ]
  },
  {
   "cell_type": "markdown",
   "metadata": {},
   "source": [
    "# Run the Deep Feature Selection\n",
    "## Changing lambda1 slightly"
   ]
  },
  {
   "cell_type": "code",
   "execution_count": 1,
   "metadata": {
    "collapsed": false,
    "scrolled": false
   },
   "outputs": [],
   "source": [
    "ops.reset_default_graph()\n",
    "\n",
    "weights = []\n",
    "for lambda1 in xrange(0, 10, 1):\n",
    "    lambda1 /= 10000.\n",
    "    dfsMLP = DeepFeatureSelectionNew(X_train, X_test, y_train, y_test, n_input=1, hidden_dims=[50], learning_rate=0.01, \\\n",
    "                                     lambda1=lambda1, lambda2=1, alpha1=0.0000001, alpha2=0, activation='tanh', \\\n",
    "                                     weight_init='uniform',epochs=50, optimizer='Adam', print_step=1)\n",
    "    dfsMLP.train(batch_size=2000)\n",
    "    print(\"Train finised for lambda1:\" + str(lambda1))\n",
    "    weights.append(dfsMLP.selected_ws[0])"
   ]
  },
  {
   "cell_type": "markdown",
   "metadata": {
    "collapsed": false
   },
   "source": [
    "# Create feature selection function"
   ]
  },
  {
   "cell_type": "code",
   "execution_count": null,
   "metadata": {
    "collapsed": true
   },
   "outputs": [],
   "source": [
    "import numpy as np\n",
    "\n",
    "indexes_xgboost = sio.loadmat(\"xgboost_result\")['importance_rank']\n",
    "\n",
    "weights = np.load('weights-7000-0-0001.npy')\n",
    "\n",
    "indexes_dfs = np.argsort(abs(weights[0]))[::-1]\n",
    "\n",
    "def topXGBoostfeatures(n):\n",
    "    return X_train[:, indexes_xgboost.tolist()[0][:n]], X_test[:, indexes_xgboost.tolist()[0][:n]]\n",
    "\n",
    "def topDFSfeatures(n):\n",
    "    return X_train[:, indexes_dfs.tolist()[:n]], X_test[:, indexes_dfs.tolist()[:n]]"
   ]
  },
  {
   "cell_type": "code",
   "execution_count": null,
   "metadata": {
    "collapsed": false
   },
   "outputs": [],
   "source": [
    "len(abs(dfsMLP.selected_ws[0])[abs(dfsMLP.selected_ws[0])>0.001])"
   ]
  },
  {
   "cell_type": "code",
   "execution_count": null,
   "metadata": {
    "collapsed": false
   },
   "outputs": [],
   "source": [
    "import plotly.plotly as py\n",
    "import plotly.graph_objs as go\n",
    "import plotly\n",
    "\n",
    "plotly.tools.set_credentials_file(username='tonyabracadabra', api_key='6gs9i5iec7')\n",
    "\n",
    "\n",
    "data = [\n",
    "    go.Heatmap(\n",
    "        z=weights\n",
    "    )\n",
    "]\n",
    "\n",
    "py.iplot(data, filename='basic-heatmap')"
   ]
  },
  {
   "cell_type": "code",
   "execution_count": null,
   "metadata": {
    "collapsed": false
   },
   "outputs": [],
   "source": [
    "from __future__ import print_function\n",
    "import numpy as np\n",
    "np.random.seed(1337)  # for reproducibility\n",
    "\n",
    "from keras.datasets import mnist\n",
    "from keras.models import Sequential\n",
    "from keras.layers.core import Dense, Dropout, Activation\n",
    "from keras.optimizers import SGD, Adam, RMSprop\n",
    "from keras.utils import np_utils\n",
    "\n",
    "batch_size = 2000\n",
    "nb_classes = 2\n",
    "nb_epoch = 500\n",
    "\n",
    "Y_train = np_utils.to_categorical(y_train, nb_classes)\n",
    "Y_test = np_utils.to_categorical(y_test, nb_classes)\n",
    "\n",
    "model = Sequential()\n",
    "model.add(Dense(300, input_shape=(500,)))\n",
    "model.add(Activation('sigmoid'))\n",
    "model.add(Dense(2))\n",
    "model.add(Activation('softmax'))\n",
    "\n",
    "model.summary()\n",
    "\n",
    "model.compile(loss='categorical_crossentropy',\n",
    "              optimizer=Adam(),\n",
    "              metrics=['accuracy'])\n",
    "\n",
    "history = model.fit(X_train500, Y_train,\n",
    "                    batch_size=batch_size, nb_epoch=nb_epoch,\n",
    "                    verbose=1, validation_data=(X_test500, Y_test))\n",
    "score = model.evaluate(X_test500, Y_test, verbose=0)\n",
    "\n",
    "print('Test score:', score[0])\n",
    "print('Test accuracy:', score[1])"
   ]
  },
  {
   "cell_type": "code",
   "execution_count": null,
   "metadata": {
    "collapsed": false
   },
   "outputs": [],
   "source": [
    "y_train_tf = y_train.reshape(y_train.shape[0],1)"
   ]
  },
  {
   "cell_type": "code",
   "execution_count": null,
   "metadata": {
    "collapsed": false
   },
   "outputs": [],
   "source": [
    "X_train.shape"
   ]
  },
  {
   "cell_type": "code",
   "execution_count": null,
   "metadata": {
    "collapsed": false
   },
   "outputs": [],
   "source": [
    "import tflearn\n",
    "import tensorflow as tf\n",
    "\n",
    "# Classification\n",
    "# tflearn.init_graph(num_cores=8, gpu_memory_fraction=0.5)\n",
    "\n",
    "with tf.Graph().as_default():\n",
    "    inputlayer = tflearn.input_data(shape=[None, 7203])\n",
    "    dense = tflearn.fully_connected(inputlayer, 300, activation='tanh')\n",
    "    sofmax = tflearn.fully_connected(dense, 2, activation='softmax')\n",
    "    net = tflearn.regression(sofmax, optimizer='sgd', loss='categorical_crossentropy')\n",
    "\n",
    "    model = tflearn.DNN(net)\n",
    "    model.fit(X_train500, Y_train, n_epoch=10, show_metric=True, validation_set=(X_test500, Y_test))"
   ]
  },
  {
   "cell_type": "code",
   "execution_count": null,
   "metadata": {
    "collapsed": false
   },
   "outputs": [],
   "source": [
    "%matplotlib inline\n",
    "\n",
    "import matplotlib.pyplot as plt\n",
    "\n",
    "temp = abs(dfsMLP.selected_ws[0])\n",
    "\n",
    "plt.plot(temp)"
   ]
  },
  {
   "cell_type": "code",
   "execution_count": null,
   "metadata": {
    "collapsed": false
   },
   "outputs": [],
   "source": [
    "temp = dfsMLP.selected_ws\n",
    "\n",
    "temp1, temp2 = temp[0], temp[1]"
   ]
  },
  {
   "cell_type": "code",
   "execution_count": null,
   "metadata": {
    "collapsed": false
   },
   "outputs": [],
   "source": [
    "np.where(abs(temp1)<0.01)"
   ]
  },
  {
   "cell_type": "code",
   "execution_count": null,
   "metadata": {
    "collapsed": false
   },
   "outputs": [],
   "source": [
    "np.where(abs(temp2)<0.01)"
   ]
  },
  {
   "cell_type": "code",
   "execution_count": null,
   "metadata": {
    "collapsed": false
   },
   "outputs": [],
   "source": [
    "temp = dfsMLP.selected_ws\n",
    "\n",
    "temp3, temp4 = temp[0], temp[1]\n",
    "\n",
    "print(np.where(abs(temp3)<0.01))\n",
    "print(np.where(abs(temp4)<0.01))"
   ]
  },
  {
   "cell_type": "code",
   "execution_count": null,
   "metadata": {
    "collapsed": false
   },
   "outputs": [],
   "source": [
    "temp = dfsMLP.selected_ws\n",
    "\n",
    "temp5, temp6 = temp[0], temp[1]\n",
    "\n",
    "print(np.where(abs(temp5)<0.01))\n",
    "print(np.where(abs(temp6)<0.01))"
   ]
  },
  {
   "cell_type": "code",
   "execution_count": null,
   "metadata": {
    "collapsed": false
   },
   "outputs": [],
   "source": [
    "from sklearn.ensemble import RandomForestClassifier\n",
    "from sklearn.metrics import accuracy_score\n",
    "import xgboost as xgb\n",
    "\n",
    "# rf = RandomForestClassifier(criterion=\"entropy\", n_estimators = 300, max_depth = 100)\n",
    "# rf.fit(X_train, y_train)\n",
    "\n",
    "# y_pred = rf.predict(X_test)\n",
    "\n",
    "gbm = xgb.XGBClassifier(max_depth=3, n_estimators=400, learning_rate=0.05).fit(X_train, y_train)\n",
    "y_pred = gbm.predict(X_test)\n",
    "\n",
    "print(accuracy_score(y_test, y_pred))\n",
    "\n",
    "# gbm10 = xgb.XGBClassifier(max_depth=3, n_estimators=400, learning_rate=0.05).fit(X_train10, y_train)\n",
    "# y_pred10 = gbm.predict(X_test10)\n",
    "\n",
    "# print(accuracy_score(y_test, y_pred))"
   ]
  },
  {
   "cell_type": "code",
   "execution_count": null,
   "metadata": {
    "collapsed": false
   },
   "outputs": [],
   "source": [
    "indexes = np.argsort(gbm.feature_importances_)[::-1]\n",
    "\n",
    "# top100Features = np.array([columnNames[0][i] for i in indexes[0:200]])\n",
    "# top100Features = np.array([columnNames[i] for i in indexes[0:100]])\n",
    "# top100Features = top100Features.reshape(100,)"
   ]
  },
  {
   "cell_type": "code",
   "execution_count": 165,
   "metadata": {
    "collapsed": false
   },
   "outputs": [
    {
     "name": "stdout",
     "output_type": "stream",
     "text": [
      "High five! You successfuly sent some data to your account on plotly. View your plot in your browser at https://plot.ly/~tonyabracadabra/0 or inside your plot.ly account where it is named 'basic-heatmap'\n"
     ]
    },
    {
     "data": {
      "text/html": [
       "<iframe id=\"igraph\" scrolling=\"no\" style=\"border:none;\" seamless=\"seamless\" src=\"https://plot.ly/~tonyabracadabra/0.embed\" height=\"525px\" width=\"100%\"></iframe>"
      ],
      "text/plain": [
       "<plotly.tools.PlotlyDisplay object>"
      ]
     },
     "execution_count": 165,
     "metadata": {},
     "output_type": "execute_result"
    }
   ],
   "source": [
    "import plotly.plotly as py\n",
    "import plotly.graph_objs as go\n",
    "import plotly\n",
    "\n",
    "plotly.tools.set_credentials_file(username='tonyabracadabra', api_key='6gs9i5iec7')\n",
    "\n",
    "data = [\n",
    "    go.Heatmap(\n",
    "        z=np.abs(weights[1:])\n",
    "    )\n",
    "]\n",
    "\n",
    "py.iplot(data, filename='basic-heatmap')"
   ]
  },
  {
   "cell_type": "code",
   "execution_count": 141,
   "metadata": {
    "collapsed": false
   },
   "outputs": [],
   "source": [
    "keke_train = X_train[:,np.argwhere(abs(weights[0])>0.15).reshape(294,)]\n",
    "keke_test = X_test[:,np.argwhere(abs(weights[0])>0.15).reshape(294,)]"
   ]
  },
  {
   "cell_type": "code",
   "execution_count": 119,
   "metadata": {
    "collapsed": false
   },
   "outputs": [
    {
     "data": {
      "text/plain": [
       "(500, 7203)"
      ]
     },
     "execution_count": 119,
     "metadata": {},
     "output_type": "execute_result"
    }
   ],
   "source": [
    "dfs_train500"
   ]
  },
  {
   "cell_type": "code",
   "execution_count": 116,
   "metadata": {
    "collapsed": false
   },
   "outputs": [
    {
     "data": {
      "text/plain": [
       "(8547, 7203)"
      ]
     },
     "execution_count": 116,
     "metadata": {},
     "output_type": "execute_result"
    }
   ],
   "source": [
    "X_train.shape"
   ]
  },
  {
   "cell_type": "code",
   "execution_count": 93,
   "metadata": {
    "collapsed": false
   },
   "outputs": [
    {
     "name": "stdout",
     "output_type": "stream",
     "text": [
      "50\n",
      "100\n",
      "150\n",
      "200\n",
      "250\n",
      "300\n",
      "350\n",
      "400\n",
      "450\n",
      "500\n",
      "550\n",
      "600\n",
      "650\n",
      "700\n",
      "750\n",
      "800\n",
      "850\n",
      "900\n",
      "950\n"
     ]
    }
   ],
   "source": [
    "from sklearn.linear_model import SGDClassifier\n",
    "from sklearn.linear_model import LogisticRegression\n",
    "from sklearn.metrics import accuracy_score\n",
    "\n",
    "acc_scores_xgboost_svm = []\n",
    "# acc_scores_xgboost = []\n",
    "for n in xrange(1,1000):\n",
    "    if n % 50 == 0:\n",
    "        print(n)\n",
    "    xtrain, xtest = topXGBoostfeatures(n)\n",
    "    svm.fit(xtrain, y_train)\n",
    "    y_pred = svm.predict(xtest)\n",
    "    acc_scores_xgboost_svm.append(accuracy_score(y_test, y_pred))"
   ]
  },
  {
   "cell_type": "code",
   "execution_count": 57,
   "metadata": {
    "collapsed": false
   },
   "outputs": [
    {
     "name": "stdout",
     "output_type": "stream",
     "text": [
      "50\n",
      "100\n",
      "150\n",
      "200\n",
      "250\n",
      "300\n",
      "350\n",
      "400\n",
      "450\n",
      "500\n",
      "550\n",
      "600\n",
      "650\n",
      "700\n",
      "750\n",
      "800\n",
      "850\n",
      "900\n",
      "950\n"
     ]
    }
   ],
   "source": [
    "# acc_scores_dfs = []\n",
    "acc_scores_dfs_svm = []\n",
    "for n in xrange(1,1000):\n",
    "    if n % 50 == 0:\n",
    "        print(n)\n",
    "    xtrain, xtest = topDFSfeatures(n)\n",
    "    svm.fit(xtrain, y_train)\n",
    "    y_pred = svm.predict(xtest)\n",
    "    acc_scores_dfs_svm.append(accuracy_score(y_test, y_pred))"
   ]
  },
  {
   "cell_type": "code",
   "execution_count": 174,
   "metadata": {
    "collapsed": false
   },
   "outputs": [
    {
     "name": "stdout",
     "output_type": "stream",
     "text": [
      "0.948058025269\n"
     ]
    }
   ],
   "source": [
    "from sklearn.svm import LinearSVC\n",
    "\n",
    "svm = LinearSVC()\n",
    "\n",
    "# clf = LogisticRegression(penalty=\"l2\")\n",
    "\n",
    "# keke, keke_test = topDFSfeatures(100)\n",
    "# # keke, keke_test = topXGBoostfeatures(30)\n",
    "# svm.fit(keke, y_train)\n",
    "# y_pred = svm.predict(keke_test)\n",
    "# print(accuracy_score(y_test, y_pred))\n",
    "\n",
    "xtrain, xtest = X_train[:,featureMask], X_test[:, featureMask]\n",
    "svm.fit(xtrain, y_train)\n",
    "y_pred = svm.predict(xtest)\n",
    "print(accuracy_score(y_test, y_pred))"
   ]
  },
  {
   "cell_type": "code",
   "execution_count": 152,
   "metadata": {
    "collapsed": false
   },
   "outputs": [],
   "source": [
    "hoho, hoho_test = X_train[:, indexes.tolist()[0][3000:]], X_test[:, indexes.tolist()[0][3000:]]"
   ]
  },
  {
   "cell_type": "code",
   "execution_count": 126,
   "metadata": {
    "collapsed": false
   },
   "outputs": [
    {
     "data": {
      "image/png": "[encoded data removed]",
      "text/plain": [
       "<matplotlib.figure.Figure at 0x11bd9c890>"
      ]
     },
     "metadata": {},
     "output_type": "display_data"
    }
   ],
   "source": [
    "%matplotlib inline\n",
    "\n",
    "import matplotlib.pyplot as plt\n",
    "\n",
    "plt.plot(acc_scores_xgboost)\n",
    "plt.ylabel('Acc')\n",
    "plt.show()"
   ]
  },
  {
   "cell_type": "code",
   "execution_count": 147,
   "metadata": {
    "collapsed": false
   },
   "outputs": [
    {
     "data": {
      "image/png": "[encoded data removed]",
      "text/plain": [
       "<matplotlib.figure.Figure at 0x11cb89590>"
      ]
     },
     "metadata": {},
     "output_type": "display_data"
    }
   ],
   "source": [
    "%matplotlib inline\n",
    "\n",
    "import matplotlib.pyplot as plt\n",
    "\n",
    "plt.plot(acc_scores_dfs)\n",
    "plt.ylabel('Acc')\n",
    "plt.show()"
   ]
  },
  {
   "cell_type": "code",
   "execution_count": 58,
   "metadata": {
    "collapsed": false,
    "scrolled": true
   },
   "outputs": [
    {
     "data": {
      "image/png": "[encoded data removed]",
      "text/plain": [
       "<matplotlib.figure.Figure at 0x148603ad0>"
      ]
     },
     "metadata": {},
     "output_type": "display_data"
    }
   ],
   "source": [
    "%matplotlib inline\n",
    "\n",
    "import matplotlib.pyplot as plt\n",
    "\n",
    "plt.plot(acc_scores_dfs_svm)\n",
    "plt.ylabel('Acc')\n",
    "plt.show()"
   ]
  },
  {
   "cell_type": "code",
   "execution_count": 94,
   "metadata": {
    "collapsed": false
   },
   "outputs": [
    {
     "data": {
      "image/png": "[encoded data removed]",
      "text/plain": [
       "<matplotlib.figure.Figure at 0x144ebb710>"
      ]
     },
     "metadata": {},
     "output_type": "display_data"
    }
   ],
   "source": [
    "%matplotlib inline\n",
    "\n",
    "import matplotlib.pyplot as plt\n",
    "\n",
    "plt.plot(acc_scores_xgboost_svm)\n",
    "plt.ylabel('Acc')\n",
    "plt.show()"
   ]
  },
  {
   "cell_type": "code",
   "execution_count": 126,
   "metadata": {
    "collapsed": false
   },
   "outputs": [],
   "source": [
    "# columnNames[0][index_list_dfs][:50]"
   ]
  },
  {
   "cell_type": "code",
   "execution_count": 127,
   "metadata": {
    "collapsed": false
   },
   "outputs": [],
   "source": [
    "# columnNames[0][indexes.tolist()][:50]"
   ]
  },
  {
   "cell_type": "code",
   "execution_count": 172,
   "metadata": {
    "collapsed": false
   },
   "outputs": [
    {
     "name": "stderr",
     "output_type": "stream",
     "text": [
      "/Users/xupeng.tong/anaconda/lib/python2.7/site-packages/sklearn/linear_model/randomized_l1.py:53: DeprecationWarning:\n",
      "\n",
      "This function is deprecated. Please call randint(0, 1 + 1) instead\n",
      "\n",
      "/Users/xupeng.tong/anaconda/lib/python2.7/site-packages/sklearn/linear_model/randomized_l1.py:53: DeprecationWarning:\n",
      "\n",
      "This function is deprecated. Please call randint(0, 1 + 1) instead\n",
      "\n",
      "/Users/xupeng.tong/anaconda/lib/python2.7/site-packages/sklearn/linear_model/randomized_l1.py:53: DeprecationWarning:\n",
      "\n",
      "This function is deprecated. Please call randint(0, 1 + 1) instead\n",
      "\n",
      "/Users/xupeng.tong/anaconda/lib/python2.7/site-packages/sklearn/linear_model/randomized_l1.py:53: DeprecationWarning:\n",
      "\n",
      "This function is deprecated. Please call randint(0, 1 + 1) instead\n",
      "\n",
      "/Users/xupeng.tong/anaconda/lib/python2.7/site-packages/sklearn/linear_model/randomized_l1.py:53: DeprecationWarning:\n",
      "\n",
      "This function is deprecated. Please call randint(0, 1 + 1) instead\n",
      "\n",
      "/Users/xupeng.tong/anaconda/lib/python2.7/site-packages/sklearn/linear_model/randomized_l1.py:53: DeprecationWarning:\n",
      "\n",
      "This function is deprecated. Please call randint(0, 1 + 1) instead\n",
      "\n",
      "/Users/xupeng.tong/anaconda/lib/python2.7/site-packages/sklearn/linear_model/randomized_l1.py:53: DeprecationWarning:\n",
      "\n",
      "This function is deprecated. Please call randint(0, 1 + 1) instead\n",
      "\n",
      "/Users/xupeng.tong/anaconda/lib/python2.7/site-packages/sklearn/linear_model/randomized_l1.py:53: DeprecationWarning:\n",
      "\n",
      "This function is deprecated. Please call randint(0, 1 + 1) instead\n",
      "\n",
      "/Users/xupeng.tong/anaconda/lib/python2.7/site-packages/sklearn/linear_model/randomized_l1.py:53: DeprecationWarning:\n",
      "\n",
      "This function is deprecated. Please call randint(0, 1 + 1) instead\n",
      "\n",
      "/Users/xupeng.tong/anaconda/lib/python2.7/site-packages/sklearn/linear_model/randomized_l1.py:53: DeprecationWarning:\n",
      "\n",
      "This function is deprecated. Please call randint(0, 1 + 1) instead\n",
      "\n",
      "/Users/xupeng.tong/anaconda/lib/python2.7/site-packages/sklearn/linear_model/randomized_l1.py:53: DeprecationWarning:\n",
      "\n",
      "This function is deprecated. Please call randint(0, 1 + 1) instead\n",
      "\n",
      "/Users/xupeng.tong/anaconda/lib/python2.7/site-packages/sklearn/linear_model/randomized_l1.py:53: DeprecationWarning:\n",
      "\n",
      "This function is deprecated. Please call randint(0, 1 + 1) instead\n",
      "\n",
      "/Users/xupeng.tong/anaconda/lib/python2.7/site-packages/sklearn/linear_model/randomized_l1.py:53: DeprecationWarning:\n",
      "\n",
      "This function is deprecated. Please call randint(0, 1 + 1) instead\n",
      "\n",
      "/Users/xupeng.tong/anaconda/lib/python2.7/site-packages/sklearn/linear_model/randomized_l1.py:53: DeprecationWarning:\n",
      "\n",
      "This function is deprecated. Please call randint(0, 1 + 1) instead\n",
      "\n",
      "/Users/xupeng.tong/anaconda/lib/python2.7/site-packages/sklearn/linear_model/randomized_l1.py:53: DeprecationWarning:\n",
      "\n",
      "This function is deprecated. Please call randint(0, 1 + 1) instead\n",
      "\n",
      "/Users/xupeng.tong/anaconda/lib/python2.7/site-packages/sklearn/linear_model/randomized_l1.py:53: DeprecationWarning:\n",
      "\n",
      "This function is deprecated. Please call randint(0, 1 + 1) instead\n",
      "\n",
      "/Users/xupeng.tong/anaconda/lib/python2.7/site-packages/sklearn/linear_model/randomized_l1.py:53: DeprecationWarning:\n",
      "\n",
      "This function is deprecated. Please call randint(0, 1 + 1) instead\n",
      "\n",
      "/Users/xupeng.tong/anaconda/lib/python2.7/site-packages/sklearn/linear_model/randomized_l1.py:53: DeprecationWarning:\n",
      "\n",
      "This function is deprecated. Please call randint(0, 1 + 1) instead\n",
      "\n",
      "/Users/xupeng.tong/anaconda/lib/python2.7/site-packages/sklearn/linear_model/randomized_l1.py:53: DeprecationWarning:\n",
      "\n",
      "This function is deprecated. Please call randint(0, 1 + 1) instead\n",
      "\n",
      "/Users/xupeng.tong/anaconda/lib/python2.7/site-packages/sklearn/linear_model/randomized_l1.py:53: DeprecationWarning:\n",
      "\n",
      "This function is deprecated. Please call randint(0, 1 + 1) instead\n",
      "\n",
      "/Users/xupeng.tong/anaconda/lib/python2.7/site-packages/sklearn/linear_model/randomized_l1.py:53: DeprecationWarning:\n",
      "\n",
      "This function is deprecated. Please call randint(0, 1 + 1) instead\n",
      "\n",
      "/Users/xupeng.tong/anaconda/lib/python2.7/site-packages/sklearn/linear_model/randomized_l1.py:53: DeprecationWarning:\n",
      "\n",
      "This function is deprecated. Please call randint(0, 1 + 1) instead\n",
      "\n",
      "/Users/xupeng.tong/anaconda/lib/python2.7/site-packages/sklearn/linear_model/randomized_l1.py:53: DeprecationWarning:\n",
      "\n",
      "This function is deprecated. Please call randint(0, 1 + 1) instead\n",
      "\n",
      "/Users/xupeng.tong/anaconda/lib/python2.7/site-packages/sklearn/linear_model/randomized_l1.py:53: DeprecationWarning:\n",
      "\n",
      "This function is deprecated. Please call randint(0, 1 + 1) instead\n",
      "\n",
      "/Users/xupeng.tong/anaconda/lib/python2.7/site-packages/sklearn/linear_model/randomized_l1.py:53: DeprecationWarning:\n",
      "\n",
      "This function is deprecated. Please call randint(0, 1 + 1) instead\n",
      "\n",
      "/Users/xupeng.tong/anaconda/lib/python2.7/site-packages/sklearn/linear_model/randomized_l1.py:53: DeprecationWarning:\n",
      "\n",
      "This function is deprecated. Please call randint(0, 1 + 1) instead\n",
      "\n",
      "/Users/xupeng.tong/anaconda/lib/python2.7/site-packages/sklearn/linear_model/randomized_l1.py:53: DeprecationWarning:\n",
      "\n",
      "This function is deprecated. Please call randint(0, 1 + 1) instead\n",
      "\n",
      "/Users/xupeng.tong/anaconda/lib/python2.7/site-packages/sklearn/linear_model/randomized_l1.py:53: DeprecationWarning:\n",
      "\n",
      "This function is deprecated. Please call randint(0, 1 + 1) instead\n",
      "\n",
      "/Users/xupeng.tong/anaconda/lib/python2.7/site-packages/sklearn/linear_model/randomized_l1.py:53: DeprecationWarning:\n",
      "\n",
      "This function is deprecated. Please call randint(0, 1 + 1) instead\n",
      "\n",
      "/Users/xupeng.tong/anaconda/lib/python2.7/site-packages/sklearn/linear_model/randomized_l1.py:53: DeprecationWarning:\n",
      "\n",
      "This function is deprecated. Please call randint(0, 1 + 1) instead\n",
      "\n",
      "/Users/xupeng.tong/anaconda/lib/python2.7/site-packages/sklearn/linear_model/randomized_l1.py:53: DeprecationWarning:\n",
      "\n",
      "This function is deprecated. Please call randint(0, 1 + 1) instead\n",
      "\n",
      "/Users/xupeng.tong/anaconda/lib/python2.7/site-packages/sklearn/linear_model/randomized_l1.py:53: DeprecationWarning:\n",
      "\n",
      "This function is deprecated. Please call randint(0, 1 + 1) instead\n",
      "\n",
      "/Users/xupeng.tong/anaconda/lib/python2.7/site-packages/sklearn/linear_model/randomized_l1.py:53: DeprecationWarning:\n",
      "\n",
      "This function is deprecated. Please call randint(0, 1 + 1) instead\n",
      "\n",
      "/Users/xupeng.tong/anaconda/lib/python2.7/site-packages/sklearn/linear_model/randomized_l1.py:53: DeprecationWarning:\n",
      "\n",
      "This function is deprecated. Please call randint(0, 1 + 1) instead\n",
      "\n",
      "/Users/xupeng.tong/anaconda/lib/python2.7/site-packages/sklearn/linear_model/randomized_l1.py:53: DeprecationWarning:\n",
      "\n",
      "This function is deprecated. Please call randint(0, 1 + 1) instead\n",
      "\n",
      "/Users/xupeng.tong/anaconda/lib/python2.7/site-packages/sklearn/linear_model/randomized_l1.py:53: DeprecationWarning:\n",
      "\n",
      "This function is deprecated. Please call randint(0, 1 + 1) instead\n",
      "\n",
      "/Users/xupeng.tong/anaconda/lib/python2.7/site-packages/sklearn/linear_model/randomized_l1.py:53: DeprecationWarning:\n",
      "\n",
      "This function is deprecated. Please call randint(0, 1 + 1) instead\n",
      "\n",
      "/Users/xupeng.tong/anaconda/lib/python2.7/site-packages/sklearn/linear_model/randomized_l1.py:53: DeprecationWarning:\n",
      "\n",
      "This function is deprecated. Please call randint(0, 1 + 1) instead\n",
      "\n",
      "/Users/xupeng.tong/anaconda/lib/python2.7/site-packages/sklearn/linear_model/randomized_l1.py:53: DeprecationWarning:\n",
      "\n",
      "This function is deprecated. Please call randint(0, 1 + 1) instead\n",
      "\n",
      "/Users/xupeng.tong/anaconda/lib/python2.7/site-packages/sklearn/linear_model/randomized_l1.py:53: DeprecationWarning:\n",
      "\n",
      "This function is deprecated. Please call randint(0, 1 + 1) instead\n",
      "\n",
      "/Users/xupeng.tong/anaconda/lib/python2.7/site-packages/sklearn/linear_model/randomized_l1.py:53: DeprecationWarning:\n",
      "\n",
      "This function is deprecated. Please call randint(0, 1 + 1) instead\n",
      "\n",
      "/Users/xupeng.tong/anaconda/lib/python2.7/site-packages/sklearn/linear_model/randomized_l1.py:53: DeprecationWarning:\n",
      "\n",
      "This function is deprecated. Please call randint(0, 1 + 1) instead\n",
      "\n",
      "/Users/xupeng.tong/anaconda/lib/python2.7/site-packages/sklearn/linear_model/randomized_l1.py:53: DeprecationWarning:\n",
      "\n",
      "This function is deprecated. Please call randint(0, 1 + 1) instead\n",
      "\n",
      "/Users/xupeng.tong/anaconda/lib/python2.7/site-packages/sklearn/linear_model/randomized_l1.py:53: DeprecationWarning:\n",
      "\n",
      "This function is deprecated. Please call randint(0, 1 + 1) instead\n",
      "\n",
      "/Users/xupeng.tong/anaconda/lib/python2.7/site-packages/sklearn/linear_model/randomized_l1.py:53: DeprecationWarning:\n",
      "\n",
      "This function is deprecated. Please call randint(0, 1 + 1) instead\n",
      "\n",
      "/Users/xupeng.tong/anaconda/lib/python2.7/site-packages/sklearn/linear_model/randomized_l1.py:53: DeprecationWarning:\n",
      "\n",
      "This function is deprecated. Please call randint(0, 1 + 1) instead\n",
      "\n",
      "/Users/xupeng.tong/anaconda/lib/python2.7/site-packages/sklearn/linear_model/randomized_l1.py:53: DeprecationWarning:\n",
      "\n",
      "This function is deprecated. Please call randint(0, 1 + 1) instead\n",
      "\n",
      "/Users/xupeng.tong/anaconda/lib/python2.7/site-packages/sklearn/linear_model/randomized_l1.py:53: DeprecationWarning:\n",
      "\n",
      "This function is deprecated. Please call randint(0, 1 + 1) instead\n",
      "\n",
      "/Users/xupeng.tong/anaconda/lib/python2.7/site-packages/sklearn/linear_model/randomized_l1.py:53: DeprecationWarning:\n",
      "\n",
      "This function is deprecated. Please call randint(0, 1 + 1) instead\n",
      "\n",
      "/Users/xupeng.tong/anaconda/lib/python2.7/site-packages/sklearn/linear_model/randomized_l1.py:53: DeprecationWarning:\n",
      "\n",
      "This function is deprecated. Please call randint(0, 1 + 1) instead\n",
      "\n",
      "/Users/xupeng.tong/anaconda/lib/python2.7/site-packages/sklearn/linear_model/randomized_l1.py:53: DeprecationWarning:\n",
      "\n",
      "This function is deprecated. Please call randint(0, 1 + 1) instead\n",
      "\n",
      "/Users/xupeng.tong/anaconda/lib/python2.7/site-packages/sklearn/linear_model/randomized_l1.py:53: DeprecationWarning:\n",
      "\n",
      "This function is deprecated. Please call randint(0, 1 + 1) instead\n",
      "\n",
      "/Users/xupeng.tong/anaconda/lib/python2.7/site-packages/sklearn/linear_model/randomized_l1.py:53: DeprecationWarning:\n",
      "\n",
      "This function is deprecated. Please call randint(0, 1 + 1) instead\n",
      "\n",
      "/Users/xupeng.tong/anaconda/lib/python2.7/site-packages/sklearn/linear_model/randomized_l1.py:53: DeprecationWarning:\n",
      "\n",
      "This function is deprecated. Please call randint(0, 1 + 1) instead\n",
      "\n",
      "/Users/xupeng.tong/anaconda/lib/python2.7/site-packages/sklearn/linear_model/randomized_l1.py:53: DeprecationWarning:\n",
      "\n",
      "This function is deprecated. Please call randint(0, 1 + 1) instead\n",
      "\n",
      "/Users/xupeng.tong/anaconda/lib/python2.7/site-packages/sklearn/linear_model/randomized_l1.py:53: DeprecationWarning:\n",
      "\n",
      "This function is deprecated. Please call randint(0, 1 + 1) instead\n",
      "\n",
      "/Users/xupeng.tong/anaconda/lib/python2.7/site-packages/sklearn/linear_model/randomized_l1.py:53: DeprecationWarning:\n",
      "\n",
      "This function is deprecated. Please call randint(0, 1 + 1) instead\n",
      "\n",
      "/Users/xupeng.tong/anaconda/lib/python2.7/site-packages/sklearn/linear_model/randomized_l1.py:53: DeprecationWarning:\n",
      "\n",
      "This function is deprecated. Please call randint(0, 1 + 1) instead\n",
      "\n",
      "/Users/xupeng.tong/anaconda/lib/python2.7/site-packages/sklearn/linear_model/randomized_l1.py:53: DeprecationWarning:\n",
      "\n",
      "This function is deprecated. Please call randint(0, 1 + 1) instead\n",
      "\n",
      "/Users/xupeng.tong/anaconda/lib/python2.7/site-packages/sklearn/linear_model/randomized_l1.py:53: DeprecationWarning:\n",
      "\n",
      "This function is deprecated. Please call randint(0, 1 + 1) instead\n",
      "\n",
      "/Users/xupeng.tong/anaconda/lib/python2.7/site-packages/sklearn/linear_model/randomized_l1.py:53: DeprecationWarning:\n",
      "\n",
      "This function is deprecated. Please call randint(0, 1 + 1) instead\n",
      "\n",
      "/Users/xupeng.tong/anaconda/lib/python2.7/site-packages/sklearn/linear_model/randomized_l1.py:53: DeprecationWarning:\n",
      "\n",
      "This function is deprecated. Please call randint(0, 1 + 1) instead\n",
      "\n",
      "/Users/xupeng.tong/anaconda/lib/python2.7/site-packages/sklearn/linear_model/randomized_l1.py:53: DeprecationWarning:\n",
      "\n",
      "This function is deprecated. Please call randint(0, 1 + 1) instead\n",
      "\n",
      "/Users/xupeng.tong/anaconda/lib/python2.7/site-packages/sklearn/linear_model/randomized_l1.py:53: DeprecationWarning:\n",
      "\n",
      "This function is deprecated. Please call randint(0, 1 + 1) instead\n",
      "\n",
      "/Users/xupeng.tong/anaconda/lib/python2.7/site-packages/sklearn/linear_model/randomized_l1.py:53: DeprecationWarning:\n",
      "\n",
      "This function is deprecated. Please call randint(0, 1 + 1) instead\n",
      "\n",
      "/Users/xupeng.tong/anaconda/lib/python2.7/site-packages/sklearn/linear_model/randomized_l1.py:53: DeprecationWarning:\n",
      "\n",
      "This function is deprecated. Please call randint(0, 1 + 1) instead\n",
      "\n",
      "/Users/xupeng.tong/anaconda/lib/python2.7/site-packages/sklearn/linear_model/randomized_l1.py:53: DeprecationWarning:\n",
      "\n",
      "This function is deprecated. Please call randint(0, 1 + 1) instead\n",
      "\n",
      "/Users/xupeng.tong/anaconda/lib/python2.7/site-packages/sklearn/linear_model/randomized_l1.py:53: DeprecationWarning:\n",
      "\n",
      "This function is deprecated. Please call randint(0, 1 + 1) instead\n",
      "\n",
      "/Users/xupeng.tong/anaconda/lib/python2.7/site-packages/sklearn/linear_model/randomized_l1.py:53: DeprecationWarning:\n",
      "\n",
      "This function is deprecated. Please call randint(0, 1 + 1) instead\n",
      "\n",
      "/Users/xupeng.tong/anaconda/lib/python2.7/site-packages/sklearn/linear_model/randomized_l1.py:53: DeprecationWarning:\n",
      "\n",
      "This function is deprecated. Please call randint(0, 1 + 1) instead\n",
      "\n",
      "/Users/xupeng.tong/anaconda/lib/python2.7/site-packages/sklearn/linear_model/randomized_l1.py:53: DeprecationWarning:\n",
      "\n",
      "This function is deprecated. Please call randint(0, 1 + 1) instead\n",
      "\n",
      "/Users/xupeng.tong/anaconda/lib/python2.7/site-packages/sklearn/linear_model/randomized_l1.py:53: DeprecationWarning:\n",
      "\n",
      "This function is deprecated. Please call randint(0, 1 + 1) instead\n",
      "\n",
      "/Users/xupeng.tong/anaconda/lib/python2.7/site-packages/sklearn/linear_model/randomized_l1.py:53: DeprecationWarning:\n",
      "\n",
      "This function is deprecated. Please call randint(0, 1 + 1) instead\n",
      "\n",
      "/Users/xupeng.tong/anaconda/lib/python2.7/site-packages/sklearn/linear_model/randomized_l1.py:53: DeprecationWarning:\n",
      "\n",
      "This function is deprecated. Please call randint(0, 1 + 1) instead\n",
      "\n",
      "/Users/xupeng.tong/anaconda/lib/python2.7/site-packages/sklearn/linear_model/randomized_l1.py:53: DeprecationWarning:\n",
      "\n",
      "This function is deprecated. Please call randint(0, 1 + 1) instead\n",
      "\n",
      "/Users/xupeng.tong/anaconda/lib/python2.7/site-packages/sklearn/linear_model/randomized_l1.py:53: DeprecationWarning:\n",
      "\n",
      "This function is deprecated. Please call randint(0, 1 + 1) instead\n",
      "\n",
      "/Users/xupeng.tong/anaconda/lib/python2.7/site-packages/sklearn/linear_model/randomized_l1.py:53: DeprecationWarning:\n",
      "\n",
      "This function is deprecated. Please call randint(0, 1 + 1) instead\n",
      "\n",
      "/Users/xupeng.tong/anaconda/lib/python2.7/site-packages/sklearn/linear_model/randomized_l1.py:53: DeprecationWarning:\n",
      "\n",
      "This function is deprecated. Please call randint(0, 1 + 1) instead\n",
      "\n",
      "/Users/xupeng.tong/anaconda/lib/python2.7/site-packages/sklearn/linear_model/randomized_l1.py:53: DeprecationWarning:\n",
      "\n",
      "This function is deprecated. Please call randint(0, 1 + 1) instead\n",
      "\n",
      "/Users/xupeng.tong/anaconda/lib/python2.7/site-packages/sklearn/linear_model/randomized_l1.py:53: DeprecationWarning:\n",
      "\n",
      "This function is deprecated. Please call randint(0, 1 + 1) instead\n",
      "\n",
      "/Users/xupeng.tong/anaconda/lib/python2.7/site-packages/sklearn/linear_model/randomized_l1.py:53: DeprecationWarning:\n",
      "\n",
      "This function is deprecated. Please call randint(0, 1 + 1) instead\n",
      "\n",
      "/Users/xupeng.tong/anaconda/lib/python2.7/site-packages/sklearn/linear_model/randomized_l1.py:53: DeprecationWarning:\n",
      "\n",
      "This function is deprecated. Please call randint(0, 1 + 1) instead\n",
      "\n",
      "/Users/xupeng.tong/anaconda/lib/python2.7/site-packages/sklearn/linear_model/randomized_l1.py:53: DeprecationWarning:\n",
      "\n",
      "This function is deprecated. Please call randint(0, 1 + 1) instead\n",
      "\n",
      "/Users/xupeng.tong/anaconda/lib/python2.7/site-packages/sklearn/linear_model/randomized_l1.py:53: DeprecationWarning:\n",
      "\n",
      "This function is deprecated. Please call randint(0, 1 + 1) instead\n",
      "\n",
      "/Users/xupeng.tong/anaconda/lib/python2.7/site-packages/sklearn/linear_model/randomized_l1.py:53: DeprecationWarning:\n",
      "\n",
      "This function is deprecated. Please call randint(0, 1 + 1) instead\n",
      "\n",
      "/Users/xupeng.tong/anaconda/lib/python2.7/site-packages/sklearn/linear_model/randomized_l1.py:53: DeprecationWarning:\n",
      "\n",
      "This function is deprecated. Please call randint(0, 1 + 1) instead\n",
      "\n",
      "/Users/xupeng.tong/anaconda/lib/python2.7/site-packages/sklearn/linear_model/randomized_l1.py:53: DeprecationWarning:\n",
      "\n",
      "This function is deprecated. Please call randint(0, 1 + 1) instead\n",
      "\n",
      "/Users/xupeng.tong/anaconda/lib/python2.7/site-packages/sklearn/linear_model/randomized_l1.py:53: DeprecationWarning:\n",
      "\n",
      "This function is deprecated. Please call randint(0, 1 + 1) instead\n",
      "\n",
      "/Users/xupeng.tong/anaconda/lib/python2.7/site-packages/sklearn/linear_model/randomized_l1.py:53: DeprecationWarning:\n",
      "\n",
      "This function is deprecated. Please call randint(0, 1 + 1) instead\n",
      "\n",
      "/Users/xupeng.tong/anaconda/lib/python2.7/site-packages/sklearn/linear_model/randomized_l1.py:53: DeprecationWarning:\n",
      "\n",
      "This function is deprecated. Please call randint(0, 1 + 1) instead\n",
      "\n",
      "/Users/xupeng.tong/anaconda/lib/python2.7/site-packages/sklearn/linear_model/randomized_l1.py:53: DeprecationWarning:\n",
      "\n",
      "This function is deprecated. Please call randint(0, 1 + 1) instead\n",
      "\n",
      "/Users/xupeng.tong/anaconda/lib/python2.7/site-packages/sklearn/linear_model/randomized_l1.py:53: DeprecationWarning:\n",
      "\n",
      "This function is deprecated. Please call randint(0, 1 + 1) instead\n",
      "\n",
      "/Users/xupeng.tong/anaconda/lib/python2.7/site-packages/sklearn/linear_model/randomized_l1.py:53: DeprecationWarning:\n",
      "\n",
      "This function is deprecated. Please call randint(0, 1 + 1) instead\n",
      "\n",
      "/Users/xupeng.tong/anaconda/lib/python2.7/site-packages/sklearn/linear_model/randomized_l1.py:53: DeprecationWarning:\n",
      "\n",
      "This function is deprecated. Please call randint(0, 1 + 1) instead\n",
      "\n",
      "/Users/xupeng.tong/anaconda/lib/python2.7/site-packages/sklearn/linear_model/randomized_l1.py:53: DeprecationWarning:\n",
      "\n",
      "This function is deprecated. Please call randint(0, 1 + 1) instead\n",
      "\n",
      "/Users/xupeng.tong/anaconda/lib/python2.7/site-packages/sklearn/linear_model/randomized_l1.py:53: DeprecationWarning:\n",
      "\n",
      "This function is deprecated. Please call randint(0, 1 + 1) instead\n",
      "\n",
      "/Users/xupeng.tong/anaconda/lib/python2.7/site-packages/sklearn/linear_model/randomized_l1.py:53: DeprecationWarning:\n",
      "\n",
      "This function is deprecated. Please call randint(0, 1 + 1) instead\n",
      "\n",
      "/Users/xupeng.tong/anaconda/lib/python2.7/site-packages/sklearn/linear_model/randomized_l1.py:53: DeprecationWarning:\n",
      "\n",
      "This function is deprecated. Please call randint(0, 1 + 1) instead\n",
      "\n",
      "/Users/xupeng.tong/anaconda/lib/python2.7/site-packages/sklearn/linear_model/randomized_l1.py:53: DeprecationWarning:\n",
      "\n",
      "This function is deprecated. Please call randint(0, 1 + 1) instead\n",
      "\n",
      "/Users/xupeng.tong/anaconda/lib/python2.7/site-packages/sklearn/linear_model/randomized_l1.py:53: DeprecationWarning:\n",
      "\n",
      "This function is deprecated. Please call randint(0, 1 + 1) instead\n",
      "\n",
      "/Users/xupeng.tong/anaconda/lib/python2.7/site-packages/sklearn/linear_model/randomized_l1.py:53: DeprecationWarning:\n",
      "\n",
      "This function is deprecated. Please call randint(0, 1 + 1) instead\n",
      "\n",
      "/Users/xupeng.tong/anaconda/lib/python2.7/site-packages/sklearn/linear_model/randomized_l1.py:53: DeprecationWarning:\n",
      "\n",
      "This function is deprecated. Please call randint(0, 1 + 1) instead\n",
      "\n",
      "/Users/xupeng.tong/anaconda/lib/python2.7/site-packages/sklearn/linear_model/randomized_l1.py:53: DeprecationWarning:\n",
      "\n",
      "This function is deprecated. Please call randint(0, 1 + 1) instead\n",
      "\n",
      "/Users/xupeng.tong/anaconda/lib/python2.7/site-packages/sklearn/linear_model/randomized_l1.py:53: DeprecationWarning:\n",
      "\n",
      "This function is deprecated. Please call randint(0, 1 + 1) instead\n",
      "\n",
      "/Users/xupeng.tong/anaconda/lib/python2.7/site-packages/sklearn/linear_model/randomized_l1.py:53: DeprecationWarning:\n",
      "\n",
      "This function is deprecated. Please call randint(0, 1 + 1) instead\n",
      "\n",
      "/Users/xupeng.tong/anaconda/lib/python2.7/site-packages/sklearn/linear_model/randomized_l1.py:53: DeprecationWarning:\n",
      "\n",
      "This function is deprecated. Please call randint(0, 1 + 1) instead\n",
      "\n",
      "/Users/xupeng.tong/anaconda/lib/python2.7/site-packages/sklearn/linear_model/randomized_l1.py:53: DeprecationWarning:\n",
      "\n",
      "This function is deprecated. Please call randint(0, 1 + 1) instead\n",
      "\n",
      "/Users/xupeng.tong/anaconda/lib/python2.7/site-packages/sklearn/linear_model/randomized_l1.py:53: DeprecationWarning:\n",
      "\n",
      "This function is deprecated. Please call randint(0, 1 + 1) instead\n",
      "\n",
      "/Users/xupeng.tong/anaconda/lib/python2.7/site-packages/sklearn/linear_model/randomized_l1.py:53: DeprecationWarning:\n",
      "\n",
      "This function is deprecated. Please call randint(0, 1 + 1) instead\n",
      "\n",
      "/Users/xupeng.tong/anaconda/lib/python2.7/site-packages/sklearn/linear_model/randomized_l1.py:53: DeprecationWarning:\n",
      "\n",
      "This function is deprecated. Please call randint(0, 1 + 1) instead\n",
      "\n",
      "/Users/xupeng.tong/anaconda/lib/python2.7/site-packages/sklearn/linear_model/randomized_l1.py:53: DeprecationWarning:\n",
      "\n",
      "This function is deprecated. Please call randint(0, 1 + 1) instead\n",
      "\n",
      "/Users/xupeng.tong/anaconda/lib/python2.7/site-packages/sklearn/linear_model/randomized_l1.py:53: DeprecationWarning:\n",
      "\n",
      "This function is deprecated. Please call randint(0, 1 + 1) instead\n",
      "\n",
      "/Users/xupeng.tong/anaconda/lib/python2.7/site-packages/sklearn/linear_model/randomized_l1.py:53: DeprecationWarning:\n",
      "\n",
      "This function is deprecated. Please call randint(0, 1 + 1) instead\n",
      "\n",
      "/Users/xupeng.tong/anaconda/lib/python2.7/site-packages/sklearn/linear_model/randomized_l1.py:53: DeprecationWarning:\n",
      "\n",
      "This function is deprecated. Please call randint(0, 1 + 1) instead\n",
      "\n",
      "/Users/xupeng.tong/anaconda/lib/python2.7/site-packages/sklearn/linear_model/randomized_l1.py:53: DeprecationWarning:\n",
      "\n",
      "This function is deprecated. Please call randint(0, 1 + 1) instead\n",
      "\n",
      "/Users/xupeng.tong/anaconda/lib/python2.7/site-packages/sklearn/linear_model/randomized_l1.py:53: DeprecationWarning:\n",
      "\n",
      "This function is deprecated. Please call randint(0, 1 + 1) instead\n",
      "\n",
      "/Users/xupeng.tong/anaconda/lib/python2.7/site-packages/sklearn/linear_model/randomized_l1.py:53: DeprecationWarning:\n",
      "\n",
      "This function is deprecated. Please call randint(0, 1 + 1) instead\n",
      "\n",
      "/Users/xupeng.tong/anaconda/lib/python2.7/site-packages/sklearn/linear_model/randomized_l1.py:53: DeprecationWarning:\n",
      "\n",
      "This function is deprecated. Please call randint(0, 1 + 1) instead\n",
      "\n",
      "/Users/xupeng.tong/anaconda/lib/python2.7/site-packages/sklearn/linear_model/randomized_l1.py:53: DeprecationWarning:\n",
      "\n",
      "This function is deprecated. Please call randint(0, 1 + 1) instead\n",
      "\n",
      "/Users/xupeng.tong/anaconda/lib/python2.7/site-packages/sklearn/linear_model/randomized_l1.py:53: DeprecationWarning:\n",
      "\n",
      "This function is deprecated. Please call randint(0, 1 + 1) instead\n",
      "\n",
      "/Users/xupeng.tong/anaconda/lib/python2.7/site-packages/sklearn/linear_model/randomized_l1.py:53: DeprecationWarning:\n",
      "\n",
      "This function is deprecated. Please call randint(0, 1 + 1) instead\n",
      "\n",
      "/Users/xupeng.tong/anaconda/lib/python2.7/site-packages/sklearn/linear_model/randomized_l1.py:53: DeprecationWarning:\n",
      "\n",
      "This function is deprecated. Please call randint(0, 1 + 1) instead\n",
      "\n",
      "/Users/xupeng.tong/anaconda/lib/python2.7/site-packages/sklearn/linear_model/randomized_l1.py:53: DeprecationWarning:\n",
      "\n",
      "This function is deprecated. Please call randint(0, 1 + 1) instead\n",
      "\n",
      "/Users/xupeng.tong/anaconda/lib/python2.7/site-packages/sklearn/linear_model/randomized_l1.py:53: DeprecationWarning:\n",
      "\n",
      "This function is deprecated. Please call randint(0, 1 + 1) instead\n",
      "\n",
      "/Users/xupeng.tong/anaconda/lib/python2.7/site-packages/sklearn/linear_model/randomized_l1.py:53: DeprecationWarning:\n",
      "\n",
      "This function is deprecated. Please call randint(0, 1 + 1) instead\n",
      "\n",
      "/Users/xupeng.tong/anaconda/lib/python2.7/site-packages/sklearn/linear_model/randomized_l1.py:53: DeprecationWarning:\n",
      "\n",
      "This function is deprecated. Please call randint(0, 1 + 1) instead\n",
      "\n",
      "/Users/xupeng.tong/anaconda/lib/python2.7/site-packages/sklearn/linear_model/randomized_l1.py:53: DeprecationWarning:\n",
      "\n",
      "This function is deprecated. Please call randint(0, 1 + 1) instead\n",
      "\n",
      "/Users/xupeng.tong/anaconda/lib/python2.7/site-packages/sklearn/linear_model/randomized_l1.py:53: DeprecationWarning:\n",
      "\n",
      "This function is deprecated. Please call randint(0, 1 + 1) instead\n",
      "\n",
      "/Users/xupeng.tong/anaconda/lib/python2.7/site-packages/sklearn/linear_model/randomized_l1.py:53: DeprecationWarning:\n",
      "\n",
      "This function is deprecated. Please call randint(0, 1 + 1) instead\n",
      "\n",
      "/Users/xupeng.tong/anaconda/lib/python2.7/site-packages/sklearn/linear_model/randomized_l1.py:53: DeprecationWarning:\n",
      "\n",
      "This function is deprecated. Please call randint(0, 1 + 1) instead\n",
      "\n",
      "/Users/xupeng.tong/anaconda/lib/python2.7/site-packages/sklearn/linear_model/randomized_l1.py:53: DeprecationWarning:\n",
      "\n",
      "This function is deprecated. Please call randint(0, 1 + 1) instead\n",
      "\n",
      "/Users/xupeng.tong/anaconda/lib/python2.7/site-packages/sklearn/linear_model/randomized_l1.py:53: DeprecationWarning:\n",
      "\n",
      "This function is deprecated. Please call randint(0, 1 + 1) instead\n",
      "\n",
      "/Users/xupeng.tong/anaconda/lib/python2.7/site-packages/sklearn/linear_model/randomized_l1.py:53: DeprecationWarning:\n",
      "\n",
      "This function is deprecated. Please call randint(0, 1 + 1) instead\n",
      "\n",
      "/Users/xupeng.tong/anaconda/lib/python2.7/site-packages/sklearn/linear_model/randomized_l1.py:53: DeprecationWarning:\n",
      "\n",
      "This function is deprecated. Please call randint(0, 1 + 1) instead\n",
      "\n",
      "/Users/xupeng.tong/anaconda/lib/python2.7/site-packages/sklearn/linear_model/randomized_l1.py:53: DeprecationWarning:\n",
      "\n",
      "This function is deprecated. Please call randint(0, 1 + 1) instead\n",
      "\n",
      "/Users/xupeng.tong/anaconda/lib/python2.7/site-packages/sklearn/linear_model/randomized_l1.py:53: DeprecationWarning:\n",
      "\n",
      "This function is deprecated. Please call randint(0, 1 + 1) instead\n",
      "\n",
      "/Users/xupeng.tong/anaconda/lib/python2.7/site-packages/sklearn/linear_model/randomized_l1.py:53: DeprecationWarning:\n",
      "\n",
      "This function is deprecated. Please call randint(0, 1 + 1) instead\n",
      "\n",
      "/Users/xupeng.tong/anaconda/lib/python2.7/site-packages/sklearn/linear_model/randomized_l1.py:53: DeprecationWarning:\n",
      "\n",
      "This function is deprecated. Please call randint(0, 1 + 1) instead\n",
      "\n",
      "/Users/xupeng.tong/anaconda/lib/python2.7/site-packages/sklearn/linear_model/randomized_l1.py:53: DeprecationWarning:\n",
      "\n",
      "This function is deprecated. Please call randint(0, 1 + 1) instead\n",
      "\n",
      "/Users/xupeng.tong/anaconda/lib/python2.7/site-packages/sklearn/linear_model/randomized_l1.py:53: DeprecationWarning:\n",
      "\n",
      "This function is deprecated. Please call randint(0, 1 + 1) instead\n",
      "\n",
      "/Users/xupeng.tong/anaconda/lib/python2.7/site-packages/sklearn/linear_model/randomized_l1.py:53: DeprecationWarning:\n",
      "\n",
      "This function is deprecated. Please call randint(0, 1 + 1) instead\n",
      "\n",
      "/Users/xupeng.tong/anaconda/lib/python2.7/site-packages/sklearn/linear_model/randomized_l1.py:53: DeprecationWarning:\n",
      "\n",
      "This function is deprecated. Please call randint(0, 1 + 1) instead\n",
      "\n",
      "/Users/xupeng.tong/anaconda/lib/python2.7/site-packages/sklearn/linear_model/randomized_l1.py:53: DeprecationWarning:\n",
      "\n",
      "This function is deprecated. Please call randint(0, 1 + 1) instead\n",
      "\n",
      "/Users/xupeng.tong/anaconda/lib/python2.7/site-packages/sklearn/linear_model/randomized_l1.py:53: DeprecationWarning:\n",
      "\n",
      "This function is deprecated. Please call randint(0, 1 + 1) instead\n",
      "\n",
      "/Users/xupeng.tong/anaconda/lib/python2.7/site-packages/sklearn/linear_model/randomized_l1.py:53: DeprecationWarning:\n",
      "\n",
      "This function is deprecated. Please call randint(0, 1 + 1) instead\n",
      "\n",
      "/Users/xupeng.tong/anaconda/lib/python2.7/site-packages/sklearn/linear_model/randomized_l1.py:53: DeprecationWarning:\n",
      "\n",
      "This function is deprecated. Please call randint(0, 1 + 1) instead\n",
      "\n",
      "/Users/xupeng.tong/anaconda/lib/python2.7/site-packages/sklearn/linear_model/randomized_l1.py:53: DeprecationWarning:\n",
      "\n",
      "This function is deprecated. Please call randint(0, 1 + 1) instead\n",
      "\n",
      "/Users/xupeng.tong/anaconda/lib/python2.7/site-packages/sklearn/linear_model/randomized_l1.py:53: DeprecationWarning:\n",
      "\n",
      "This function is deprecated. Please call randint(0, 1 + 1) instead\n",
      "\n",
      "/Users/xupeng.tong/anaconda/lib/python2.7/site-packages/sklearn/linear_model/randomized_l1.py:53: DeprecationWarning:\n",
      "\n",
      "This function is deprecated. Please call randint(0, 1 + 1) instead\n",
      "\n",
      "/Users/xupeng.tong/anaconda/lib/python2.7/site-packages/sklearn/linear_model/randomized_l1.py:53: DeprecationWarning:\n",
      "\n",
      "This function is deprecated. Please call randint(0, 1 + 1) instead\n",
      "\n",
      "/Users/xupeng.tong/anaconda/lib/python2.7/site-packages/sklearn/linear_model/randomized_l1.py:53: DeprecationWarning:\n",
      "\n",
      "This function is deprecated. Please call randint(0, 1 + 1) instead\n",
      "\n",
      "/Users/xupeng.tong/anaconda/lib/python2.7/site-packages/sklearn/linear_model/randomized_l1.py:53: DeprecationWarning:\n",
      "\n",
      "This function is deprecated. Please call randint(0, 1 + 1) instead\n",
      "\n",
      "/Users/xupeng.tong/anaconda/lib/python2.7/site-packages/sklearn/linear_model/randomized_l1.py:53: DeprecationWarning:\n",
      "\n",
      "This function is deprecated. Please call randint(0, 1 + 1) instead\n",
      "\n",
      "/Users/xupeng.tong/anaconda/lib/python2.7/site-packages/sklearn/linear_model/randomized_l1.py:53: DeprecationWarning:\n",
      "\n",
      "This function is deprecated. Please call randint(0, 1 + 1) instead\n",
      "\n",
      "/Users/xupeng.tong/anaconda/lib/python2.7/site-packages/sklearn/linear_model/randomized_l1.py:53: DeprecationWarning:\n",
      "\n",
      "This function is deprecated. Please call randint(0, 1 + 1) instead\n",
      "\n",
      "/Users/xupeng.tong/anaconda/lib/python2.7/site-packages/sklearn/linear_model/randomized_l1.py:53: DeprecationWarning:\n",
      "\n",
      "This function is deprecated. Please call randint(0, 1 + 1) instead\n",
      "\n",
      "/Users/xupeng.tong/anaconda/lib/python2.7/site-packages/sklearn/linear_model/randomized_l1.py:53: DeprecationWarning:\n",
      "\n",
      "This function is deprecated. Please call randint(0, 1 + 1) instead\n",
      "\n",
      "/Users/xupeng.tong/anaconda/lib/python2.7/site-packages/sklearn/linear_model/randomized_l1.py:53: DeprecationWarning:\n",
      "\n",
      "This function is deprecated. Please call randint(0, 1 + 1) instead\n",
      "\n",
      "/Users/xupeng.tong/anaconda/lib/python2.7/site-packages/sklearn/linear_model/randomized_l1.py:53: DeprecationWarning:\n",
      "\n",
      "This function is deprecated. Please call randint(0, 1 + 1) instead\n",
      "\n",
      "/Users/xupeng.tong/anaconda/lib/python2.7/site-packages/sklearn/linear_model/randomized_l1.py:53: DeprecationWarning:\n",
      "\n",
      "This function is deprecated. Please call randint(0, 1 + 1) instead\n",
      "\n",
      "/Users/xupeng.tong/anaconda/lib/python2.7/site-packages/sklearn/linear_model/randomized_l1.py:53: DeprecationWarning:\n",
      "\n",
      "This function is deprecated. Please call randint(0, 1 + 1) instead\n",
      "\n",
      "/Users/xupeng.tong/anaconda/lib/python2.7/site-packages/sklearn/linear_model/randomized_l1.py:53: DeprecationWarning:\n",
      "\n",
      "This function is deprecated. Please call randint(0, 1 + 1) instead\n",
      "\n",
      "/Users/xupeng.tong/anaconda/lib/python2.7/site-packages/sklearn/linear_model/randomized_l1.py:53: DeprecationWarning:\n",
      "\n",
      "This function is deprecated. Please call randint(0, 1 + 1) instead\n",
      "\n",
      "/Users/xupeng.tong/anaconda/lib/python2.7/site-packages/sklearn/linear_model/randomized_l1.py:53: DeprecationWarning:\n",
      "\n",
      "This function is deprecated. Please call randint(0, 1 + 1) instead\n",
      "\n",
      "/Users/xupeng.tong/anaconda/lib/python2.7/site-packages/sklearn/linear_model/randomized_l1.py:53: DeprecationWarning:\n",
      "\n",
      "This function is deprecated. Please call randint(0, 1 + 1) instead\n",
      "\n",
      "/Users/xupeng.tong/anaconda/lib/python2.7/site-packages/sklearn/linear_model/randomized_l1.py:53: DeprecationWarning:\n",
      "\n",
      "This function is deprecated. Please call randint(0, 1 + 1) instead\n",
      "\n",
      "/Users/xupeng.tong/anaconda/lib/python2.7/site-packages/sklearn/linear_model/randomized_l1.py:53: DeprecationWarning:\n",
      "\n",
      "This function is deprecated. Please call randint(0, 1 + 1) instead\n",
      "\n",
      "/Users/xupeng.tong/anaconda/lib/python2.7/site-packages/sklearn/linear_model/randomized_l1.py:53: DeprecationWarning:\n",
      "\n",
      "This function is deprecated. Please call randint(0, 1 + 1) instead\n",
      "\n",
      "/Users/xupeng.tong/anaconda/lib/python2.7/site-packages/sklearn/linear_model/randomized_l1.py:53: DeprecationWarning:\n",
      "\n",
      "This function is deprecated. Please call randint(0, 1 + 1) instead\n",
      "\n",
      "/Users/xupeng.tong/anaconda/lib/python2.7/site-packages/sklearn/linear_model/randomized_l1.py:53: DeprecationWarning:\n",
      "\n",
      "This function is deprecated. Please call randint(0, 1 + 1) instead\n",
      "\n",
      "/Users/xupeng.tong/anaconda/lib/python2.7/site-packages/sklearn/linear_model/randomized_l1.py:53: DeprecationWarning:\n",
      "\n",
      "This function is deprecated. Please call randint(0, 1 + 1) instead\n",
      "\n",
      "/Users/xupeng.tong/anaconda/lib/python2.7/site-packages/sklearn/linear_model/randomized_l1.py:53: DeprecationWarning:\n",
      "\n",
      "This function is deprecated. Please call randint(0, 1 + 1) instead\n",
      "\n",
      "/Users/xupeng.tong/anaconda/lib/python2.7/site-packages/sklearn/linear_model/randomized_l1.py:53: DeprecationWarning:\n",
      "\n",
      "This function is deprecated. Please call randint(0, 1 + 1) instead\n",
      "\n",
      "/Users/xupeng.tong/anaconda/lib/python2.7/site-packages/sklearn/linear_model/randomized_l1.py:53: DeprecationWarning:\n",
      "\n",
      "This function is deprecated. Please call randint(0, 1 + 1) instead\n",
      "\n",
      "/Users/xupeng.tong/anaconda/lib/python2.7/site-packages/sklearn/linear_model/randomized_l1.py:53: DeprecationWarning:\n",
      "\n",
      "This function is deprecated. Please call randint(0, 1 + 1) instead\n",
      "\n",
      "/Users/xupeng.tong/anaconda/lib/python2.7/site-packages/sklearn/linear_model/randomized_l1.py:53: DeprecationWarning:\n",
      "\n",
      "This function is deprecated. Please call randint(0, 1 + 1) instead\n",
      "\n",
      "/Users/xupeng.tong/anaconda/lib/python2.7/site-packages/sklearn/linear_model/randomized_l1.py:53: DeprecationWarning:\n",
      "\n",
      "This function is deprecated. Please call randint(0, 1 + 1) instead\n",
      "\n",
      "/Users/xupeng.tong/anaconda/lib/python2.7/site-packages/sklearn/linear_model/randomized_l1.py:53: DeprecationWarning:\n",
      "\n",
      "This function is deprecated. Please call randint(0, 1 + 1) instead\n",
      "\n",
      "/Users/xupeng.tong/anaconda/lib/python2.7/site-packages/sklearn/linear_model/randomized_l1.py:53: DeprecationWarning:\n",
      "\n",
      "This function is deprecated. Please call randint(0, 1 + 1) instead\n",
      "\n",
      "/Users/xupeng.tong/anaconda/lib/python2.7/site-packages/sklearn/linear_model/randomized_l1.py:53: DeprecationWarning:\n",
      "\n",
      "This function is deprecated. Please call randint(0, 1 + 1) instead\n",
      "\n",
      "/Users/xupeng.tong/anaconda/lib/python2.7/site-packages/sklearn/linear_model/randomized_l1.py:53: DeprecationWarning:\n",
      "\n",
      "This function is deprecated. Please call randint(0, 1 + 1) instead\n",
      "\n",
      "/Users/xupeng.tong/anaconda/lib/python2.7/site-packages/sklearn/linear_model/randomized_l1.py:53: DeprecationWarning:\n",
      "\n",
      "This function is deprecated. Please call randint(0, 1 + 1) instead\n",
      "\n",
      "/Users/xupeng.tong/anaconda/lib/python2.7/site-packages/sklearn/linear_model/randomized_l1.py:53: DeprecationWarning:\n",
      "\n",
      "This function is deprecated. Please call randint(0, 1 + 1) instead\n",
      "\n",
      "/Users/xupeng.tong/anaconda/lib/python2.7/site-packages/sklearn/linear_model/randomized_l1.py:53: DeprecationWarning:\n",
      "\n",
      "This function is deprecated. Please call randint(0, 1 + 1) instead\n",
      "\n",
      "/Users/xupeng.tong/anaconda/lib/python2.7/site-packages/sklearn/linear_model/randomized_l1.py:53: DeprecationWarning:\n",
      "\n",
      "This function is deprecated. Please call randint(0, 1 + 1) instead\n",
      "\n",
      "/Users/xupeng.tong/anaconda/lib/python2.7/site-packages/sklearn/linear_model/randomized_l1.py:53: DeprecationWarning:\n",
      "\n",
      "This function is deprecated. Please call randint(0, 1 + 1) instead\n",
      "\n",
      "/Users/xupeng.tong/anaconda/lib/python2.7/site-packages/sklearn/linear_model/randomized_l1.py:53: DeprecationWarning:\n",
      "\n",
      "This function is deprecated. Please call randint(0, 1 + 1) instead\n",
      "\n",
      "/Users/xupeng.tong/anaconda/lib/python2.7/site-packages/sklearn/linear_model/randomized_l1.py:53: DeprecationWarning:\n",
      "\n",
      "This function is deprecated. Please call randint(0, 1 + 1) instead\n",
      "\n",
      "/Users/xupeng.tong/anaconda/lib/python2.7/site-packages/sklearn/linear_model/randomized_l1.py:53: DeprecationWarning:\n",
      "\n",
      "This function is deprecated. Please call randint(0, 1 + 1) instead\n",
      "\n",
      "/Users/xupeng.tong/anaconda/lib/python2.7/site-packages/sklearn/linear_model/randomized_l1.py:53: DeprecationWarning:\n",
      "\n",
      "This function is deprecated. Please call randint(0, 1 + 1) instead\n",
      "\n",
      "/Users/xupeng.tong/anaconda/lib/python2.7/site-packages/sklearn/linear_model/randomized_l1.py:53: DeprecationWarning:\n",
      "\n",
      "This function is deprecated. Please call randint(0, 1 + 1) instead\n",
      "\n",
      "/Users/xupeng.tong/anaconda/lib/python2.7/site-packages/sklearn/linear_model/randomized_l1.py:53: DeprecationWarning:\n",
      "\n",
      "This function is deprecated. Please call randint(0, 1 + 1) instead\n",
      "\n",
      "/Users/xupeng.tong/anaconda/lib/python2.7/site-packages/sklearn/linear_model/randomized_l1.py:53: DeprecationWarning:\n",
      "\n",
      "This function is deprecated. Please call randint(0, 1 + 1) instead\n",
      "\n",
      "/Users/xupeng.tong/anaconda/lib/python2.7/site-packages/sklearn/linear_model/randomized_l1.py:53: DeprecationWarning:\n",
      "\n",
      "This function is deprecated. Please call randint(0, 1 + 1) instead\n",
      "\n",
      "/Users/xupeng.tong/anaconda/lib/python2.7/site-packages/sklearn/linear_model/randomized_l1.py:53: DeprecationWarning:\n",
      "\n",
      "This function is deprecated. Please call randint(0, 1 + 1) instead\n",
      "\n",
      "/Users/xupeng.tong/anaconda/lib/python2.7/site-packages/sklearn/linear_model/randomized_l1.py:53: DeprecationWarning:\n",
      "\n",
      "This function is deprecated. Please call randint(0, 1 + 1) instead\n",
      "\n",
      "/Users/xupeng.tong/anaconda/lib/python2.7/site-packages/sklearn/linear_model/randomized_l1.py:53: DeprecationWarning:\n",
      "\n",
      "This function is deprecated. Please call randint(0, 1 + 1) instead\n",
      "\n",
      "/Users/xupeng.tong/anaconda/lib/python2.7/site-packages/sklearn/linear_model/randomized_l1.py:53: DeprecationWarning:\n",
      "\n",
      "This function is deprecated. Please call randint(0, 1 + 1) instead\n",
      "\n",
      "/Users/xupeng.tong/anaconda/lib/python2.7/site-packages/sklearn/linear_model/randomized_l1.py:53: DeprecationWarning:\n",
      "\n",
      "This function is deprecated. Please call randint(0, 1 + 1) instead\n",
      "\n",
      "/Users/xupeng.tong/anaconda/lib/python2.7/site-packages/sklearn/linear_model/randomized_l1.py:53: DeprecationWarning:\n",
      "\n",
      "This function is deprecated. Please call randint(0, 1 + 1) instead\n",
      "\n"
     ]
    }
   ],
   "source": [
    "from sklearn.linear_model import RandomizedLogisticRegression\n",
    "\n",
    "randomized_lasso = RandomizedLogisticRegression(selection_threshold=0.2)\n",
    "randomized_lasso.fit(X_train, y_train)\n",
    "\n",
    "featureMask = randomized_lasso.get_support()"
   ]
  },
  {
   "cell_type": "code",
   "execution_count": 173,
   "metadata": {
    "collapsed": false
   },
   "outputs": [
    {
     "data": {
      "text/plain": [
       "(8547, 38)"
      ]
     },
     "execution_count": 173,
     "metadata": {},
     "output_type": "execute_result"
    }
   ],
   "source": [
    "xx = X_train[:,featureMask]\n",
    "\n",
    "xx.shape"
   ]
  },
  {
   "cell_type": "code",
   "execution_count": 171,
   "metadata": {
    "collapsed": false
   },
   "outputs": [
    {
     "name": "stderr",
     "output_type": "stream",
     "text": [
      "/Users/xupeng.tong/anaconda/lib/python2.7/site-packages/ipykernel/__main__.py:1: VisibleDeprecationWarning:\n",
      "\n",
      "boolean index did not match indexed array along dimension 0; dimension is 1 but corresponding boolean dimension is 7203\n",
      "\n"
     ]
    },
    {
     "ename": "IndexError",
     "evalue": "index 1 is out of bounds for axis 0 with size 1",
     "output_type": "error",
     "traceback": [
      "\u001b[0;31m---------------------------------------------------------------------------\u001b[0m",
      "\u001b[0;31mIndexError\u001b[0m                                Traceback (most recent call last)",
      "\u001b[0;32m<ipython-input-171-3df6cf849444>\u001b[0m in \u001b[0;36m<module>\u001b[0;34m()\u001b[0m\n\u001b[0;32m----> 1\u001b[0;31m \u001b[0mcolumnNames\u001b[0m\u001b[0;34m[\u001b[0m\u001b[0;34m:\u001b[0m\u001b[0;36m100\u001b[0m\u001b[0;34m]\u001b[0m\u001b[0;34m[\u001b[0m\u001b[0mfeatureMask\u001b[0m\u001b[0;34m]\u001b[0m\u001b[0;34m\u001b[0m\u001b[0m\n\u001b[0m",
      "\u001b[0;31mIndexError\u001b[0m: index 1 is out of bounds for axis 0 with size 1"
     ]
    }
   ],
   "source": [
    "columnNames[:100][featureMask]"
   ]
  },
  {
   "cell_type": "code",
   "execution_count": 179,
   "metadata": {
    "collapsed": false
   },
   "outputs": [
    {
     "data": {
      "text/plain": [
       "[0.5662143191389799,\n",
       " 0.71268132896583991,\n",
       " 0.73467477772578382,\n",
       " 0.74075807206364064,\n",
       " 0.74684136640149745,\n",
       " 0.74543752924660744,\n",
       " 0.87412260177819368,\n",
       " 0.8769302760879738,\n",
       " 0.87599438465138046,\n",
       " 0.8769302760879738,\n",
       " 0.8769302760879738,\n",
       " 0.87833411324286381,\n",
       " 0.91717360786148805,\n",
       " 0.92793635938231167,\n",
       " 0.95039775386055214,\n",
       " 0.94992980814225547,\n",
       " 0.9494618624239588,\n",
       " 0.9494618624239588,\n",
       " 0.95648104819840896,\n",
       " 0.94899391670566213,\n",
       " 0.94899391670566213,\n",
       " 0.94150678521291531,\n",
       " 0.94150678521291531,\n",
       " 0.94197473093121198,\n",
       " 0.94103883949461864,\n",
       " 0.94244267664950865,\n",
       " 0.94525035095928878,\n",
       " 0.94384651380439866,\n",
       " 0.94525035095928878,\n",
       " 0.94712213383247545]"
      ]
     },
     "execution_count": 179,
     "metadata": {},
     "output_type": "execute_result"
    }
   ],
   "source": [
    "acc_scores_dfs_svm[:30]"
   ]
  }
 ],
 "metadata": {
  "kernelspec": {
   "display_name": "Python 2",
   "language": "python",
   "name": "python2"
  },
  "language_info": {
   "codemirror_mode": {
    "name": "ipython",
    "version": 2
   },
   "file_extension": ".py",
   "mimetype": "text/x-python",
   "name": "python",
   "nbconvert_exporter": "python",
   "pygments_lexer": "ipython2",
   "version": "2.7.12"
  }
 },
 "nbformat": 4,
 "nbformat_minor": 0
}

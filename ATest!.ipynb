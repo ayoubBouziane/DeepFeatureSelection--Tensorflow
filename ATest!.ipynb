{
 "cells": [
  {
   "cell_type": "code",
   "execution_count": 56,
   "metadata": {
    "collapsed": false
   },
   "outputs": [],
   "source": [
    "from sklearn import datasets\n",
    "from sklearn.cross_validation import train_test_split\n",
    "from scipy import io as sio\n",
    "from tensorflow.python.framework import ops\n",
    "from dfs2 import DeepFeatureSelectionNew\n",
    "import numpy as np\n",
    "from sklearn.datasets import make_classification\n",
    "\n",
    "iris = datasets.load_iris()\n",
    "inputX = iris.data[:,[1,2,3]]\n",
    "inputY = iris.target\n",
    "\n",
    "# digits = datasets.load_digits()\n",
    "# inputX = digits.data  \n",
    "# inputY = digits.target\n",
    "\n",
    "# inputX, inputY = make_classification(n_samples=1000, n_features=7500, n_informative=3000, n_redundant=0, n_repeated=0, n_classes=2)\n",
    "\n",
    "X_train, X_test, y_train, y_test = train_test_split(inputX, inputY, test_size=0.2, random_state=42)"
   ]
  },
  {
   "cell_type": "code",
   "execution_count": 63,
   "metadata": {
    "collapsed": false
   },
   "outputs": [
    {
     "data": {
      "text/plain": [
       "['sepal length (cm)',\n",
       " 'sepal width (cm)',\n",
       " 'petal length (cm)',\n",
       " 'petal width (cm)']"
      ]
     },
     "execution_count": 63,
     "metadata": {},
     "output_type": "execute_result"
    }
   ],
   "source": [
    "iris['feature_names']"
   ]
  },
  {
   "cell_type": "code",
   "execution_count": 58,
   "metadata": {
    "collapsed": false
   },
   "outputs": [
    {
     "name": "stdout",
     "output_type": "stream",
     "text": [
      "Layer 1\n",
      "3\n",
      "5\n",
      "epoch 49: global loss = 2.02982711792\n",
      "epoch 99: global loss = 1.86399841309\n",
      "epoch 0: global loss = 1.16152405739\n",
      "('Train accuracy:', 0.32499999)\n",
      "('Test accuracy:', 0.36666667)\n",
      "epoch 500: global loss = 0.373188257217\n",
      "('Train accuracy:', 0.94166666)\n",
      "('Test accuracy:', 0.83333331)\n",
      "epoch 1000: global loss = 0.342940330505\n",
      "('Train accuracy:', 0.94166666)\n",
      "('Test accuracy:', 0.83333331)\n",
      "epoch 1500: global loss = 0.336067378521\n",
      "('Train accuracy:', 0.94166666)\n",
      "('Test accuracy:', 0.83333331)\n",
      "[array([ -2.70360589e+00,  -2.57519889e+00,   1.83934571e-05], dtype=float32)]\n",
      "('Final test accuracy:', 0.83333331)\n"
     ]
    }
   ],
   "source": [
    "ops.reset_default_graph()\n",
    "\n",
    "dfsMLP = DeepFeatureSelectionNew(X_train, X_test, y_train, y_test, n_input=1, hidden_dims=[5], \\\n",
    "                                 lambda1=0.001, lambda2=0.1, alpha1=0.01, alpha2=0.05, \\\n",
    "                                 weight_init='sda',epochs=2000, optimizer='FTRL', print_step=500)\n",
    "\n",
    "dfsMLP.train(batch_size=100)"
   ]
  },
  {
   "cell_type": "code",
   "execution_count": 45,
   "metadata": {
    "collapsed": false
   },
   "outputs": [
    {
     "data": {
      "text/plain": [
       "array([ 2.02792311, -2.54703355, -2.82233405,  2.54741979], dtype=float32)"
      ]
     },
     "execution_count": 45,
     "metadata": {},
     "output_type": "execute_result"
    }
   ],
   "source": [
    "dfsMLP.selected_ws[0]"
   ]
  },
  {
   "cell_type": "code",
   "execution_count": 44,
   "metadata": {
    "collapsed": false
   },
   "outputs": [
    {
     "data": {
      "text/plain": [
       "[<matplotlib.lines.Line2D at 0x11a1781d0>]"
      ]
     },
     "execution_count": 44,
     "metadata": {},
     "output_type": "execute_result"
    },
    {
     "data": {
      "image/png": "[encoded data removed]",
      "text/plain": [
       "<matplotlib.figure.Figure at 0x1062d1650>"
      ]
     },
     "metadata": {},
     "output_type": "display_data"
    }
   ],
   "source": [
    "%matplotlib inline\n",
    "\n",
    "import matplotlib.pyplot as plt\n",
    "\n",
    "temp = abs(dfsMLP.selected_ws[0])\n",
    "\n",
    "plt.plot(temp)"
   ]
  },
  {
   "cell_type": "code",
   "execution_count": 5,
   "metadata": {
    "collapsed": false
   },
   "outputs": [],
   "source": [
    "temp = dfsMLP.selected_ws\n",
    "\n",
    "temp1, temp2 = temp[0], temp[1]"
   ]
  },
  {
   "cell_type": "code",
   "execution_count": 9,
   "metadata": {
    "collapsed": false
   },
   "outputs": [
    {
     "data": {
      "text/plain": [
       "(array([ 0,  1,  7,  8, 15, 16, 17, 20, 23, 24, 25, 31, 32, 36, 38, 39, 40,\n",
       "        41, 47, 48, 55, 56, 57, 62, 63]),)"
      ]
     },
     "execution_count": 9,
     "metadata": {},
     "output_type": "execute_result"
    }
   ],
   "source": [
    "np.where(abs(temp1)<0.01)"
   ]
  },
  {
   "cell_type": "code",
   "execution_count": 10,
   "metadata": {
    "collapsed": false
   },
   "outputs": [
    {
     "data": {
      "text/plain": [
       "(array([ 0,  1,  7,  8, 11, 14, 15, 16, 17, 22, 23, 24, 31, 32, 36, 38, 39,\n",
       "        40, 41, 44, 47, 48, 49, 51, 55, 56, 57, 59, 63]),)"
      ]
     },
     "execution_count": 10,
     "metadata": {},
     "output_type": "execute_result"
    }
   ],
   "source": [
    "np.where(abs(temp2)<0.01)"
   ]
  },
  {
   "cell_type": "code",
   "execution_count": 12,
   "metadata": {
    "collapsed": false
   },
   "outputs": [
    {
     "name": "stdout",
     "output_type": "stream",
     "text": [
      "(array([ 0,  1,  6,  7,  8,  9, 15, 16, 23, 24, 30, 31, 32, 39, 40, 41, 46,\n",
      "       47, 48, 49, 55, 56, 57, 63]),)\n",
      "(array([ 0,  1,  7,  8,  9, 12, 15, 16, 22, 23, 24, 30, 31, 32, 34, 38, 39,\n",
      "       40, 41, 46, 47, 48, 49, 55, 56, 57, 63]),)\n"
     ]
    }
   ],
   "source": [
    "temp = dfsMLP.selected_ws\n",
    "\n",
    "temp3, temp4 = temp[0], temp[1]\n",
    "\n",
    "print(np.where(abs(temp3)<0.01))\n",
    "print(np.where(abs(temp4)<0.01))"
   ]
  },
  {
   "cell_type": "code",
   "execution_count": 14,
   "metadata": {
    "collapsed": false
   },
   "outputs": [
    {
     "name": "stdout",
     "output_type": "stream",
     "text": [
      "(array([ 0,  1,  6,  7,  8,  9, 10, 15, 16, 18, 23, 24, 25, 28, 30, 31, 32,\n",
      "       33, 35, 36, 39, 40, 41, 44, 45, 46, 47, 48, 49, 51, 55, 56, 57, 60,\n",
      "       61, 63]),)\n",
      "(array([ 0,  1,  6,  7,  8,  9, 10, 15, 16, 18, 23, 24, 25, 28, 30, 31, 32,\n",
      "       33, 35, 36, 39, 40, 41, 44, 45, 46, 47, 48, 49, 51, 55, 56, 57, 60,\n",
      "       61, 63]),)\n"
     ]
    }
   ],
   "source": [
    "temp = dfsMLP.selected_ws\n",
    "\n",
    "temp5, temp6 = temp[0], temp[1]\n",
    "\n",
    "print(np.where(abs(temp5)<0.01))\n",
    "print(np.where(abs(temp6)<0.01))"
   ]
  },
  {
   "cell_type": "code",
   "execution_count": 19,
   "metadata": {
    "collapsed": false
   },
   "outputs": [
    {
     "name": "stdout",
     "output_type": "stream",
     "text": [
      "[  0.00000000e+00   2.21365553e-05   5.34770846e-01  -5.10749221e-01\n",
      "  -1.32572937e+00   1.27882481e+00   7.05722868e-01  -3.37187976e-06\n",
      "  -2.48715769e-05  -4.35945988e-01  -8.12338829e-01  -1.30112066e-05\n",
      "  -8.32192004e-01   2.47985512e-01   6.64107978e-01   8.89979037e-06\n",
      "   2.98485284e-05  -7.03907609e-01  -5.47703326e-01  -6.97154284e-01\n",
      "  -1.11955297e+00   1.22180629e+00   5.59003353e-01  -1.67842809e-05\n",
      "   1.95304256e-05  -7.41886795e-02  -9.46987391e-01  -7.40651965e-01\n",
      "   5.96208036e-01  -3.10005844e-01  -1.34162486e+00   3.13480268e-05\n",
      "   0.00000000e+00   5.93466498e-02   6.60471499e-01   5.83744705e-01\n",
      "  -9.14963067e-01  -6.60474718e-01   7.55860955e-02   0.00000000e+00\n",
      "   6.03450007e-06   9.52876508e-01   1.23723471e+00  -1.11648464e+00\n",
      "  -8.45939457e-01   5.80304325e-01  -5.43568313e-01   3.76154094e-06\n",
      "  -2.55056784e-06  -4.34423208e-01   4.08470452e-01  -6.84513330e-01\n",
      "   1.02012360e+00   7.31285095e-01  -1.04048955e+00  -9.47060198e-06\n",
      "  -3.13354903e-05  -2.99332623e-06  -8.42830718e-01  -6.11686781e-02\n",
      "   7.17594624e-01  -7.02742219e-01  -9.25650060e-01  -6.56298082e-03]\n"
     ]
    }
   ],
   "source": [
    "from __future__ import print_function\n",
    "import numpy as np\n",
    "np.random.seed(1337)  # for reproducibility\n",
    "\n",
    "from keras.datasets import mnist\n",
    "from keras.models import Sequential\n",
    "from keras.layers.core import Dense, Dropout, Activation\n",
    "from keras.optimizers import SGD, Adam, RMSprop\n",
    "from keras.utils import np_utils"
   ]
  }
 ],
 "metadata": {
  "kernelspec": {
   "display_name": "Python 2",
   "language": "python",
   "name": "python2"
  },
  "language_info": {
   "codemirror_mode": {
    "name": "ipython",
    "version": 2
   },
   "file_extension": ".py",
   "mimetype": "text/x-python",
   "name": "python",
   "nbconvert_exporter": "python",
   "pygments_lexer": "ipython2",
   "version": "2.7.11"
  }
 },
 "nbformat": 4,
 "nbformat_minor": 0
}

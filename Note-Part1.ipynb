{
 "cells": [
  {
   "cell_type": "markdown",
   "metadata": {
    "collapsed": false
   },
   "source": [
    "# Read The Data"
   ]
  },
  {
   "cell_type": "code",
   "execution_count": 1,
   "metadata": {
    "collapsed": true
   },
   "outputs": [],
   "source": [
    "from supporting_files.dfs2 import DeepFeatureSelectionNew\n",
    "from sklearn.cross_validation import train_test_split\n",
    "from sklearn import datasets\n",
    "from scipy import io as sio\n",
    "from tensorflow.python.framework import ops\n",
    "import numpy as np\n",
    "from sklearn.datasets import make_classification\n",
    "from sklearn.preprocessing import normalize\n",
    "\n",
    "ourdata = sio.loadmat(\"./data/B_AsthmaCOPD_mean_scaled_7159.mat\")\n",
    "\n",
    "inputX = ourdata['X']\n",
    "inputY = ourdata['Y'][0,:]\n",
    "\n",
    "columnNames = ourdata['columnNames']"
   ]
  },
  {
   "cell_type": "markdown",
   "metadata": {},
   "source": [
    "# Run the Deep Feature Selection\n",
    "## Changing lambda1 slightly"
   ]
  },
  {
   "cell_type": "code",
   "execution_count": null,
   "metadata": {
    "collapsed": false,
    "scrolled": false
   },
   "outputs": [],
   "source": [
    "# Reset the graph\n",
    "ops.reset_default_graph()\n",
    "\n",
    "weights_tuning_lamda1 = []\n",
    "for lambda1 in xrange(0, 10, 1):\n",
    "    # Should be modified for different datasets, similar things should be done for alpha1\n",
    "    lambda1 /= 10000.\n",
    "    dfsMLP = DeepFeatureSelectionNew(X_train, X_test, y_train, y_test, n_input=1, hidden_dims=[50], learning_rate=0.01, \\\n",
    "                                     lambda1=0.0001, lambda2=1, alpha1=0.00001, alpha2=0, activation='tanh', \\\n",
    "                                     weight_init='uniform',epochs=20, optimizer='Adam', print_step=1)\n",
    "    dfsMLP.train(batch_size=2000)\n",
    "    print(\"Train finised for lambda1:\" + str(lambda1))\n",
    "    weights_tuning_lamda1.append(dfsMLP.selected_ws[0])"
   ]
  },
  {
   "cell_type": "markdown",
   "metadata": {},
   "source": [
    "# Run different random states in order to select features given selected set of parameters chosen above "
   ]
  },
  {
   "cell_type": "code",
   "execution_count": null,
   "metadata": {
    "collapsed": false
   },
   "outputs": [],
   "source": [
    "weights_randomstates = []\n",
    "\n",
    "for random_state in xrange(20):\n",
    "    # Resplit the data\n",
    "    X_train, X_test, y_train, y_test = train_test_split(inputX, inputY, test_size=0.2, random_state=random_state)\n",
    "    \n",
    "    # Change number of epochs to control the training time\n",
    "    dfsMLP = DeepFeatureSelectionNew(X_train, X_test, y_train, y_test, n_input=1, hidden_dims=[30], learning_rate=0.01, \\\n",
    "                                         lambda1=0.0001, lambda2=1, alpha1=0.0001, alpha2=0, activation='tanh', \\\n",
    "                                         weight_init='uniform',epochs=50, optimizer='Adam', print_step=10)\n",
    "    dfsMLP.train(batch_size=2000)\n",
    "    print(\"Train finised for random state:\" + str(random_state))\n",
    "    weights_randomstates.append(dfsMLP.selected_ws[0])\n",
    "\n",
    "# The generated weights will be in the weights folder\n",
    "np.save(\"./weights/weights_randomstates\", weights_randomstates)"
   ]
  },
  {
   "cell_type": "markdown",
   "metadata": {},
   "source": [
    "# The below code is for single model testing / parameter discovering"
   ]
  },
  {
   "cell_type": "code",
   "execution_count": null,
   "metadata": {
    "collapsed": false,
    "scrolled": false
   },
   "outputs": [],
   "source": [
    "X_train, X_test, y_train, y_test = train_test_split(inputX, inputY, test_size=0.2, random_state=2)\n",
    "\n",
    "dfsMLP = DeepFeatureSelectionNew(X_train, X_test, y_train, y_test, n_input=1, hidden_dims=[5], learning_rate=0.012, \\\n",
    "                                     lambda1=0.002, lambda2=1, alpha1=0.001, alpha2=0, activation='tanh', \\\n",
    "                                     weight_init='uniform',epochs=200, optimizer='Adam', print_step=1)\n",
    "dfsMLP.train(batch_size=2000)\n",
    "\n",
    "# More layers might cause overfitting problems, but certainly change the alpha1 and lambda1 accordingly would \n",
    "# set the problem"
   ]
  },
  {
   "cell_type": "code",
   "execution_count": null,
   "metadata": {
    "collapsed": true
   },
   "outputs": [],
   "source": [
    "ourdata = sio.loadmat(\"./data/B_COPDAcos_mean_scaled_7169.mat\")\n",
    "inputX = ourdata['X']\n",
    "inputY = ourdata['Y'][0,:]\n",
    "columnNames = ourdata['columnNames']\n",
    "\n",
    "index_Acos = np.where(inputY==0)[0]\n",
    "index_COPD = np.where(inputY==1)[0]"
   ]
  },
  {
   "cell_type": "code",
   "execution_count": null,
   "metadata": {
    "collapsed": true
   },
   "outputs": [],
   "source": [
    "ourdata = sio.loadmat(\"./data/B_COPDAcos_mean_scaled_7169.mat\")\n",
    "inputX = ourdata['X']\n",
    "inputY = ourdata['Y'][0,:]\n",
    "columnNames = ourdata['columnNames']\n",
    "\n",
    "index_Acos = np.where(inputY==0)[0]\n",
    "index_COPD = np.where(inputY==1)[0]"
   ]
  },
  {
   "cell_type": "code",
   "execution_count": null,
   "metadata": {
    "collapsed": false
   },
   "outputs": [],
   "source": [
    "weights = []\n",
    "for i in xrange(1):\n",
    "    # made random choice of asthma patients\n",
    "    choice = np.random.choice(a=len(index_COPD), size=len(index_Acos))\n",
    "    index_COPD_chosen = index_Asthma[choice]\n",
    "\n",
    "    # Concatenate the indexes for Asthma and Acos patients\n",
    "    indexes = np.array(index_Acos.tolist()+index_COPD_chosen.tolist())\n",
    "    # Shuffle the indexes\n",
    "    np.random.shuffle(indexes)\n",
    "    indexes = indexes.tolist()\n",
    "\n",
    "    # inputX and inputY for this round\n",
    "    inputX_ = inputX[indexes,:]\n",
    "    inputY_ = inputY[indexes]\n",
    "    \n",
    "    X_train, X_test, y_train, y_test = train_test_split(inputX_, inputY_, test_size=0.2)\n",
    "    \n",
    "    # Change number of epochs to control the training time\n",
    "    dfsMLP = DeepFeatureSelectionNew(X_train, X_test, y_train, y_test, n_input=1, hidden_dims=[10], learning_rate=0.01, \\\n",
    "                                         lambda1=0.01, lambda2=1, alpha1=0.001, alpha2=0, activation='tanh', \\\n",
    "                                         weight_init='uniform',epochs=30, optimizer='Adam', print_step=1)\n",
    "    dfsMLP.train(batch_size=500)\n",
    "    print(\"Train finised for random state:\" + str(random_state))\n",
    "    weights.append(dfsMLP.selected_ws[0])"
   ]
  },
  {
   "cell_type": "markdown",
   "metadata": {},
   "source": [
    "# Run XGBoost Model"
   ]
  },
  {
   "cell_type": "code",
   "execution_count": null,
   "metadata": {
    "collapsed": false
   },
   "outputs": [],
   "source": [
    "import scipy.io as sio\n",
    "from sklearn.ensemble import RandomForestClassifier\n",
    "from sklearn.metrics import accuracy_score\n",
    "import xgboost as xgb\n",
    "import numpy as np\n",
    "\n",
    "# COPD Acos\n",
    "ourdata = sio.loadmat(\"./data/B_COPDAcos_mean_scaled_7159.mat\")\n",
    "inputX = ourdata['X']\n",
    "inputY = ourdata['Y'][0,:]\n",
    "\n",
    "gbm = xgb.XGBClassifier(max_depth=3, n_estimators=400, learning_rate=0.05).fit(inputX, inputY)\n",
    "indexes_xgboost = np.argsort(gbm.feature_importances_)[::-1]\n",
    "\n",
    "np.save(\"./weights/indexes_xgboost_rerun_All_CAc\",indexes_xgboost)"
   ]
  },
  {
   "cell_type": "code",
   "execution_count": null,
   "metadata": {
    "collapsed": true
   },
   "outputs": [],
   "source": [
    "ourdata = sio.loadmat(\"./data/B_AsthmaCOPD_mean_scaled_7159.mat\")\n",
    "inputX = ourdata['X']\n",
    "inputY = ourdata['Y'][0,:]\n",
    "\n",
    "gbm = xgb.XGBClassifier(max_depth=3, n_estimators=400, learning_rate=0.05).fit(inputX, inputY)\n",
    "# y_pred = gbm.predict(X_test)\n",
    "\n",
    "# featurescores = gbm.feature_importances_\n",
    "\n",
    "# print(accuracy_score(y_test, y_pred))\n",
    "\n",
    "indexes_xgboost = np.argsort(gbm.feature_importances_)[::-1]\n",
    "np.save(\"./weights/indexes_xgboost_rerun_All_AsC\",indexes_xgboost)"
   ]
  },
  {
   "cell_type": "code",
   "execution_count": null,
   "metadata": {
    "collapsed": true
   },
   "outputs": [],
   "source": [
    "# Asthma Acos\n",
    "ourdata = sio.loadmat(\"./data/B_AsthmaAcos_mean_scaled_7159.mat\")\n",
    "inputX = ourdata['X']\n",
    "inputY = ourdata['Y'][0,:]\n",
    "\n",
    "gbm = xgb.XGBClassifier(max_depth=3, n_estimators=400, learning_rate=0.05).fit(inputX, inputY)\n",
    "indexes_xgboost = np.argsort(gbm.feature_importances_)[::-1]\n",
    "\n",
    "np.save(\"./weights/indexes_xgboost_rerun_All_AsAc\",indexes_xgboost)"
   ]
  }
 ],
 "metadata": {
  "kernelspec": {
   "display_name": "Python 2",
   "language": "python",
   "name": "python2"
  },
  "language_info": {
   "codemirror_mode": {
    "name": "ipython",
    "version": 2
   },
   "file_extension": ".py",
   "mimetype": "text/x-python",
   "name": "python",
   "nbconvert_exporter": "python",
   "pygments_lexer": "ipython2",
   "version": "2.7.12"
  }
 },
 "nbformat": 4,
 "nbformat_minor": 0
}

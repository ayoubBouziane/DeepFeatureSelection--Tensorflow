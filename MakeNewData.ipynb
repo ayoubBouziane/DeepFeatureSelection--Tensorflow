{
 "cells": [
  {
   "cell_type": "code",
   "execution_count": 31,
   "metadata": {
    "collapsed": true
   },
   "outputs": [],
   "source": [
    "from scipy import io as sio\n",
    "\n",
    "# Load the data\n",
    "ourdata = sio.loadmat(\"./data/B_3labels_mean_scaled.mat\")\n",
    "columnNames = ourdata['columnNames']"
   ]
  },
  {
   "cell_type": "code",
   "execution_count": 2,
   "metadata": {
    "collapsed": true
   },
   "outputs": [],
   "source": [
    "# ICD-9 codes mapping\n",
    "import pandas as pd\n",
    "\n",
    "dictionary = pd.read_csv(\"./data/BinaryTraitMatrix_V2.2_F60K_DD_20160722.csv\")\n",
    "codemapping = {i:j for i, j in zip(dictionary[\"FIELD_NAME\"].values, dictionary[\"FIELD_DESCRIPTION\"].values)}\n",
    "\n",
    "def getFeatureNames(indexes):\n",
    "    return [codemapping[str(i).rstrip()] for i in columnNames[indexes]]"
   ]
  },
  {
   "cell_type": "markdown",
   "metadata": {},
   "source": [
    "## A list of features should be eliminated"
   ]
  },
  {
   "cell_type": "code",
   "execution_count": 28,
   "metadata": {
    "collapsed": true
   },
   "outputs": [],
   "source": [
    "a = [i[0] for i in codemapping.items() if 'Emphysema' in i[1]]\n",
    "b = [i[0] for i in codemapping.items() if 'emphysema' in i[1]]\n",
    "c = [i[0] for i in codemapping.items() if 'asthma' in i[1]]\n",
    "d = [i[0] for i in codemapping.items() if 'Asthma' in i[1]]\n",
    "e = [i[0] for i in codemapping.items() if 'Chronic bronchitis' in i[1]]\n",
    "f = [i[0] for i in codemapping.items() if 'chronic bronchitis' in i[1]]\n",
    "g = [i[0] for i in codemapping.items() if 'Chronic Obstructive' in i[1]]\n",
    "h = [i[0] for i in codemapping.items() if 'chronic obstructive' in i[1]]\n",
    "j = [i[0] for i in codemapping.items() if 'smoking' in i[1]]\n",
    "k = [i[0] for i in codemapping.items() if 'Gender' == i[1]]\n",
    "u = [i[0] for i in codemapping.items() if 'Age at time of last encounter with the health system' == i[1]]\n",
    "s = [i[0] for i in codemapping.items() if 'Indicator if patient is alive or deceased' == i[1]]\n",
    "# w = [i for i in codemapping.items() if 'bronc' in i[1]]\n",
    "i = [i[0] for i in codemapping.items() if 'Tobacco' in i[1]]\n",
    "\n",
    "# Should add more"
   ]
  },
  {
   "cell_type": "code",
   "execution_count": 26,
   "metadata": {
    "collapsed": false
   },
   "outputs": [],
   "source": [
    "icd9_eliminated = a+b+c+d+e+f+g+h+i+j+k+u+s"
   ]
  },
  {
   "cell_type": "code",
   "execution_count": 22,
   "metadata": {
    "collapsed": false
   },
   "outputs": [],
   "source": [
    "index_eliminated = [i for i, j in enumerate(columnNames) if str(j.rstrip()) in icd9_eliminated]\n",
    "index_keep = [i for i in xrange(len(columnNames)) if i not in index_eliminated]"
   ]
  },
  {
   "cell_type": "markdown",
   "metadata": {},
   "source": [
    "## New column names is generated with index_keep"
   ]
  },
  {
   "cell_type": "code",
   "execution_count": 8,
   "metadata": {
    "collapsed": false
   },
   "outputs": [],
   "source": [
    "newColumnNames = ourdata['columnNames'][index_keep]"
   ]
  },
  {
   "cell_type": "markdown",
   "metadata": {},
   "source": [
    "## Create New data that does not contain the features eliminated above"
   ]
  },
  {
   "cell_type": "code",
   "execution_count": 87,
   "metadata": {
    "collapsed": false
   },
   "outputs": [],
   "source": [
    "# Change the file names and generate new files\n",
    "\n",
    "# Load old data with original columns\n",
    "ourdata = sio.loadmat(\"./data/B_AsthmaAcos_mean_scaled.mat\")\n",
    "\n",
    "ourdata['X'] = ourdata['X'][:,index_keep]\n",
    "ourdata['columnNames'] = newColumnNames\n",
    "\n",
    "# Save new Data with new columns (name end with number of new columns)\n",
    "sio.savemat(\"./data/B_AsthmaAcos_mean_scaled_\"+str(len(newColumnNames))\".mat\", ourdata)"
   ]
  }
 ],
 "metadata": {
  "kernelspec": {
   "display_name": "Python 2",
   "language": "python",
   "name": "python2"
  },
  "language_info": {
   "codemirror_mode": {
    "name": "ipython",
    "version": 2
   },
   "file_extension": ".py",
   "mimetype": "text/x-python",
   "name": "python",
   "nbconvert_exporter": "python",
   "pygments_lexer": "ipython2",
   "version": "2.7.12"
  }
 },
 "nbformat": 4,
 "nbformat_minor": 0
}

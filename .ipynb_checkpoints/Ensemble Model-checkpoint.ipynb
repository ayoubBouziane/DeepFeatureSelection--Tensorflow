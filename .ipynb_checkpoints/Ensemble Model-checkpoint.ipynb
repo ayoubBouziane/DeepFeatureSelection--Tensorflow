{
 "cells": [
  {
   "cell_type": "code",
   "execution_count": 1,
   "metadata": {
    "collapsed": false
   },
   "outputs": [],
   "source": [
    "from sklearn.preprocessing import normalize\n",
    "import numpy as np\n",
    "\n",
    "weights_0_10 = np.load(\"weights-0-10-NEW-mean.npy\")\n",
    "weights_10_20 = np.load(\"weights-10-20-NEW-mean.npy\")\n",
    "weights_20_30 = np.load(\"weights-20-30-NEW-mean.npy\")\n",
    "indexes_xgboost = np.load(\"indexes_xgboost.npy\")\n",
    "\n",
    "weights = np.concatenate((weights_0_10, weights_10_20, weights_20_30))\n",
    "\n",
    "np.save(\"weights-NEW-mean\", weights)"
   ]
  },
  {
   "cell_type": "code",
   "execution_count": 2,
   "metadata": {
    "collapsed": false
   },
   "outputs": [],
   "source": [
    "from scipy import io as sio\n",
    "\n",
    "ourdata = sio.loadmat(\"/Users/xupeng.tong/Documents/Data/OriginalData/B_mean_2labels.mat\")\n",
    "\n",
    "inputX = ourdata['X']\n",
    "inputX = normalize(inputX, axis=0)\n",
    "inputY = ourdata['Y'][0,:]\n",
    "columnNames = ourdata['columnNames']"
   ]
  },
  {
   "cell_type": "code",
   "execution_count": 12,
   "metadata": {
    "collapsed": false
   },
   "outputs": [],
   "source": [
    "weights = abs(weights)\n",
    "averagedWeight = normalize(weights).sum(axis=0)\n",
    "indexes_average_dfs = np.argsort(averagedWeight)[::-1]\n",
    "\n",
    "def unionDFSfeatures(n):\n",
    "    indexes_union = []\n",
    "    for i in xrange(30):\n",
    "        indexes_union.append(np.argsort(weights[i])[::-1][:n].tolist())\n",
    "        \n",
    "    union = reduce(np.union1d, indexes_union).tolist()\n",
    "    print(\"Number of union features:\", len(union))\n",
    "    return inputX[:, union], union\n",
    "\n",
    "def intersectDFSfeatures(n):\n",
    "    indexes_intersect = []\n",
    "    for i in xrange(30):\n",
    "        indexes_intersect.append(np.argsort(weights[i])[::-1][:n].tolist())\n",
    "    \n",
    "    intersected = reduce(np.intersect1d, indexes_intersect).tolist()\n",
    "    print(\"Number of intersected features:\",len(intersected))\n",
    "    return inputX[:, intersected]\n",
    "\n",
    "def topXGBoostfeatures(a,b):\n",
    "    return inputX[:, indexes_xgboost.tolist()[a:b]], indexes_xgboost.tolist()[a:b]\n",
    "\n",
    "def topAveDFSfeatures(a,b):\n",
    "    return inputX[:, indexes_average_dfs.tolist()[a:b]], indexes_average_dfs.tolist()[a:b]\n",
    "\n",
    "def pickOneDFSfeatures(a,b,n):\n",
    "    indexx = np.argsort(weights[n])[::-1]\n",
    "    return inputX[:, indexx.tolist()[a:b]]\n",
    "\n",
    "def topDFSTemp(a,b):\n",
    "    temp = np.argsort(abs(dfsMLP.selected_ws[0]))[::-1]\n",
    "    return inputX[:, temp.tolist()[a:b]]"
   ]
  },
  {
   "cell_type": "code",
   "execution_count": 36,
   "metadata": {
    "collapsed": false
   },
   "outputs": [
    {
     "name": "stdout",
     "output_type": "stream",
     "text": [
      "('Number of intersected features:', 9)\n",
      "('Intersect:', 0.97940872141117929)\n",
      "('Number of union features:', 27)\n"
     ]
    },
    {
     "ename": "ValueError",
     "evalue": "Found arrays with inconsistent numbers of samples: [    2 10684]",
     "output_type": "error",
     "traceback": [
      "\u001b[0;31m---------------------------------------------------------------------------\u001b[0m",
      "\u001b[0;31mValueError\u001b[0m                                Traceback (most recent call last)",
      "\u001b[0;32m<ipython-input-36-a3eadc27761e>\u001b[0m in \u001b[0;36m<module>\u001b[0;34m()\u001b[0m\n\u001b[1;32m     11\u001b[0m \u001b[0;34m\u001b[0m\u001b[0m\n\u001b[1;32m     12\u001b[0m \u001b[0mkeke\u001b[0m \u001b[0;34m=\u001b[0m \u001b[0munionDFSfeatures\u001b[0m\u001b[0;34m(\u001b[0m\u001b[0;36m10\u001b[0m\u001b[0;34m)\u001b[0m\u001b[0;34m\u001b[0m\u001b[0m\n\u001b[0;32m---> 13\u001b[0;31m \u001b[0mscores\u001b[0m \u001b[0;34m=\u001b[0m \u001b[0mcross_val_score\u001b[0m\u001b[0;34m(\u001b[0m\u001b[0msvm\u001b[0m\u001b[0;34m,\u001b[0m \u001b[0mkeke\u001b[0m\u001b[0;34m,\u001b[0m \u001b[0minputY\u001b[0m\u001b[0;34m,\u001b[0m \u001b[0mcv\u001b[0m\u001b[0;34m=\u001b[0m\u001b[0;36m5\u001b[0m\u001b[0;34m)\u001b[0m\u001b[0;34m\u001b[0m\u001b[0m\n\u001b[0m\u001b[1;32m     14\u001b[0m \u001b[0;32mprint\u001b[0m\u001b[0;34m(\u001b[0m\u001b[0;34m\"Union:\"\u001b[0m\u001b[0;34m,\u001b[0m \u001b[0mnp\u001b[0m\u001b[0;34m.\u001b[0m\u001b[0mmean\u001b[0m\u001b[0;34m(\u001b[0m\u001b[0mscores\u001b[0m\u001b[0;34m)\u001b[0m\u001b[0;34m)\u001b[0m\u001b[0;34m\u001b[0m\u001b[0m\n\u001b[1;32m     15\u001b[0m \u001b[0;34m\u001b[0m\u001b[0m\n",
      "\u001b[0;32m/Users/xupeng.tong/anaconda/lib/python2.7/site-packages/sklearn/cross_validation.pyc\u001b[0m in \u001b[0;36mcross_val_score\u001b[0;34m(estimator, X, y, scoring, cv, n_jobs, verbose, fit_params, pre_dispatch)\u001b[0m\n\u001b[1;32m   1420\u001b[0m         \u001b[0mArray\u001b[0m \u001b[0mof\u001b[0m \u001b[0mscores\u001b[0m \u001b[0mof\u001b[0m \u001b[0mthe\u001b[0m \u001b[0mestimator\u001b[0m \u001b[0;32mfor\u001b[0m \u001b[0meach\u001b[0m \u001b[0mrun\u001b[0m \u001b[0mof\u001b[0m \u001b[0mthe\u001b[0m \u001b[0mcross\u001b[0m \u001b[0mvalidation\u001b[0m\u001b[0;34m.\u001b[0m\u001b[0;34m\u001b[0m\u001b[0m\n\u001b[1;32m   1421\u001b[0m     \"\"\"\n\u001b[0;32m-> 1422\u001b[0;31m     \u001b[0mX\u001b[0m\u001b[0;34m,\u001b[0m \u001b[0my\u001b[0m \u001b[0;34m=\u001b[0m \u001b[0mindexable\u001b[0m\u001b[0;34m(\u001b[0m\u001b[0mX\u001b[0m\u001b[0;34m,\u001b[0m \u001b[0my\u001b[0m\u001b[0;34m)\u001b[0m\u001b[0;34m\u001b[0m\u001b[0m\n\u001b[0m\u001b[1;32m   1423\u001b[0m \u001b[0;34m\u001b[0m\u001b[0m\n\u001b[1;32m   1424\u001b[0m     \u001b[0mcv\u001b[0m \u001b[0;34m=\u001b[0m \u001b[0mcheck_cv\u001b[0m\u001b[0;34m(\u001b[0m\u001b[0mcv\u001b[0m\u001b[0;34m,\u001b[0m \u001b[0mX\u001b[0m\u001b[0;34m,\u001b[0m \u001b[0my\u001b[0m\u001b[0;34m,\u001b[0m \u001b[0mclassifier\u001b[0m\u001b[0;34m=\u001b[0m\u001b[0mis_classifier\u001b[0m\u001b[0;34m(\u001b[0m\u001b[0mestimator\u001b[0m\u001b[0;34m)\u001b[0m\u001b[0;34m)\u001b[0m\u001b[0;34m\u001b[0m\u001b[0m\n",
      "\u001b[0;32m/Users/xupeng.tong/anaconda/lib/python2.7/site-packages/sklearn/utils/validation.pyc\u001b[0m in \u001b[0;36mindexable\u001b[0;34m(*iterables)\u001b[0m\n\u001b[1;32m    199\u001b[0m         \u001b[0;32melse\u001b[0m\u001b[0;34m:\u001b[0m\u001b[0;34m\u001b[0m\u001b[0m\n\u001b[1;32m    200\u001b[0m             \u001b[0mresult\u001b[0m\u001b[0;34m.\u001b[0m\u001b[0mappend\u001b[0m\u001b[0;34m(\u001b[0m\u001b[0mnp\u001b[0m\u001b[0;34m.\u001b[0m\u001b[0marray\u001b[0m\u001b[0;34m(\u001b[0m\u001b[0mX\u001b[0m\u001b[0;34m)\u001b[0m\u001b[0;34m)\u001b[0m\u001b[0;34m\u001b[0m\u001b[0m\n\u001b[0;32m--> 201\u001b[0;31m     \u001b[0mcheck_consistent_length\u001b[0m\u001b[0;34m(\u001b[0m\u001b[0;34m*\u001b[0m\u001b[0mresult\u001b[0m\u001b[0;34m)\u001b[0m\u001b[0;34m\u001b[0m\u001b[0m\n\u001b[0m\u001b[1;32m    202\u001b[0m     \u001b[0;32mreturn\u001b[0m \u001b[0mresult\u001b[0m\u001b[0;34m\u001b[0m\u001b[0m\n\u001b[1;32m    203\u001b[0m \u001b[0;34m\u001b[0m\u001b[0m\n",
      "\u001b[0;32m/Users/xupeng.tong/anaconda/lib/python2.7/site-packages/sklearn/utils/validation.pyc\u001b[0m in \u001b[0;36mcheck_consistent_length\u001b[0;34m(*arrays)\u001b[0m\n\u001b[1;32m    174\u001b[0m     \u001b[0;32mif\u001b[0m \u001b[0mlen\u001b[0m\u001b[0;34m(\u001b[0m\u001b[0muniques\u001b[0m\u001b[0;34m)\u001b[0m \u001b[0;34m>\u001b[0m \u001b[0;36m1\u001b[0m\u001b[0;34m:\u001b[0m\u001b[0;34m\u001b[0m\u001b[0m\n\u001b[1;32m    175\u001b[0m         raise ValueError(\"Found arrays with inconsistent numbers of samples: \"\n\u001b[0;32m--> 176\u001b[0;31m                          \"%s\" % str(uniques))\n\u001b[0m\u001b[1;32m    177\u001b[0m \u001b[0;34m\u001b[0m\u001b[0m\n\u001b[1;32m    178\u001b[0m \u001b[0;34m\u001b[0m\u001b[0m\n",
      "\u001b[0;31mValueError\u001b[0m: Found arrays with inconsistent numbers of samples: [    2 10684]"
     ]
    }
   ],
   "source": [
    "from sklearn.svm import LinearSVC\n",
    "from sklearn.metrics import accuracy_score\n",
    "from sklearn.linear_model import LogisticRegression\n",
    "from sklearn.cross_validation import cross_val_score\n",
    "\n",
    "svm = LinearSVC()\n",
    "\n",
    "keke = intersectDFSfeatures(200)\n",
    "scores = cross_val_score(svm, keke, inputY, cv=5)\n",
    "print(\"Intersect:\", np.mean(scores))\n",
    "\n",
    "keke = unionDFSfeatures(10)\n",
    "scores = cross_val_score(svm, keke, inputY, cv=5)\n",
    "print(\"Union:\", np.mean(scores))\n",
    "\n",
    "keke = topAveDFSfeatures(1,27)\n",
    "scores = cross_val_score(svm, keke, inputY, cv=5)\n",
    "print(\"Ave:\", np.mean(scores))\n",
    "\n",
    "keke = topXGBoostfeatures(0,27)\n",
    "scores = cross_val_score(svm, keke, inputY, cv=5)\n",
    "print(\"XGBoost:\", np.mean(scores))\n",
    "\n",
    "print(\"Pick one TOP DFS features from 30\")\n",
    "for i in xrange(0,30):\n",
    "    keke = pickOneDFSfeatures(0,27,i)\n",
    "    scores = cross_val_score(svm, keke, inputY, cv=5)\n",
    "    print(np.mean(scores))"
   ]
  },
  {
   "cell_type": "code",
   "execution_count": 65,
   "metadata": {
    "collapsed": false
   },
   "outputs": [
    {
     "data": {
      "text/html": [
       "<iframe id=\"igraph\" scrolling=\"no\" style=\"border:none;\" seamless=\"seamless\" src=\"https://plot.ly/~tonyabracadabra/2.embed\" height=\"525px\" width=\"100%\"></iframe>"
      ],
      "text/plain": [
       "<plotly.tools.PlotlyDisplay object>"
      ]
     },
     "execution_count": 65,
     "metadata": {},
     "output_type": "execute_result"
    }
   ],
   "source": [
    "import plotly.plotly as py\n",
    "import plotly.graph_objs as go\n",
    "import plotly\n",
    "\n",
    "plotly.tools.set_credentials_file(username='tonyabracadabra', api_key='6gs9i5iec7')\n",
    "\n",
    "data = [\n",
    "    go.Heatmap(\n",
    "        z=np.abs(weights)\n",
    "    )\n",
    "]\n",
    "\n",
    "py.iplot(data, filename='30 Weights')"
   ]
  },
  {
   "cell_type": "code",
   "execution_count": 91,
   "metadata": {
    "collapsed": false
   },
   "outputs": [
    {
     "data": {
      "text/plain": [
       "[u'Phe9_2534',\n",
       " u'Phe9_491',\n",
       " u'Phe9_4912',\n",
       " u'Phe9_492',\n",
       " u'Phe9_4928',\n",
       " u'Phe9_493',\n",
       " u'Phe9_4930',\n",
       " u'Phe9_4931',\n",
       " u'Phe9_4932',\n",
       " u'Phe9_4938',\n",
       " u'Phe9_4939',\n",
       " u'Phe9_494',\n",
       " u'Phe9_4940',\n",
       " u'Phe9_496',\n",
       " u'Phe9_5343',\n",
       " u'Phe9_V146',\n",
       " u'Phe10_E236',\n",
       " u'Phe10_I23',\n",
       " u'Phe10_J44',\n",
       " u'Phe10_J449',\n",
       " u'Phe10_J45',\n",
       " u'Phe10_J452',\n",
       " u'Phe10_J453',\n",
       " u'Phe10_J454',\n",
       " u'Phe10_J459',\n",
       " u'Phe10_N08',\n",
       " u'Phe10_S060']"
      ]
     },
     "execution_count": 91,
     "metadata": {},
     "output_type": "execute_result"
    }
   ],
   "source": [
    "indexes_union = []\n",
    "for i in xrange(30):\n",
    "    indexes_union.append(np.argsort(weights[i])[::-1][:10].tolist())\n",
    "union = reduce(np.union1d, indexes_union).tolist()\n",
    "\n",
    "\n",
    "[i[0] for i in columnNames.reshape(7205,)[union]]"
   ]
  },
  {
   "cell_type": "code",
   "execution_count": 78,
   "metadata": {
    "collapsed": false
   },
   "outputs": [],
   "source": [
    "def getSelectedFeatureNames(which, topN):\n",
    "    if which == \"Ave\":\n",
    "        indexes = indexes_average_dfs\n",
    "    elif which == \"Union\":\n",
    "        indexes = \"\"\n",
    "    elif which == \"Intersect\"\n",
    "        \n",
    "    featureNames = [i[0] for i in columnNames.reshape(7205,)[indexes[:topN]]]\n",
    "    \n",
    "    return featureNames"
   ]
  },
  {
   "cell_type": "code",
   "execution_count": 99,
   "metadata": {
    "collapsed": false
   },
   "outputs": [
    {
     "name": "stdout",
     "output_type": "stream",
     "text": [
      "('Number of union features:', 1)\n",
      "('Union:', 0.94487121332880197)\n",
      "('Number of union features:', 10)\n",
      "('Union:', 0.94346676284389586)\n",
      "('Number of union features:', 12)\n",
      "('Union:', 0.9591910107244368)\n",
      "('Number of union features:', 17)\n",
      "('Union:', 0.97145272318043541)\n",
      "('Number of union features:', 21)\n",
      "('Union:', 0.97182712357021495)\n",
      "('Number of union features:', 23)\n",
      "('Union:', 0.99204408956348877)\n",
      "('Number of union features:', 26)\n",
      "('Union:', 0.99166968909173525)\n",
      "('Number of union features:', 26)\n",
      "('Union:', 0.99166968909173525)\n",
      "('Number of union features:', 26)\n",
      "('Union:', 0.99166968909173525)\n",
      "('Number of union features:', 27)\n",
      "('Union:', 0.99166960150243777)\n",
      "('Number of union features:', 28)\n",
      "('Union:', 0.99073384134732279)\n",
      "('Number of union features:', 31)\n",
      "('Union:', 0.98418163686619731)\n",
      "('Number of union features:', 31)\n",
      "('Union:', 0.98418163686619731)\n",
      "('Number of union features:', 31)\n",
      "('Union:', 0.98418163686619731)\n",
      "('Number of union features:', 34)\n",
      "('Union:', 0.98446240429717535)\n",
      "('Number of union features:', 36)\n",
      "('Union:', 0.98474339076287709)\n",
      "('Number of union features:', 40)\n",
      "('Union:', 0.98596013738369381)\n",
      "('Number of union features:', 45)\n",
      "('Union:', 0.98558578076806957)\n",
      "('Number of union features:', 51)\n",
      "('Union:', 0.98876816262448164)\n",
      "('Number of union features:', 55)\n",
      "('Union:', 0.98895538476792955)\n",
      "('Number of union features:', 61)\n",
      "('Union:', 0.98876816262448164)\n",
      "('Number of union features:', 67)\n",
      "('Union:', 0.98839398118745181)\n",
      "('Number of union features:', 73)\n",
      "('Union:', 0.9883001730500558)\n",
      "('Number of union features:', 77)\n",
      "('Union:', 0.98801936180393546)\n",
      "('Number of union features:', 86)\n",
      "('Union:', 0.98783209588633247)\n",
      "('Number of union features:', 89)\n",
      "('Union:', 0.98811295098858187)\n",
      "('Number of union features:', 102)\n",
      "('Union:', 0.98596048790483126)\n",
      "('Number of union features:', 108)\n",
      "('Union:', 0.98567980810413758)\n",
      "('Number of union features:', 120)\n",
      "('Union:', 0.98418233778551067)\n",
      "('Number of union features:', 129)\n",
      "('Union:', 0.98277810621236728)\n",
      "('Number of union features:', 139)\n",
      "('Union:', 0.98193567247400682)\n",
      "('Number of union features:', 151)\n",
      "('Union:', 0.98184238987239447)\n",
      "('Number of union features:', 162)\n",
      "('Union:', 0.98109350142156404)\n",
      "('Number of union features:', 173)\n",
      "('Union:', 0.98090641072354268)\n",
      "('Number of union features:', 182)\n",
      "('Union:', 0.9806255118471382)\n",
      "('Number of union features:', 192)\n",
      "('Union:', 0.97968944506800215)\n",
      "('Number of union features:', 202)\n",
      "('Union:', 0.97997030012926456)\n",
      "('Number of union features:', 214)\n",
      "('Union:', 0.97940863386286914)\n",
      "('Number of union features:', 224)\n",
      "('Union:', 0.9790342334321025)\n",
      "('Number of union features:', 234)\n",
      "('Union:', 0.97837897798106077)\n",
      "('Number of union features:', 242)\n",
      "('Union:', 0.97809829809839288)\n",
      "('Number of union features:', 255)\n",
      "('Union:', 0.97837889035077619)\n",
      "('Number of union features:', 265)\n",
      "('Union:', 0.97791085700219527)\n",
      "('Number of union features:', 269)\n",
      "('Union:', 0.9780979915153587)\n",
      "('Number of union features:', 275)\n",
      "('Union:', 0.9780979915153587)\n",
      "('Number of union features:', 280)\n",
      "('Union:', 0.9776299143516356)\n",
      "('Number of union features:', 289)\n",
      "('Union:', 0.97781744303713047)\n",
      "('Number of union features:', 297)\n",
      "('Union:', 0.97706864221658452)\n",
      "('Number of union features:', 304)\n",
      "('Union:', 0.97716231894954109)\n",
      "('Number of union features:', 309)\n",
      "('Union:', 0.97678783088849008)\n",
      "('Number of union features:', 318)\n",
      "('Union:', 0.97660078396462391)\n",
      "('Number of union features:', 322)\n",
      "('Union:', 0.97669424174483088)\n",
      "('Number of union features:', 325)\n",
      "('Union:', 0.97688159525173113)\n",
      "('Number of union features:', 331)\n",
      "('Union:', 0.97697509680609307)\n",
      "('Number of union features:', 340)\n",
      "('Union:', 0.97631975376575397)\n",
      "('Number of union features:', 347)\n",
      "('Union:', 0.97660069641631364)\n",
      "('Number of union features:', 356)\n",
      "('Union:', 0.97678804988222689)\n",
      "('Number of union features:', 369)\n",
      "('Union:', 0.97678796229292963)\n",
      "('Number of union features:', 375)\n",
      "('Union:', 0.97632001653364586)\n",
      "('Number of union features:', 386)\n",
      "('Union:', 0.97697522825151961)\n",
      "('Number of union features:', 393)\n",
      "('Union:', 0.97688150766243387)\n",
      "('Number of union features:', 400)\n",
      "('Union:', 0.97716231890855398)\n",
      "('Number of union features:', 407)\n",
      "('Union:', 0.97706877353904975)\n",
      "('Number of union features:', 410)\n",
      "('Union:', 0.97706872976489456)\n",
      "('Number of union features:', 419)\n",
      "('Union:', 0.97678796229292963)\n",
      "('Number of union features:', 422)\n",
      "('Union:', 0.97697509680609307)\n",
      "('Number of union features:', 433)\n",
      "('Union:', 0.9766944169644125)\n",
      "('Number of union features:', 442)\n",
      "('Union:', 0.976787787114335)\n",
      "('Number of union features:', 446)\n",
      "('Union:', 0.97660060882701638)\n",
      "('Number of union features:', 451)\n",
      "('Union:', 0.97669415419652061)\n",
      "('Number of union features:', 457)\n",
      "('Union:', 0.97669411042236542)\n",
      "('Number of union features:', 460)\n",
      "('Union:', 0.97669406660722335)\n",
      "('Number of union features:', 467)\n",
      "('Union:', 0.97678761201771458)\n",
      "('Number of union features:', 475)\n",
      "('Union:', 0.9765069320940597)\n",
      "('Number of union features:', 482)\n",
      "('Union:', 0.97669402287405516)\n",
      "('Number of union features:', 487)\n",
      "('Union:', 0.97660052127870611)\n",
      "('Number of union features:', 496)\n",
      "('Union:', 0.97622607711477138)\n",
      "('Number of union features:', 506)\n",
      "('Union:', 0.97613248793012508)\n",
      "('Number of union features:', 517)\n",
      "('Union:', 0.9762260770737845)\n",
      "('Number of union features:', 530)\n",
      "('Union:', 0.97575804372520347)\n",
      "('Number of union features:', 539)\n",
      "('Union:', 0.97538381851401856)\n",
      "('Number of union features:', 550)\n",
      "('Union:', 0.97547740761669088)\n",
      "('Number of union features:', 559)\n",
      "('Union:', 0.97547745143183295)\n",
      "('Number of union features:', 572)\n",
      "('Union:', 0.97547740761669088)\n",
      "('Number of union features:', 581)\n",
      "('Union:', 0.97538377465788939)\n",
      "('Number of union features:', 595)\n",
      "('Union:', 0.97547740765767776)\n",
      "('Number of union features:', 605)\n",
      "('Union:', 0.97529014174007478)\n",
      "('Number of union features:', 620)\n",
      "('Union:', 0.97538377465788939)\n",
      "('Number of union features:', 630)\n",
      "('Union:', 0.97491591648790299)\n",
      "('Number of union features:', 638)\n",
      "('Union:', 0.97519681536430747)\n",
      "('Number of union features:', 647)\n",
      "('Union:', 0.97529031691866952)\n",
      "('Number of union features:', 656)\n",
      "('Union:', 0.97538390606232883)\n",
      "('Number of union features:', 666)\n",
      "('Union:', 0.97510318240550597)\n",
      "('Number of union features:', 677)\n",
      "('Union:', 0.97482241497452793)\n",
      "('Number of union features:', 692)\n",
      "('Union:', 0.97510300726789834)\n",
      "('Number of union features:', 705)\n",
      "('Union:', 0.97482232738523056)\n",
      "('Number of union features:', 713)\n",
      "('Union:', 0.97472873824157136)\n",
      "('Number of union features:', 724)\n",
      "('Union:', 0.97444788318030895)\n",
      "('Number of union features:', 738)\n",
      "('Union:', 0.97444792699545124)\n"
     ]
    }
   ],
   "source": [
    "scores_union = []\n",
    "for i in xrange(1,100):\n",
    "    keke = unionDFSfeatures(i)\n",
    "    scores_union.append(np.mean(cross_val_score(svm, keke, inputY, cv=5)))\n",
    "    print(\"Union:\", scores_union[-1])"
   ]
  },
  {
   "cell_type": "code",
   "execution_count": 29,
   "metadata": {
    "collapsed": false
   },
   "outputs": [
    {
     "name": "stdout",
     "output_type": "stream",
     "text": [
      "('Number of union features:', 23)\n"
     ]
    }
   ],
   "source": [
    "_, union = unionDFSfeatures(6)"
   ]
  },
  {
   "cell_type": "code",
   "execution_count": 59,
   "metadata": {
    "collapsed": false
   },
   "outputs": [
    {
     "name": "stdout",
     "output_type": "stream",
     "text": [
      "1\n",
      "2\n"
     ]
    },
    {
     "ename": "IndexError",
     "evalue": "list index out of range",
     "output_type": "error",
     "traceback": [
      "\u001b[0;31m---------------------------------------------------------------------------\u001b[0m",
      "\u001b[0;31mIndexError\u001b[0m                                Traceback (most recent call last)",
      "\u001b[0;32m<ipython-input-59-844464ca0bf2>\u001b[0m in \u001b[0;36m<module>\u001b[0;34m()\u001b[0m\n\u001b[1;32m      7\u001b[0m     \u001b[0m_\u001b[0m\u001b[0;34m,\u001b[0m \u001b[0mxg\u001b[0m \u001b[0;34m=\u001b[0m \u001b[0mtopXGBoostfeatures\u001b[0m\u001b[0;34m(\u001b[0m\u001b[0;36m0\u001b[0m\u001b[0;34m,\u001b[0m\u001b[0mi\u001b[0m\u001b[0;34m)\u001b[0m\u001b[0;34m\u001b[0m\u001b[0m\n\u001b[1;32m      8\u001b[0m     \u001b[0mtemp\u001b[0m \u001b[0;34m=\u001b[0m \u001b[0mnp\u001b[0m\u001b[0;34m.\u001b[0m\u001b[0mintersect1d\u001b[0m\u001b[0;34m(\u001b[0m\u001b[0mave\u001b[0m\u001b[0;34m,\u001b[0m\u001b[0mxg\u001b[0m\u001b[0;34m)\u001b[0m\u001b[0;34m\u001b[0m\u001b[0m\n\u001b[0;32m----> 9\u001b[0;31m     \u001b[0;32mif\u001b[0m \u001b[0mtemp\u001b[0m\u001b[0;34m.\u001b[0m\u001b[0mshape\u001b[0m\u001b[0;34m[\u001b[0m\u001b[0;36m0\u001b[0m\u001b[0;34m]\u001b[0m \u001b[0;34m>\u001b[0m \u001b[0;36m0\u001b[0m \u001b[0;32mand\u001b[0m \u001b[0mnum\u001b[0m\u001b[0;34m[\u001b[0m\u001b[0;34m-\u001b[0m\u001b[0;36m1\u001b[0m\u001b[0;34m]\u001b[0m \u001b[0;34m!=\u001b[0m \u001b[0mtemp\u001b[0m\u001b[0;34m.\u001b[0m\u001b[0mshape\u001b[0m\u001b[0;34m[\u001b[0m\u001b[0;36m0\u001b[0m\u001b[0;34m]\u001b[0m\u001b[0;34m:\u001b[0m\u001b[0;34m\u001b[0m\u001b[0m\n\u001b[0m\u001b[1;32m     10\u001b[0m         \u001b[0mnum\u001b[0m\u001b[0;34m.\u001b[0m\u001b[0mappend\u001b[0m\u001b[0;34m(\u001b[0m\u001b[0mtemp\u001b[0m\u001b[0;34m.\u001b[0m\u001b[0mshape\u001b[0m\u001b[0;34m[\u001b[0m\u001b[0;36m0\u001b[0m\u001b[0;34m]\u001b[0m\u001b[0;34m)\u001b[0m\u001b[0;34m\u001b[0m\u001b[0m\n\u001b[1;32m     11\u001b[0m         \u001b[0mkeke\u001b[0m \u001b[0;34m=\u001b[0m \u001b[0minputX\u001b[0m\u001b[0;34m[\u001b[0m\u001b[0;34m:\u001b[0m\u001b[0;34m,\u001b[0m\u001b[0mtemp\u001b[0m\u001b[0;34m.\u001b[0m\u001b[0mtolist\u001b[0m\u001b[0;34m(\u001b[0m\u001b[0;34m)\u001b[0m\u001b[0;34m]\u001b[0m\u001b[0;34m\u001b[0m\u001b[0m\n",
      "\u001b[0;31mIndexError\u001b[0m: list index out of range"
     ]
    }
   ],
   "source": [
    "ave, xg = 0, 0\n",
    "num = []\n",
    "acc = []\n",
    "for i in xrange(1,100):\n",
    "    print i\n",
    "    _, ave = topAveDFSfeatures(0,i)\n",
    "    _, xg = topXGBoostfeatures(0,i)\n",
    "    temp = np.intersect1d(ave,xg)\n",
    "    if temp.shape[0] > 0:\n",
    "        num.append(temp.shape[0])\n",
    "        keke = inputX[:,temp.tolist()]\n",
    "        acc.append(np.mean(cross_val_score(svm, keke, inputY, cv=5)))"
   ]
  },
  {
   "cell_type": "code",
   "execution_count": 58,
   "metadata": {
    "collapsed": false
   },
   "outputs": [
    {
     "data": {
      "text/plain": [
       "[0.94992524665396139,\n",
       " 0.94992524665396139,\n",
       " 0.94992524665396139,\n",
       " 0.94992524665396139,\n",
       " 0.94992524665396139,\n",
       " 0.94393448928154644,\n",
       " 0.95994038105985702,\n",
       " 0.95816201190581274,\n",
       " 0.95984692323866305,\n",
       " 0.95984692323866305,\n",
       " 0.96012760312133083,\n",
       " 0.96555599322606267,\n",
       " 0.96555599322606267,\n",
       " 0.96555599322606267,\n",
       " 0.96555599322606267,\n",
       " 0.96555599322606267,\n",
       " 0.96555599322606267,\n",
       " 0.96555599322606267,\n",
       " 0.96555599322606267,\n",
       " 0.96555599322606267,\n",
       " 0.98109310729021981,\n",
       " 0.98109310729021981,\n",
       " 0.98109310729021981,\n",
       " 0.98109310729021981,\n",
       " 0.98109310729021981,\n",
       " 0.98109310729021981,\n",
       " 0.98118660884458198,\n",
       " 0.9806250301674837,\n",
       " 0.98062511775678107,\n",
       " 0.97940823973152469,\n",
       " 0.97940823973152469,\n",
       " 0.97940823973152469,\n",
       " 0.97940823973152469,\n",
       " 0.97940823973152469,\n",
       " 0.97940823973152469,\n",
       " 0.97978303425264845,\n",
       " 0.97978303425264845,\n",
       " 0.97978303425264845,\n",
       " 0.97978303425264845,\n",
       " 0.97978303425264845,\n",
       " 0.97978307810877774,\n",
       " 0.97978307810877774,\n",
       " 0.97978307810877774,\n",
       " 0.97950217923237326,\n",
       " 0.97950217923237326,\n",
       " 0.97950217923237326,\n",
       " 0.97950217923237326,\n",
       " 0.97950217923237326,\n",
       " 0.97950217923237326,\n",
       " 0.97950217923237326,\n",
       " 0.97950217923237326,\n",
       " 0.97950217923237326,\n",
       " 0.97950217923237326,\n",
       " 0.97950217923237326,\n",
       " 0.97950217923237326,\n",
       " 0.97950217923237326,\n",
       " 0.97950217923237326,\n",
       " 0.97950217923237326,\n",
       " 0.97950217923237326,\n",
       " 0.97950217923237326,\n",
       " 0.97950217923237326,\n",
       " 0.97950217923237326,\n",
       " 0.97950217923237326,\n",
       " 0.97950217923237326,\n",
       " 0.97950217923237326,\n",
       " 0.97950217923237326,\n",
       " 0.97950217923237326,\n",
       " 0.97950217923237326,\n",
       " 0.97950217923237326,\n",
       " 0.97622585791609962,\n",
       " 0.97622585791609962,\n",
       " 0.97622585791609962,\n",
       " 0.97622585791609962,\n",
       " 0.97622585791609962,\n",
       " 0.97622585791609962,\n",
       " 0.97622585791609962,\n",
       " 0.97622585791609962,\n",
       " 0.97622585791609962,\n",
       " 0.97622585791609962,\n",
       " 0.97622585791609962,\n",
       " 0.97622585791609962,\n",
       " 0.97622585791609962,\n",
       " 0.97622585791609962,\n",
       " 0.97622585791609962,\n",
       " 0.97622585791609962,\n",
       " 0.97622585791609962,\n",
       " 0.97622585791609962,\n",
       " 0.97622585791609962,\n",
       " 0.97622585791609962,\n",
       " 0.97622585791609962,\n",
       " 0.97734914679769658,\n",
       " 0.97734914679769658,\n",
       " 0.97734914679769658,\n",
       " 0.97734914679769658,\n",
       " 0.97734914679769658,\n",
       " 0.97734914679769658,\n",
       " 0.97734914679769658,\n",
       " 0.97734914679769658]"
      ]
     },
     "execution_count": 58,
     "metadata": {},
     "output_type": "execute_result"
    }
   ],
   "source": [
    "acc"
   ]
  },
  {
   "cell_type": "code",
   "execution_count": 53,
   "metadata": {
    "collapsed": false
   },
   "outputs": [
    {
     "data": {
      "text/plain": [
       "0.98109310729021981"
      ]
     },
     "execution_count": 53,
     "metadata": {},
     "output_type": "execute_result"
    }
   ],
   "source": []
  },
  {
   "cell_type": "code",
   "execution_count": 54,
   "metadata": {
    "collapsed": false
   },
   "outputs": [
    {
     "data": {
      "text/plain": [
       "(9,)"
      ]
     },
     "execution_count": 54,
     "metadata": {},
     "output_type": "execute_result"
    }
   ],
   "source": [
    "temp.shape"
   ]
  }
 ],
 "metadata": {
  "kernelspec": {
   "display_name": "Python 2",
   "language": "python",
   "name": "python2"
  },
  "language_info": {
   "codemirror_mode": {
    "name": "ipython",
    "version": 2
   },
   "file_extension": ".py",
   "mimetype": "text/x-python",
   "name": "python",
   "nbconvert_exporter": "python",
   "pygments_lexer": "ipython2",
   "version": "2.7.12"
  }
 },
 "nbformat": 4,
 "nbformat_minor": 0
}

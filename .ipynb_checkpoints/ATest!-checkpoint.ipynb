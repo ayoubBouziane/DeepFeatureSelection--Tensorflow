{
 "cells": [
  {
   "cell_type": "code",
   "execution_count": 2,
   "metadata": {
    "collapsed": false
   },
   "outputs": [],
   "source": [
    "from sklearn import datasets\n",
    "from sklearn.cross_validation import train_test_split\n",
    "from scipy import io as sio\n",
    "from tensorflow.python.framework import ops\n",
    "from dfs2 import DeepFeatureSelectionNew\n",
    "import numpy as np\n",
    "from sklearn.datasets import make_classification\n",
    "from sklearn.preprocessing import normalize\n",
    "\n",
    "ourdataB = sio.loadmat(\"/Users/xupeng.tong/Documents/Data/OriginalData/newDataB_2labels.mat\")\n",
    "inputX = ourdataB['X']\n",
    "inputX = normalize(inputX, axis=0)\n",
    "inputY = ourdataB['Y'][0,:]\n",
    "columnNames = ourdataB['columnNames']\n",
    "\n",
    "# iris = datasets.load_iris()\n",
    "# inputX = iris.data[:,[1,2,3]]\n",
    "# inputY = iris.target\n",
    "\n",
    "# digits = datasets.load_digits()\n",
    "# inputX = digits.data  \n",
    "# inputY = digits.target\n",
    "\n",
    "# inputX, inputY = make_classification(n_samples=1000, n_features=7500, n_informative=3000, n_redundant=0, n_repeated=0, n_classes=2)\n",
    "\n",
    "X_train, X_test, y_train, y_test = train_test_split(inputX, inputY, test_size=0.2, random_state=42)"
   ]
  },
  {
   "cell_type": "code",
   "execution_count": 36,
   "metadata": {
    "collapsed": false
   },
   "outputs": [
    {
     "data": {
      "text/plain": [
       "array([[ 0.01143719,  0.00839743,  0.01043568, ...,  0.00818266,\n",
       "         0.01408974,  0.0096754 ],\n",
       "       [ 0.01143719,  0.        ,  0.01043568, ...,  0.00818266,\n",
       "         0.00704487,  0.0096754 ],\n",
       "       [ 0.01143719,  0.01679487,  0.01043568, ...,  0.00818266,\n",
       "         0.00704487,  0.0096754 ],\n",
       "       ..., \n",
       "       [ 0.00571859,  0.        ,  0.01043568, ...,  0.00956141,\n",
       "         0.00704487,  0.0096754 ],\n",
       "       [ 0.01143719,  0.00839743,  0.01043568, ...,  0.00818266,\n",
       "         0.00704487,  0.0096754 ],\n",
       "       [ 0.01143719,  0.00839743,  0.01043568, ...,  0.00818266,\n",
       "         0.00704487,  0.0096754 ]])"
      ]
     },
     "execution_count": 36,
     "metadata": {},
     "output_type": "execute_result"
    }
   ],
   "source": [
    "inputX"
   ]
  },
  {
   "cell_type": "code",
   "execution_count": 59,
   "metadata": {
    "collapsed": false
   },
   "outputs": [],
   "source": [
    "# ops.reset_default_graph()\n",
    "\n",
    "# dfsMLP = DeepFeatureSelectionNew(X_train5, X_test5, y_train, y_test, n_input=0, hidden_dims=[100], learning_rate=0.01, \\\n",
    "#                                  lambda1=0.001, lambda2=0.1, alpha1=0.01, alpha2=0.05, \\\n",
    "#                                  weight_init='mlp',epochs=100000, optimizer='Adam', print_step=100)\n",
    "\n",
    "# dfsMLP.train(batch_size=1000)"
   ]
  },
  {
   "cell_type": "code",
   "execution_count": null,
   "metadata": {
    "collapsed": true
   },
   "outputs": [],
   "source": [
    "from __future__ import print_function\n",
    "import numpy as np\n",
    "np.random.seed(1337)  # for reproducibility\n",
    "\n",
    "from keras.datasets import mnist\n",
    "from keras.models import Sequential\n",
    "from keras.layers.core import Dense, Dropout, Activation\n",
    "from keras.optimizers import SGD, Adam, RMSprop\n",
    "from keras.utils import np_utils\n",
    "\n",
    "\n",
    "batch_size = 128\n",
    "nb_classes = 10\n",
    "nb_epoch = 20\n",
    "\n",
    "Y_train = np_utils.to_categorical(y_train, nb_classes)\n",
    "Y_test = np_utils.to_categorical(y_test, nb_classes)\n",
    "\n",
    "model = Sequential()\n",
    "model.add(Dense(300, input_shape=(500,)))\n",
    "model.add(Activation('sigmoid'))\n",
    "model.add(Dense(2))\n",
    "model.add(Activation('softmax'))\n",
    "\n",
    "model.summary()\n",
    "\n",
    "model.compile(loss='categorical_crossentropy',\n",
    "              optimizer=RMSprop(),\n",
    "              metrics=['accuracy'])\n",
    "\n",
    "history = model.fit(X_train, Y_train,\n",
    "                    batch_size=batch_size, nb_epoch=nb_epoch,\n",
    "                    verbose=1, validation_data=(X_test, Y_test))\n",
    "score = model.evaluate(X_test, Y_test, verbose=0)\n",
    "print('Test score:', score[0])\n",
    "print('Test accuracy:', score[1])\n",
    "\n"
   ]
  },
  {
   "cell_type": "code",
   "execution_count": 56,
   "metadata": {
    "collapsed": false
   },
   "outputs": [
    {
     "data": {
      "text/plain": [
       "(8547, 10)"
      ]
     },
     "execution_count": 56,
     "metadata": {},
     "output_type": "execute_result"
    }
   ],
   "source": [
    "X_train10.shape"
   ]
  },
  {
   "cell_type": "code",
   "execution_count": 44,
   "metadata": {
    "collapsed": false
   },
   "outputs": [
    {
     "data": {
      "text/plain": [
       "[<matplotlib.lines.Line2D at 0x11a1781d0>]"
      ]
     },
     "execution_count": 44,
     "metadata": {},
     "output_type": "execute_result"
    },
    {
     "data": {
      "image/png": "[encoded data removed]",
      "text/plain": [
       "<matplotlib.figure.Figure at 0x1062d1650>"
      ]
     },
     "metadata": {},
     "output_type": "display_data"
    }
   ],
   "source": [
    "%matplotlib inline\n",
    "\n",
    "import matplotlib.pyplot as plt\n",
    "\n",
    "temp = abs(dfsMLP.selected_ws[0])\n",
    "\n",
    "plt.plot(temp)"
   ]
  },
  {
   "cell_type": "code",
   "execution_count": 5,
   "metadata": {
    "collapsed": false
   },
   "outputs": [],
   "source": [
    "temp = dfsMLP.selected_ws\n",
    "\n",
    "temp1, temp2 = temp[0], temp[1]"
   ]
  },
  {
   "cell_type": "code",
   "execution_count": 9,
   "metadata": {
    "collapsed": false
   },
   "outputs": [
    {
     "data": {
      "text/plain": [
       "(array([ 0,  1,  7,  8, 15, 16, 17, 20, 23, 24, 25, 31, 32, 36, 38, 39, 40,\n",
       "        41, 47, 48, 55, 56, 57, 62, 63]),)"
      ]
     },
     "execution_count": 9,
     "metadata": {},
     "output_type": "execute_result"
    }
   ],
   "source": [
    "np.where(abs(temp1)<0.01)"
   ]
  },
  {
   "cell_type": "code",
   "execution_count": 10,
   "metadata": {
    "collapsed": false
   },
   "outputs": [
    {
     "data": {
      "text/plain": [
       "(array([ 0,  1,  7,  8, 11, 14, 15, 16, 17, 22, 23, 24, 31, 32, 36, 38, 39,\n",
       "        40, 41, 44, 47, 48, 49, 51, 55, 56, 57, 59, 63]),)"
      ]
     },
     "execution_count": 10,
     "metadata": {},
     "output_type": "execute_result"
    }
   ],
   "source": [
    "np.where(abs(temp2)<0.01)"
   ]
  },
  {
   "cell_type": "code",
   "execution_count": 12,
   "metadata": {
    "collapsed": false
   },
   "outputs": [
    {
     "name": "stdout",
     "output_type": "stream",
     "text": [
      "(array([ 0,  1,  6,  7,  8,  9, 15, 16, 23, 24, 30, 31, 32, 39, 40, 41, 46,\n",
      "       47, 48, 49, 55, 56, 57, 63]),)\n",
      "(array([ 0,  1,  7,  8,  9, 12, 15, 16, 22, 23, 24, 30, 31, 32, 34, 38, 39,\n",
      "       40, 41, 46, 47, 48, 49, 55, 56, 57, 63]),)\n"
     ]
    }
   ],
   "source": [
    "temp = dfsMLP.selected_ws\n",
    "\n",
    "temp3, temp4 = temp[0], temp[1]\n",
    "\n",
    "print(np.where(abs(temp3)<0.01))\n",
    "print(np.where(abs(temp4)<0.01))"
   ]
  },
  {
   "cell_type": "code",
   "execution_count": 14,
   "metadata": {
    "collapsed": false
   },
   "outputs": [
    {
     "name": "stdout",
     "output_type": "stream",
     "text": [
      "(array([ 0,  1,  6,  7,  8,  9, 10, 15, 16, 18, 23, 24, 25, 28, 30, 31, 32,\n",
      "       33, 35, 36, 39, 40, 41, 44, 45, 46, 47, 48, 49, 51, 55, 56, 57, 60,\n",
      "       61, 63]),)\n",
      "(array([ 0,  1,  6,  7,  8,  9, 10, 15, 16, 18, 23, 24, 25, 28, 30, 31, 32,\n",
      "       33, 35, 36, 39, 40, 41, 44, 45, 46, 47, 48, 49, 51, 55, 56, 57, 60,\n",
      "       61, 63]),)\n"
     ]
    }
   ],
   "source": [
    "temp = dfsMLP.selected_ws\n",
    "\n",
    "temp5, temp6 = temp[0], temp[1]\n",
    "\n",
    "print(np.where(abs(temp5)<0.01))\n",
    "print(np.where(abs(temp6)<0.01))"
   ]
  },
  {
   "cell_type": "code",
   "execution_count": null,
   "metadata": {
    "collapsed": false
   },
   "outputs": [],
   "source": [
    "from sklearn.ensemble import RandomForestClassifier\n",
    "from sklearn.metrics import accuracy_score\n",
    "import xgboost as xgb\n",
    "\n",
    "# rf = RandomForestClassifier(criterion=\"entropy\", n_estimators = 300, max_depth = 100)\n",
    "# rf.fit(X_train, y_train)\n",
    "\n",
    "# y_pred = rf.predict(X_test)\n",
    "\n",
    "# gbm = xgb.XGBClassifier(max_depth=3, n_estimators=400, learning_rate=0.05).fit(X_train, y_train)\n",
    "# y_pred = gbm.predict(X_test)\n",
    "\n",
    "# print(accuracy_score(y_test, y_pred))\n",
    "\n",
    "gbm10 = xgb.XGBClassifier(max_depth=3, n_estimators=400, learning_rate=0.05).fit(X_train10, y_train)\n",
    "y_pred10 = gbm.predict(X_test10)\n",
    "\n",
    "print(accuracy_score(y_test, y_pred))"
   ]
  },
  {
   "cell_type": "code",
   "execution_count": 46,
   "metadata": {
    "collapsed": false
   },
   "outputs": [],
   "source": [
    "indexes = np.argsort(gbm.feature_importances_)[::-1]\n",
    "\n",
    "top100Features = np.array([columnNames[0][i] for i in indexes[0:200]])\n",
    "# top100Features = np.array([columnNames[i] for i in indexes[0:100]])\n",
    "# top100Features = top100Features.reshape(100,)"
   ]
  },
  {
   "cell_type": "code",
   "execution_count": 48,
   "metadata": {
    "collapsed": false
   },
   "outputs": [
    {
     "data": {
      "text/plain": [
       "array([ 0.0071736 ,  0.00382592,  0.        , ...,  0.        ,\n",
       "        0.        ,  0.04351985], dtype=float32)"
      ]
     },
     "execution_count": 48,
     "metadata": {},
     "output_type": "execute_result"
    }
   ],
   "source": []
  },
  {
   "cell_type": "code",
   "execution_count": 18,
   "metadata": {
    "collapsed": false
   },
   "outputs": [],
   "source": [
    "X_train500, X_test500 = X_train[:, indexes[:500]], X_test[:, indexes[:500]]\n",
    "    \n",
    "X_train10, X_test10 = X_train[:, indexes[:10]], X_test[:, indexes[:10]]"
   ]
  },
  {
   "cell_type": "code",
   "execution_count": 57,
   "metadata": {
    "collapsed": true
   },
   "outputs": [],
   "source": [
    "X_train5, X_test5 = X_train[:, indexes[:5]], X_test[:, indexes[:5]]"
   ]
  },
  {
   "cell_type": "code",
   "execution_count": 33,
   "metadata": {
    "collapsed": false
   },
   "outputs": [
    {
     "name": "stdout",
     "output_type": "stream",
     "text": [
      "0.65933551708\n"
     ]
    }
   ],
   "source": [
    "from sklearn.linear_model import SGDClassifier\n",
    "\n",
    "clf = SGDClassifier(loss=\"log\", penalty=\"l1\")\n",
    "\n",
    "clf.fit(X_train500, y_train)\n",
    "\n",
    "y_pred500lr = clf.predict(X_test500)\n",
    "\n",
    "print(accuracy_score(y_test, y_pred500lr))"
   ]
  }
 ],
 "metadata": {
  "kernelspec": {
   "display_name": "Python 2",
   "language": "python",
   "name": "python2"
  },
  "language_info": {
   "codemirror_mode": {
    "name": "ipython",
    "version": 2
   },
   "file_extension": ".py",
   "mimetype": "text/x-python",
   "name": "python",
   "nbconvert_exporter": "python",
   "pygments_lexer": "ipython2",
   "version": "2.7.11"
  }
 },
 "nbformat": 4,
 "nbformat_minor": 0
}

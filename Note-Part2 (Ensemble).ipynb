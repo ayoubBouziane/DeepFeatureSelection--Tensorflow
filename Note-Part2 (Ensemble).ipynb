{
 "cells": [
  {
   "cell_type": "markdown",
   "metadata": {},
   "source": [
    "# Load the weights files from the folder ../weights"
   ]
  },
  {
   "cell_type": "code",
   "execution_count": 6,
   "metadata": {
    "collapsed": false
   },
   "outputs": [],
   "source": [
    "from sklearn.preprocessing import normalize\n",
    "import numpy as np\n",
    "\n",
    "# Substitute the weights file you have just generated\n",
    "weights_0_10 = np.load(\"./weights/weights-0-10-NEW-mean.npy\")\n",
    "weights_10_20 = np.load(\"./weights/weights-10-20-NEW-mean.npy\")\n",
    "weights_20_30 = np.load(\"./weights/weights-20-30-NEW-mean.npy\")\n",
    "\n",
    "# Substitute the xgboost model you have generated\n",
    "indexes_xgboost = np.load(\"./weights/indexes_xgboost.npy\")\n",
    "\n",
    "# Concatenate 3 weights files into one\n",
    "weights_dfs = np.concatenate((weights_0_10, weights_10_20, weights_20_30))\n",
    "# Get the absolute and normalized version of the weights\n",
    "weights_dfs = normalize(abs(weights_dfs))\n",
    "\n",
    "# Save the weights you have reproduced\n",
    "np.save(\"./weights/weights-NEW-mean\", weights_dfs)"
   ]
  },
  {
   "cell_type": "code",
   "execution_count": 77,
   "metadata": {
    "collapsed": false
   },
   "outputs": [],
   "source": [
    "dataB_7169 = sio.loadmat('/Volumes/TONY/Regeneron/Data/OriginalData/B_3labels_mean_scaled_7169.mat')"
   ]
  },
  {
   "cell_type": "code",
   "execution_count": 78,
   "metadata": {
    "collapsed": false
   },
   "outputs": [],
   "source": [
    "index_COPDAcos = [i for i in xrange(dataB_7169['X'].shape[0]) if i not in np.where(dataB_7169['Y']==1)[1]]"
   ]
  },
  {
   "cell_type": "code",
   "execution_count": 79,
   "metadata": {
    "collapsed": false
   },
   "outputs": [],
   "source": [
    "dataB_7169['X'] = dataB_7169['X'][index_COPDAcos,:]\n",
    "dataB_7169['Y'] = dataB_7169['Y'][0][index_COPDAcos]\n",
    "dataB_7169['Y'] = np.array([0 if i == 0 else 1 for i in dataB_7169['Y']])\n",
    "\n",
    "sio.savemat('/Volumes/TONY/Regeneron/Data/OriginalData/B_COPDAcos_mean_scaled_7169.mat', dataB_7169)"
   ]
  },
  {
   "cell_type": "code",
   "execution_count": 82,
   "metadata": {
    "collapsed": false
   },
   "outputs": [
    {
     "data": {
      "text/plain": [
       "(6491,)"
      ]
     },
     "execution_count": 82,
     "metadata": {},
     "output_type": "execute_result"
    }
   ],
   "source": [
    "dataB_7169['Y'].shape"
   ]
  },
  {
   "cell_type": "code",
   "execution_count": 72,
   "metadata": {
    "collapsed": false
   },
   "outputs": [
    {
     "data": {
      "text/plain": [
       "(10684, 7169)"
      ]
     },
     "execution_count": 72,
     "metadata": {},
     "output_type": "execute_result"
    }
   ],
   "source": [
    "dataB_7169['X'].shape"
   ]
  },
  {
   "cell_type": "code",
   "execution_count": 73,
   "metadata": {
    "collapsed": false
   },
   "outputs": [
    {
     "data": {
      "text/plain": [
       "(10684,)"
      ]
     },
     "execution_count": 73,
     "metadata": {},
     "output_type": "execute_result"
    }
   ],
   "source": [
    "dataB_7169['Y'].shape"
   ]
  },
  {
   "cell_type": "code",
   "execution_count": 60,
   "metadata": {
    "collapsed": false
   },
   "outputs": [],
   "source": [
    "index_keep = [i for i in xrange(dataB['X'].shape[1]) if i not in index_eliminatedAll]"
   ]
  },
  {
   "cell_type": "code",
   "execution_count": 63,
   "metadata": {
    "collapsed": true
   },
   "outputs": [],
   "source": []
  },
  {
   "cell_type": "code",
   "execution_count": 61,
   "metadata": {
    "collapsed": false
   },
   "outputs": [
    {
     "data": {
      "text/plain": [
       "(7205,)"
      ]
     },
     "execution_count": 61,
     "metadata": {},
     "output_type": "execute_result"
    }
   ],
   "source": [
    "dataB['columnNames'].shape"
   ]
  },
  {
   "cell_type": "markdown",
   "metadata": {},
   "source": [
    "# Load the data"
   ]
  },
  {
   "cell_type": "code",
   "execution_count": 47,
   "metadata": {
    "collapsed": false
   },
   "outputs": [],
   "source": [
    "from scipy import io as sio\n",
    "\n",
    "# Load the data\n",
    "ourdata = sio.loadmat(\"./data/B_mean_2labels.mat\")\n",
    "\n",
    "inputX = ourdata['X']\n",
    "\n",
    "# Normalize the data will lead to a worse result, as we previously presented, but a larger difference\n",
    "# in performance of XGBoost and DFS\n",
    "# inputX = normalize(inputX, axis=0)\n",
    "\n",
    "inputY = ourdata['Y'][0,:]\n",
    "columnNames = ourdata['columnNames']"
   ]
  },
  {
   "cell_type": "code",
   "execution_count": 48,
   "metadata": {
    "collapsed": false
   },
   "outputs": [
    {
     "data": {
      "text/plain": [
       "(10684, 7205)"
      ]
     },
     "execution_count": 48,
     "metadata": {},
     "output_type": "execute_result"
    }
   ],
   "source": [
    "inputX.shape"
   ]
  },
  {
   "cell_type": "markdown",
   "metadata": {},
   "source": [
    "# Functions that regenerate the input data X based on different standards"
   ]
  },
  {
   "cell_type": "code",
   "execution_count": 8,
   "metadata": {
    "collapsed": false
   },
   "outputs": [],
   "source": [
    "# Averaging the weights based on the sum of all the normalized weights\n",
    "averagedWeight = weights_dfs.sum(axis=0)\n",
    "# ranking indexes for DFS (Average)\n",
    "indexes_average_dfs = np.argsort(averagedWeight)[::-1]\n",
    "\n",
    "# Select features in rank [a, b] from average DFS model, and also the indexes of these features\n",
    "def topAveDFSfeatures(a,b):\n",
    "    return inputX[:, indexes_average_dfs.tolist()[a:b]], indexes_average_dfs.tolist()[a:b]\n",
    "\n",
    "# Select the union of top N features from each of the DFS model, and also the indexes of these features\n",
    "def unionDFSfeatures(n):\n",
    "    indexes_union = []\n",
    "    for i in xrange(30):\n",
    "        indexes_union.append(np.argsort(weights_dfs[i])[::-1][:n].tolist())\n",
    "        \n",
    "    union = reduce(np.union1d, indexes_union).tolist()\n",
    "#     print(\"Number of union features:\", len(union))\n",
    "    \n",
    "    return inputX[:, union], union\n",
    "\n",
    "# Select the intersection of top N features from each of the DFS model, and also the indexes of these features\n",
    "def intersectDFSfeatures(n):\n",
    "    indexes_intersect = []\n",
    "    for i in xrange(30):\n",
    "        indexes_intersect.append(np.argsort(weights_dfs[i])[::-1][:n].tolist())\n",
    "    \n",
    "    intersected = reduce(np.intersect1d, indexes_intersect).tolist()\n",
    "#     print(\"Number of intersected features:\",len(intersected))\n",
    "    return inputX[:, intersected], intersected\n",
    "\n",
    "# Select features in rank [a, b] from each of the XGBoost model, and also the indexes of these features\n",
    "def topXGBoostfeatures(a,b):\n",
    "    return inputX[:, indexes_xgboost.tolist()[a:b]], indexes_xgboost.tolist()[a:b]\n",
    "\n",
    "# SSelect features in rank [a, b] from one of the DFS model (n stands for which single model), \n",
    "# and also the indexes of these features\n",
    "def pickOneDFSfeatures(a,b,n):\n",
    "    indexx = np.argsort(weights_dfs[n])[::-1]\n",
    "    return inputX[:, indexx.tolist()[a:b]], indexx.tolist()[a:b]"
   ]
  },
  {
   "cell_type": "markdown",
   "metadata": {},
   "source": [
    "# Run each models"
   ]
  },
  {
   "cell_type": "code",
   "execution_count": 8,
   "metadata": {
    "collapsed": false
   },
   "outputs": [
    {
     "name": "stdout",
     "output_type": "stream",
     "text": [
      "('Intersect:', 0.99513296970159071)\n",
      "('Union:', 0.99644317410261452)\n",
      "('Ave:', 0.99663061519881191)\n",
      "('XGBoost:', 0.99560104682432693)\n",
      "Pick one TOP DFS features from the existing single models.\n",
      "0.99560100305\n",
      "0.99653706987\n",
      "0.995881814337\n",
      "0.995788312824\n",
      "0.995881639159\n",
      "0.995975622475\n",
      "0.996349672548\n",
      "0.995320191886\n",
      "0.996256170994\n",
      "0.99597549107\n",
      "0.995881814337\n",
      "0.995320279434\n",
      "0.996069124029\n",
      "0.995975447296\n",
      "0.995788137604\n",
      "0.995881814337\n",
      "0.996162669399\n",
      "0.996162581809\n",
      "0.996068948891\n",
      "0.995601046865\n",
      "0.996443393096\n",
      "0.996256170994\n",
      "0.996817837342\n",
      "0.996537069829\n",
      "0.996256170953\n",
      "0.995975491152\n",
      "0.99606894885\n",
      "0.996536938425\n",
      "0.996349891501\n",
      "0.995881858193\n"
     ]
    }
   ],
   "source": [
    "from sklearn.svm import LinearSVC\n",
    "from sklearn.metrics import accuracy_score\n",
    "from sklearn.linear_model import LogisticRegression\n",
    "from sklearn.cross_validation import cross_val_score\n",
    "\n",
    "svm = LinearSVC()\n",
    "\n",
    "temp, _ = intersectDFSfeatures(200)\n",
    "scores = cross_val_score(svm, temp, inputY, cv=5)\n",
    "print(\"Intersect:\", np.mean(scores))\n",
    "\n",
    "temp, _ = unionDFSfeatures(20)\n",
    "scores = cross_val_score(svm, temp, inputY, cv=5)\n",
    "print(\"Union:\", np.mean(scores))\n",
    "\n",
    "temp, _ = topAveDFSfeatures(0,50)\n",
    "scores = cross_val_score(svm, temp, inputY, cv=5)\n",
    "print(\"Ave:\", np.mean(scores))\n",
    "\n",
    "temp, _ = topXGBoostfeatures(0,50)\n",
    "scores = cross_val_score(svm, temp, inputY, cv=5)\n",
    "print(\"XGBoost:\", np.mean(scores))\n",
    "\n",
    "print(\"Pick one TOP DFS features from the existing single models.\")\n",
    "for i in xrange(0, weights_dfs.shape[0]):\n",
    "    temp, _ = pickOneDFSfeatures(0,50,i)\n",
    "    scores = cross_val_score(svm, temp, inputY, cv=5)\n",
    "    print(np.mean(scores))"
   ]
  },
  {
   "cell_type": "markdown",
   "metadata": {},
   "source": [
    "# The heat map for weights"
   ]
  },
  {
   "cell_type": "code",
   "execution_count": 12,
   "metadata": {
    "collapsed": false
   },
   "outputs": [
    {
     "data": {
      "text/html": [
       "<iframe id=\"igraph\" scrolling=\"no\" style=\"border:none;\" seamless=\"seamless\" src=\"https://plot.ly/~tonyabracadabra/22.embed\" height=\"525px\" width=\"100%\"></iframe>"
      ],
      "text/plain": [
       "<plotly.tools.PlotlyDisplay object>"
      ]
     },
     "execution_count": 12,
     "metadata": {},
     "output_type": "execute_result"
    }
   ],
   "source": [
    "import plotly.plotly as py\n",
    "import plotly.graph_objs as go\n",
    "import plotly\n",
    "\n",
    "plotly.tools.set_credentials_file(username='tonyabracadabra', api_key='6gs9i5iec7')\n",
    "\n",
    "data = [\n",
    "    go.Heatmap(\n",
    "        z = weights_dfs\n",
    "    )\n",
    "]\n",
    "\n",
    "py.iplot(data, filename='Weights from DFS stacked')"
   ]
  },
  {
   "cell_type": "code",
   "execution_count": 70,
   "metadata": {
    "collapsed": false
   },
   "outputs": [],
   "source": [
    "# Run SVM with top features from DFS union model\n",
    "scoresUnion = []\n",
    "n_unions = []\n",
    "for i in xrange(1,50):\n",
    "    keke, union = unionDFSfeatures(i)\n",
    "    if len(n_unions) == 0 or len(union) != n_unions[-1]:\n",
    "        n_unions.append(len(union))\n",
    "        scoresUnion.append(np.mean(cross_val_score(svm, keke, inputY, cv=5)))\n",
    "        print(\"Union:\", scoresUnion[-1])\n",
    "    \n",
    "traceUnion = go.Scatter(\n",
    "    x = n_unions,\n",
    "    y = scoresUnion,\n",
    "    mode = 'lines+markers',\n",
    "    name = 'lines+markers'\n",
    ")\n",
    "\n",
    "print(\"DFS Union has been ran.\")\n",
    "\n",
    "\"\"\"\n",
    "    Below models are ran with maximu n == n_unions[-1]\n",
    "\"\"\"\n",
    "\n",
    "# Run SVM with top features from DFS average model\n",
    "scoresAve = []\n",
    "for n in xrange(1, n_unions[-1]):\n",
    "    temp, _ = topAveDFSfeatures(0,n)\n",
    "    scoresAve.append(np.mean(cross_val_score(svm, temp, inputY, cv=5)))\n",
    "    print(\"Ave:\", scoresAve[-1])\n",
    "\n",
    "traceAve = go.Scatter(\n",
    "    x = range(1, n_unions[-1]),\n",
    "    y = scoresAve,\n",
    "    mode = 'lines+markers',\n",
    "    name = 'lines+markers'\n",
    ")\n",
    "\n",
    "print(\"DFS average has been ran.\")\n",
    "\n",
    "# Run SVM with top features from DFS single models\n",
    "tracesSingle = []\n",
    "for i in xrange(5):\n",
    "    print(\"Has ran a single DFS model:\"+str(i))\n",
    "    scoresNormal = []\n",
    "    for n in xrange(1, n_unions[-1]):\n",
    "        temp, _ = pickOneDFSfeatures(0,n,i)\n",
    "        scoresNormal.append(np.mean(cross_val_score(svm, temp, inputY, cv=5)))\n",
    "        \n",
    "    trace = go.Scatter(\n",
    "        x = range(1, n_unions[-1]),\n",
    "        y = scoresNormal,\n",
    "        mode = 'lines+markers',\n",
    "        name = 'lines+markers'\n",
    "    )\n",
    "    tracesSingle.append(trace)\n",
    "    \n",
    "scoresXgboost = []\n",
    "for n in xrange(1, n_unions[-1]):\n",
    "    temp, _ = topXGBoostfeatures(0,n)\n",
    "    scoresXgboost.append(np.mean(cross_val_score(svm, temp, inputY, cv=5)))\n",
    "    print(\"XGBoost:\", scoresXgboost[-1])\n",
    "\n",
    "traceXGB = go.Scatter(\n",
    "    x = range(1, n_unions[-1]),\n",
    "    y = scoresXgboost,\n",
    "    mode = 'lines+markers',\n",
    "    name = 'lines+markers'\n",
    ")\n",
    "\n",
    "print(\"XGBoost model has been ran.\")"
   ]
  },
  {
   "cell_type": "code",
   "execution_count": 69,
   "metadata": {
    "collapsed": false
   },
   "outputs": [
    {
     "data": {
      "text/html": [
       "<iframe id=\"igraph\" scrolling=\"no\" style=\"border:none;\" seamless=\"seamless\" src=\"https://plot.ly/~tonyabracadabra/6.embed\" height=\"525px\" width=\"100%\"></iframe>"
      ],
      "text/plain": [
       "<plotly.tools.PlotlyDisplay object>"
      ]
     },
     "execution_count": 69,
     "metadata": {},
     "output_type": "execute_result"
    }
   ],
   "source": [
    "a = [traceUnion,traceAve,traceXGB]\n",
    "a.extend(tracesSingle)\n",
    "\n",
    "py.iplot(a, filename='plot')"
   ]
  },
  {
   "cell_type": "markdown",
   "metadata": {},
   "source": [
    "# Compare features [0,10], [10,20], [20,30] ... [90,100]"
   ]
  },
  {
   "cell_type": "code",
   "execution_count": 77,
   "metadata": {
    "collapsed": false
   },
   "outputs": [
    {
     "name": "stdout",
     "output_type": "stream",
     "text": [
      "('XGBoost:', 0.99438390607216576)\n",
      "('XGBoost:', 0.98240388071427309)\n",
      "('XGBoost:', 0.97781779327135854)\n",
      "('XGBoost:', 0.97725621451228617)\n",
      "('XGBoost:', 0.97800501537381934)\n",
      "('XGBoost:', 0.97603946789146945)\n",
      "('XGBoost:', 0.98025141804039273)\n",
      "('XGBoost:', 0.9808131720190465)\n",
      "('XGBoost:', 0.83620461202334284)\n",
      "('XGBoost:', 0.7792956608839221)\n",
      "('XGBoost:', 0.80531506660464769)\n",
      "('XGBoost:', 0.75224440983586516)\n",
      "('XGBoost:', 0.77592404282206895)\n",
      "('XGBoost:', 0.74775191129068774)\n",
      "('XGBoost:', 0.74148007998623489)\n",
      "('XGBoost:', 0.74129294547307123)\n",
      "('XGBoost:', 0.74381950215863235)\n",
      "('XGBoost:', 0.73474214217478018)\n",
      "('XGBoost:', 0.68251514527155899)\n",
      "('XGBoost:', 0.68700825661392106)\n",
      "('Ave:', 0.99466484872272543)\n",
      "('Ave:', 0.98390121979240841)\n",
      "('Ave:', 0.98240374971970401)\n",
      "('Ave:', 0.98015690910664444)\n",
      "('Ave:', 0.97285651635623527)\n",
      "('Ave:', 0.9883001729270946)\n",
      "('Ave:', 0.98362067143714127)\n",
      "('Ave:', 0.98324627096538764)\n",
      "('Ave:', 0.98193571645309707)\n",
      "('Ave:', 0.9863351072473604)\n",
      "('Ave:', 0.97201456478937354)\n",
      "('Ave:', 0.97098504043496592)\n",
      "('Ave:', 0.97079786210666019)\n",
      "('Ave:', 0.96939393719852462)\n",
      "('Ave:', 0.9722016556103561)\n",
      "('Ave:', 0.97210802256958062)\n",
      "('Ave:', 0.97257596828787718)\n",
      "('Ave:', 0.97332485677969449)\n",
      "('Ave:', 0.83835790767676888)\n",
      "('Ave:', 0.8798205757140487)\n",
      "Has ran a single DFS model:0\n",
      "Has ran a single DFS model:1\n",
      "Has ran a single DFS model:2\n",
      "Has ran a single DFS model:3\n",
      "Has ran a single DFS model:4\n"
     ]
    }
   ],
   "source": [
    "scoresXgboost_range = []\n",
    "for i in xrange(20):\n",
    "    temp, _ = topXGBoostfeatures(i,i+10)\n",
    "    scoresXgboost_range.append(np.mean(cross_val_score(svm, temp, inputY, cv=5)))\n",
    "    print(\"XGBoost:\", scoresXgboost_range[-1])\n",
    "\n",
    "traceXGB_range = go.Scatter(\n",
    "    x = range(20),\n",
    "    y = scoresXgboost_range,\n",
    "    mode = 'lines+markers',\n",
    "    name = 'lines+markers'\n",
    ")\n",
    "\n",
    "scoresAve_range = []\n",
    "for i in xrange(20):\n",
    "    temp, _ = topAveDFSfeatures(i,i+10)\n",
    "    scoresAve_range.append(np.mean(cross_val_score(svm, temp, inputY, cv=5)))\n",
    "    print(\"Ave:\", scoresAve_range[-1])\n",
    "\n",
    "traceAve_range = go.Scatter(\n",
    "    x = range(20),\n",
    "    y = scoresAve_range,\n",
    "    mode = 'lines+markers',\n",
    "    name = 'lines+markers'\n",
    ")\n",
    "\n",
    "# Run SVM with top features from DFS single models\n",
    "tracesSingle_range = []\n",
    "for i in xrange(5):\n",
    "    print(\"Has ran a single DFS model:\"+str(i))\n",
    "    scoresNormal = []\n",
    "    for j in xrange(20):\n",
    "        temp, _ = pickOneDFSfeatures(j,j+10,i)\n",
    "        scoresNormal.append(np.mean(cross_val_score(svm, temp, inputY, cv=5)))\n",
    "        \n",
    "    trace = go.Scatter(\n",
    "        x = range(20),\n",
    "        y = scoresNormal,\n",
    "        mode = 'lines+markers',\n",
    "        name = 'lines+markers'\n",
    "    )\n",
    "    tracesSingle_range.append(trace)"
   ]
  },
  {
   "cell_type": "code",
   "execution_count": 78,
   "metadata": {
    "collapsed": false
   },
   "outputs": [
    {
     "data": {
      "text/html": [
       "<iframe id=\"igraph\" scrolling=\"no\" style=\"border:none;\" seamless=\"seamless\" src=\"https://plot.ly/~tonyabracadabra/6.embed\" height=\"525px\" width=\"100%\"></iframe>"
      ],
      "text/plain": [
       "<plotly.tools.PlotlyDisplay object>"
      ]
     },
     "execution_count": 78,
     "metadata": {},
     "output_type": "execute_result"
    }
   ],
   "source": [
    "b = [traceAve_range,traceXGB_range]\n",
    "b.extend(tracesSingle_range)\n",
    "\n",
    "py.iplot(b, filename='plot')"
   ]
  },
  {
   "cell_type": "markdown",
   "metadata": {},
   "source": [
    "# The function that retrieves the names for the features"
   ]
  },
  {
   "cell_type": "code",
   "execution_count": 2,
   "metadata": {
    "collapsed": true
   },
   "outputs": [],
   "source": [
    "# ICD-9 codes mapping\n",
    "import pandas as pd\n",
    "\n",
    "dictionary = pd.read_csv(\"./data/BinaryTraitMatrix_V2_F50K_DD_20160523.csv\")\n",
    "codemapping = {i:j for i, j in zip(dictionary[\"FIELD_NAME\"].values, dictionary[\"FIELD_DESCRIPTION\"].values)}\n",
    "\n",
    "def getFeatureNames(indexes):\n",
    "    return [codemapping[str(i[0])] for i in columnNames[0][indexes]]"
   ]
  },
  {
   "cell_type": "code",
   "execution_count": 3,
   "metadata": {
    "collapsed": false
   },
   "outputs": [],
   "source": [
    "a = [i[0] for i in codemapping.items() if 'Emphysema' in i[1]]\n",
    "b = [i[0] for i in codemapping.items() if 'emphysema' in i[1]]\n",
    "c = [i[0] for i in codemapping.items() if 'asthma' in i[1]]\n",
    "d = [i[0] for i in codemapping.items() if 'Asthma' in i[1]]\n",
    "e = [i[0] for i in codemapping.items() if 'Chronic bronchitis' in i[1]]\n",
    "f = [i[0] for i in codemapping.items() if 'chronic bronchitis' in i[1]]"
   ]
  },
  {
   "cell_type": "code",
   "execution_count": 4,
   "metadata": {
    "collapsed": false
   },
   "outputs": [],
   "source": [
    "icd9_eliminated = a+b+c+d+e+f"
   ]
  },
  {
   "cell_type": "code",
   "execution_count": 20,
   "metadata": {
    "collapsed": false
   },
   "outputs": [
    {
     "data": {
      "text/plain": [
       "['Phe10_J439',\n",
       " 'Phe10_J43',\n",
       " 'Phe9_4920',\n",
       " 'Phe9_492',\n",
       " 'Phe9_5181',\n",
       " 'Phe10_J982',\n",
       " 'Phe10_J438',\n",
       " 'Phe9_4928',\n",
       " 'Phe10_J454',\n",
       " 'Phe10_J455',\n",
       " 'Phe10_J452',\n",
       " 'Phe10_J453',\n",
       " 'Phe10_J459',\n",
       " 'Phe9_4938',\n",
       " 'Phe10_J45',\n",
       " 'Phe9_4939',\n",
       " 'Phe9_4930',\n",
       " 'Phe9_4931',\n",
       " 'Phe9_4932',\n",
       " 'Phe9_493',\n",
       " 'Phe9_491',\n",
       " 'Phe10_J411',\n",
       " 'Phe9_4911',\n",
       " 'Phe9_4918',\n",
       " 'Phe9_4919',\n",
       " 'Phe10_J41',\n",
       " 'Phe10_J42']"
      ]
     },
     "execution_count": 20,
     "metadata": {},
     "output_type": "execute_result"
    }
   ],
   "source": [
    "icd9_eliminated"
   ]
  },
  {
   "cell_type": "code",
   "execution_count": 19,
   "metadata": {
    "collapsed": false
   },
   "outputs": [
    {
     "data": {
      "text/plain": [
       "[1385,\n",
       " 1373,\n",
       " 1378,\n",
       " 1377,\n",
       " 4885,\n",
       " 1365,\n",
       " 4886,\n",
       " 1376,\n",
       " 4883,\n",
       " 4888,\n",
       " 4884,\n",
       " 1367,\n",
       " 1379,\n",
       " 4882,\n",
       " 1370,\n",
       " 1372,\n",
       " 1375,\n",
       " 4880,\n",
       " 1374,\n",
       " 1380,\n",
       " 4877,\n",
       " 4879,\n",
       " 4881,\n",
       " 1369,\n",
       " 4887,\n",
       " 4874,\n",
       " 4889,\n",
       " 4891,\n",
       " 4876,\n",
       " 1368,\n",
       " 1371]"
      ]
     },
     "execution_count": 19,
     "metadata": {},
     "output_type": "execute_result"
    }
   ],
   "source": [
    "index_eliminated2"
   ]
  },
  {
   "cell_type": "code",
   "execution_count": 39,
   "metadata": {
    "collapsed": false
   },
   "outputs": [],
   "source": [
    "index_eliminated = [i for i, j in enumerate(columnNames[0]) if str(j[0]) in icd9_eliminated]"
   ]
  },
  {
   "cell_type": "code",
   "execution_count": 40,
   "metadata": {
    "collapsed": false
   },
   "outputs": [
    {
     "data": {
      "text/plain": [
       "58"
      ]
     },
     "execution_count": 40,
     "metadata": {},
     "output_type": "execute_result"
    }
   ],
   "source": [
    "len(index_eliminated)+len(index_eliminated2)"
   ]
  },
  {
   "cell_type": "code",
   "execution_count": 41,
   "metadata": {
    "collapsed": true
   },
   "outputs": [],
   "source": [
    "index_eliminatedAll = index_eliminated + index_eliminated2"
   ]
  },
  {
   "cell_type": "code",
   "execution_count": 42,
   "metadata": {
    "collapsed": false
   },
   "outputs": [
    {
     "data": {
      "text/plain": [
       "58"
      ]
     },
     "execution_count": 42,
     "metadata": {},
     "output_type": "execute_result"
    }
   ],
   "source": [
    "index_eliminatedAll = np.unique(np.array(index_eliminatedAll))"
   ]
  },
  {
   "cell_type": "code",
   "execution_count": 46,
   "metadata": {
    "collapsed": false
   },
   "outputs": [
    {
     "data": {
      "text/plain": [
       "(36,)"
      ]
     },
     "execution_count": 46,
     "metadata": {},
     "output_type": "execute_result"
    }
   ],
   "source": [
    "index_eliminatedAll.shape"
   ]
  },
  {
   "cell_type": "code",
   "execution_count": 57,
   "metadata": {
    "collapsed": false
   },
   "outputs": [],
   "source": [
    "featuresSelectedMySelf = np.ndarray((27,2), dtype=object)\n",
    "\n",
    "featuresSelectedMySelf[:,0] = np.array(getFeatureNames(index_eliminated))\n",
    "featuresSelectedMySelf[:,1] = index_eliminated\n",
    "\n",
    "featuresSelectedMySelf = pd.DataFrame(featuresSelectedMySelf)\n",
    "\n",
    "featuresSelectedMySelf.to_csv(\"/Volumes/TONY/Regeneron/Data/featuresSelectedMySelf.csv\", header=['Feature', 'Index'])"
   ]
  },
  {
   "cell_type": "code",
   "execution_count": 58,
   "metadata": {
    "collapsed": false
   },
   "outputs": [],
   "source": [
    "np.save('/Volumes/TONY/Regeneron/Data/index_eliminated.npy', index_eliminated)"
   ]
  },
  {
   "cell_type": "code",
   "execution_count": 18,
   "metadata": {
    "collapsed": false
   },
   "outputs": [],
   "source": [
    "# np.array(getFeatureNames(indexes_average_dfs[:100]))"
   ]
  },
  {
   "cell_type": "code",
   "execution_count": 15,
   "metadata": {
    "collapsed": false
   },
   "outputs": [],
   "source": [
    "index_eliminated2 = indexes_average_dfs[:24].tolist()"
   ]
  },
  {
   "cell_type": "code",
   "execution_count": 16,
   "metadata": {
    "collapsed": false
   },
   "outputs": [],
   "source": [
    "index_eliminated2.append(4887)\n",
    "index_eliminated2.append(4874)\n",
    "index_eliminated2.append(4889)\n",
    "index_eliminated2.append(4891)\n",
    "index_eliminated2.append(4876)\n",
    "index_eliminated2.append(1368)\n",
    "index_eliminated2.append(1371)"
   ]
  },
  {
   "cell_type": "code",
   "execution_count": 55,
   "metadata": {
    "collapsed": false
   },
   "outputs": [],
   "source": [
    "top100 = np.ndarray((100,2), dtype=object)"
   ]
  },
  {
   "cell_type": "code",
   "execution_count": 32,
   "metadata": {
    "collapsed": false
   },
   "outputs": [],
   "source": [
    "top100[:,0] = np.array(getFeatureNames(indexes_average_dfs[:100]))\n",
    "top100[:,1] = indexes_average_dfs[:100]"
   ]
  },
  {
   "cell_type": "code",
   "execution_count": 44,
   "metadata": {
    "collapsed": false
   },
   "outputs": [],
   "source": [
    "import pandas as pd\n",
    "\n",
    "top100 = pd.DataFrame(top100)\n",
    "\n",
    "top100.to_csv(\"/Volumes/TONY/Regeneron/Data/top100Features.csv\", header=['Feature', 'Index'])"
   ]
  },
  {
   "cell_type": "code",
   "execution_count": 45,
   "metadata": {
    "collapsed": false
   },
   "outputs": [
    {
     "data": {
      "text/html": [
       "<div>\n",
       "<table border=\"1\" class=\"dataframe\">\n",
       "  <thead>\n",
       "    <tr style=\"text-align: right;\">\n",
       "      <th></th>\n",
       "      <th>0</th>\n",
       "      <th>1</th>\n",
       "    </tr>\n",
       "  </thead>\n",
       "  <tbody>\n",
       "    <tr>\n",
       "      <th>0</th>\n",
       "      <td>ICD9 3D: Chronic airway obstruction, not elsew...</td>\n",
       "      <td>1385</td>\n",
       "    </tr>\n",
       "    <tr>\n",
       "      <th>1</th>\n",
       "      <td>ICD9 3D: Asthma</td>\n",
       "      <td>1373</td>\n",
       "    </tr>\n",
       "    <tr>\n",
       "      <th>2</th>\n",
       "      <td>ICD9 4D: Asthma, Unspecified</td>\n",
       "      <td>1378</td>\n",
       "    </tr>\n",
       "    <tr>\n",
       "      <th>3</th>\n",
       "      <td>ICD9 4D: Exercise induced bronchospasm;Cough v...</td>\n",
       "      <td>1377</td>\n",
       "    </tr>\n",
       "    <tr>\n",
       "      <th>4</th>\n",
       "      <td>ICD10 4D: Mild persistent asthma</td>\n",
       "      <td>4885</td>\n",
       "    </tr>\n",
       "    <tr>\n",
       "      <th>5</th>\n",
       "      <td>ICD9 3D: Chronic bronchitis</td>\n",
       "      <td>1365</td>\n",
       "    </tr>\n",
       "    <tr>\n",
       "      <th>6</th>\n",
       "      <td>ICD10 4D: Moderate persistent asthma</td>\n",
       "      <td>4886</td>\n",
       "    </tr>\n",
       "    <tr>\n",
       "      <th>7</th>\n",
       "      <td>ICD9 4D: Chronic Obstructive Asthma</td>\n",
       "      <td>1376</td>\n",
       "    </tr>\n",
       "    <tr>\n",
       "      <th>8</th>\n",
       "      <td>ICD10 3D: Asthma</td>\n",
       "      <td>4883</td>\n",
       "    </tr>\n",
       "    <tr>\n",
       "      <th>9</th>\n",
       "      <td>ICD10 4D: Other and unspecified asthma</td>\n",
       "      <td>4888</td>\n",
       "    </tr>\n",
       "    <tr>\n",
       "      <th>10</th>\n",
       "      <td>ICD10 4D: Mild intermittent asthma</td>\n",
       "      <td>4884</td>\n",
       "    </tr>\n",
       "    <tr>\n",
       "      <th>11</th>\n",
       "      <td>ICD9 4D: Obstructive Chronic Bronchitis</td>\n",
       "      <td>1367</td>\n",
       "    </tr>\n",
       "    <tr>\n",
       "      <th>12</th>\n",
       "      <td>ICD9 3D: Bronchiectasis</td>\n",
       "      <td>1379</td>\n",
       "    </tr>\n",
       "    <tr>\n",
       "      <th>13</th>\n",
       "      <td>ICD10 4D: Chronic obstructive pulmonary diseas...</td>\n",
       "      <td>4882</td>\n",
       "    </tr>\n",
       "    <tr>\n",
       "      <th>14</th>\n",
       "      <td>ICD9 3D: Emphysema</td>\n",
       "      <td>1370</td>\n",
       "    </tr>\n",
       "    <tr>\n",
       "      <th>15</th>\n",
       "      <td>ICD9 4D: Other emphysema</td>\n",
       "      <td>1372</td>\n",
       "    </tr>\n",
       "    <tr>\n",
       "      <th>16</th>\n",
       "      <td>ICD9 4D: Intrinsic Asthma</td>\n",
       "      <td>1375</td>\n",
       "    </tr>\n",
       "    <tr>\n",
       "      <th>17</th>\n",
       "      <td>ICD10 3D: Other chronic obstructive pulmonary ...</td>\n",
       "      <td>4880</td>\n",
       "    </tr>\n",
       "    <tr>\n",
       "      <th>18</th>\n",
       "      <td>ICD9 4D: Extrinsic Asthma</td>\n",
       "      <td>1374</td>\n",
       "    </tr>\n",
       "    <tr>\n",
       "      <th>19</th>\n",
       "      <td>ICD9 4D: Bronchiectasis without acute exacerba...</td>\n",
       "      <td>1380</td>\n",
       "    </tr>\n",
       "    <tr>\n",
       "      <th>20</th>\n",
       "      <td>ICD10 3D: Emphysema</td>\n",
       "      <td>4877</td>\n",
       "    </tr>\n",
       "    <tr>\n",
       "      <th>21</th>\n",
       "      <td>ICD10 4D: Emphysema, unspecified</td>\n",
       "      <td>4879</td>\n",
       "    </tr>\n",
       "    <tr>\n",
       "      <th>22</th>\n",
       "      <td>ICD10 4D: Chronic obstructive pulmonary diseas...</td>\n",
       "      <td>4881</td>\n",
       "    </tr>\n",
       "    <tr>\n",
       "      <th>23</th>\n",
       "      <td>ICD9 4D: Unspecified chronic bronchitis</td>\n",
       "      <td>1369</td>\n",
       "    </tr>\n",
       "    <tr>\n",
       "      <th>24</th>\n",
       "      <td>Derived categorical smoking status</td>\n",
       "      <td>2</td>\n",
       "    </tr>\n",
       "    <tr>\n",
       "      <th>25</th>\n",
       "      <td>ICD10 4D: Tobacco use</td>\n",
       "      <td>7025</td>\n",
       "    </tr>\n",
       "    <tr>\n",
       "      <th>26</th>\n",
       "      <td>ICD10 4D: Severe persistent asthma</td>\n",
       "      <td>4887</td>\n",
       "    </tr>\n",
       "    <tr>\n",
       "      <th>27</th>\n",
       "      <td>ICD10 3D: Problems related to lifestyle</td>\n",
       "      <td>7024</td>\n",
       "    </tr>\n",
       "    <tr>\n",
       "      <th>28</th>\n",
       "      <td>Age at time of last encounter with the health ...</td>\n",
       "      <td>0</td>\n",
       "    </tr>\n",
       "    <tr>\n",
       "      <th>29</th>\n",
       "      <td>ICD9 4D: Tobacco use disorder</td>\n",
       "      <td>651</td>\n",
       "    </tr>\n",
       "    <tr>\n",
       "      <th>...</th>\n",
       "      <td>...</td>\n",
       "      <td>...</td>\n",
       "    </tr>\n",
       "    <tr>\n",
       "      <th>70</th>\n",
       "      <td>ICD10 4D: Atherosclerotic heart disease of nat...</td>\n",
       "      <td>4578</td>\n",
       "    </tr>\n",
       "    <tr>\n",
       "      <th>71</th>\n",
       "      <td>ICD10 3D: Intracranial injury</td>\n",
       "      <td>6468</td>\n",
       "    </tr>\n",
       "    <tr>\n",
       "      <th>72</th>\n",
       "      <td>ICD9 4D: Hypertrophy (benign) of prostate with...</td>\n",
       "      <td>1727</td>\n",
       "    </tr>\n",
       "    <tr>\n",
       "      <th>73</th>\n",
       "      <td>ICD10 3D: Certain current complications follow...</td>\n",
       "      <td>4571</td>\n",
       "    </tr>\n",
       "    <tr>\n",
       "      <th>74</th>\n",
       "      <td>ICD9 3D: Migraine</td>\n",
       "      <td>784</td>\n",
       "    </tr>\n",
       "    <tr>\n",
       "      <th>75</th>\n",
       "      <td>ICD9 3D: Gastrojejunal ulcer</td>\n",
       "      <td>1500</td>\n",
       "    </tr>\n",
       "    <tr>\n",
       "      <th>76</th>\n",
       "      <td>ICD10 4D: Hemopericardium as current complicat...</td>\n",
       "      <td>4572</td>\n",
       "    </tr>\n",
       "    <tr>\n",
       "      <th>77</th>\n",
       "      <td>ICD10 4D: Retention of urine, unspecified</td>\n",
       "      <td>6283</td>\n",
       "    </tr>\n",
       "    <tr>\n",
       "      <th>78</th>\n",
       "      <td>ICD10 4D: Pneumonia, unspecified organism</td>\n",
       "      <td>4823</td>\n",
       "    </tr>\n",
       "    <tr>\n",
       "      <th>79</th>\n",
       "      <td>ICD9 4D: Body Mass Index 40.0-44.9, adult;Body...</td>\n",
       "      <td>3272</td>\n",
       "    </tr>\n",
       "    <tr>\n",
       "      <th>80</th>\n",
       "      <td>ICD10 3D: Malignant neoplasm of bronchus and lung</td>\n",
       "      <td>3455</td>\n",
       "    </tr>\n",
       "    <tr>\n",
       "      <th>81</th>\n",
       "      <td>ICD10 3D: Chronic ischemic heart disease</td>\n",
       "      <td>4577</td>\n",
       "    </tr>\n",
       "    <tr>\n",
       "      <th>82</th>\n",
       "      <td>ICD9 3D: Pneumonia, organism unspecified</td>\n",
       "      <td>1359</td>\n",
       "    </tr>\n",
       "    <tr>\n",
       "      <th>83</th>\n",
       "      <td>ICD9 4D: Peripheral vascular disease, unspecified</td>\n",
       "      <td>1228</td>\n",
       "    </tr>\n",
       "    <tr>\n",
       "      <th>84</th>\n",
       "      <td>ICD9 4D: Acute pain due to trauma;Acute post-t...</td>\n",
       "      <td>750</td>\n",
       "    </tr>\n",
       "    <tr>\n",
       "      <th>85</th>\n",
       "      <td>ICD10 3D: Intraoperative and postprocedural co...</td>\n",
       "      <td>5200</td>\n",
       "    </tr>\n",
       "    <tr>\n",
       "      <th>86</th>\n",
       "      <td>ICD10 3D: Osteoporosis without current patholo...</td>\n",
       "      <td>5627</td>\n",
       "    </tr>\n",
       "    <tr>\n",
       "      <th>87</th>\n",
       "      <td>ICD9 4D: Osteoporosis</td>\n",
       "      <td>2244</td>\n",
       "    </tr>\n",
       "    <tr>\n",
       "      <th>88</th>\n",
       "      <td>ICD9 4D: Coronary Atherosclerosis</td>\n",
       "      <td>1098</td>\n",
       "    </tr>\n",
       "    <tr>\n",
       "      <th>89</th>\n",
       "      <td>ICD10 3D: Chronic kidney disease (CKD)</td>\n",
       "      <td>5692</td>\n",
       "    </tr>\n",
       "    <tr>\n",
       "      <th>90</th>\n",
       "      <td>ICD10 3D: Atrial fibrillation and flutter</td>\n",
       "      <td>4645</td>\n",
       "    </tr>\n",
       "    <tr>\n",
       "      <th>91</th>\n",
       "      <td>ICD9 4D: Acute gastrojejunal ulcer without men...</td>\n",
       "      <td>1501</td>\n",
       "    </tr>\n",
       "    <tr>\n",
       "      <th>92</th>\n",
       "      <td>ICD10 3D: Other peripheral vascular diseases</td>\n",
       "      <td>4722</td>\n",
       "    </tr>\n",
       "    <tr>\n",
       "      <th>93</th>\n",
       "      <td>ICD10 4D: Chronic kidney disease, stage 3 (mod...</td>\n",
       "      <td>5695</td>\n",
       "    </tr>\n",
       "    <tr>\n",
       "      <th>94</th>\n",
       "      <td>ICD9 4D: Common Migraine</td>\n",
       "      <td>786</td>\n",
       "    </tr>\n",
       "    <tr>\n",
       "      <th>95</th>\n",
       "      <td>ICD10 3D: Postprocedural endocrine and metabol...</td>\n",
       "      <td>3962</td>\n",
       "    </tr>\n",
       "    <tr>\n",
       "      <th>96</th>\n",
       "      <td>ICD10 4D: Acute vaginitis</td>\n",
       "      <td>5813</td>\n",
       "    </tr>\n",
       "    <tr>\n",
       "      <th>97</th>\n",
       "      <td>ICD9 4D: Congestive heart failure, unspecified</td>\n",
       "      <td>1154</td>\n",
       "    </tr>\n",
       "    <tr>\n",
       "      <th>98</th>\n",
       "      <td>ICD9 4D: Chronic kidney disease, Stage III (mo...</td>\n",
       "      <td>1672</td>\n",
       "    </tr>\n",
       "    <tr>\n",
       "      <th>99</th>\n",
       "      <td>ICD10 3D: Acute pharyngitis</td>\n",
       "      <td>4798</td>\n",
       "    </tr>\n",
       "  </tbody>\n",
       "</table>\n",
       "<p>100 rows × 2 columns</p>\n",
       "</div>"
      ],
      "text/plain": [
       "                                                    0     1\n",
       "0   ICD9 3D: Chronic airway obstruction, not elsew...  1385\n",
       "1                                     ICD9 3D: Asthma  1373\n",
       "2                        ICD9 4D: Asthma, Unspecified  1378\n",
       "3   ICD9 4D: Exercise induced bronchospasm;Cough v...  1377\n",
       "4                    ICD10 4D: Mild persistent asthma  4885\n",
       "5                         ICD9 3D: Chronic bronchitis  1365\n",
       "6                ICD10 4D: Moderate persistent asthma  4886\n",
       "7                 ICD9 4D: Chronic Obstructive Asthma  1376\n",
       "8                                    ICD10 3D: Asthma  4883\n",
       "9              ICD10 4D: Other and unspecified asthma  4888\n",
       "10                 ICD10 4D: Mild intermittent asthma  4884\n",
       "11            ICD9 4D: Obstructive Chronic Bronchitis  1367\n",
       "12                            ICD9 3D: Bronchiectasis  1379\n",
       "13  ICD10 4D: Chronic obstructive pulmonary diseas...  4882\n",
       "14                                 ICD9 3D: Emphysema  1370\n",
       "15                           ICD9 4D: Other emphysema  1372\n",
       "16                          ICD9 4D: Intrinsic Asthma  1375\n",
       "17  ICD10 3D: Other chronic obstructive pulmonary ...  4880\n",
       "18                          ICD9 4D: Extrinsic Asthma  1374\n",
       "19  ICD9 4D: Bronchiectasis without acute exacerba...  1380\n",
       "20                                ICD10 3D: Emphysema  4877\n",
       "21                   ICD10 4D: Emphysema, unspecified  4879\n",
       "22  ICD10 4D: Chronic obstructive pulmonary diseas...  4881\n",
       "23            ICD9 4D: Unspecified chronic bronchitis  1369\n",
       "24                 Derived categorical smoking status     2\n",
       "25                              ICD10 4D: Tobacco use  7025\n",
       "26                 ICD10 4D: Severe persistent asthma  4887\n",
       "27            ICD10 3D: Problems related to lifestyle  7024\n",
       "28  Age at time of last encounter with the health ...     0\n",
       "29                      ICD9 4D: Tobacco use disorder   651\n",
       "..                                                ...   ...\n",
       "70  ICD10 4D: Atherosclerotic heart disease of nat...  4578\n",
       "71                      ICD10 3D: Intracranial injury  6468\n",
       "72  ICD9 4D: Hypertrophy (benign) of prostate with...  1727\n",
       "73  ICD10 3D: Certain current complications follow...  4571\n",
       "74                                  ICD9 3D: Migraine   784\n",
       "75                       ICD9 3D: Gastrojejunal ulcer  1500\n",
       "76  ICD10 4D: Hemopericardium as current complicat...  4572\n",
       "77          ICD10 4D: Retention of urine, unspecified  6283\n",
       "78          ICD10 4D: Pneumonia, unspecified organism  4823\n",
       "79  ICD9 4D: Body Mass Index 40.0-44.9, adult;Body...  3272\n",
       "80  ICD10 3D: Malignant neoplasm of bronchus and lung  3455\n",
       "81           ICD10 3D: Chronic ischemic heart disease  4577\n",
       "82           ICD9 3D: Pneumonia, organism unspecified  1359\n",
       "83  ICD9 4D: Peripheral vascular disease, unspecified  1228\n",
       "84  ICD9 4D: Acute pain due to trauma;Acute post-t...   750\n",
       "85  ICD10 3D: Intraoperative and postprocedural co...  5200\n",
       "86  ICD10 3D: Osteoporosis without current patholo...  5627\n",
       "87                              ICD9 4D: Osteoporosis  2244\n",
       "88                  ICD9 4D: Coronary Atherosclerosis  1098\n",
       "89             ICD10 3D: Chronic kidney disease (CKD)  5692\n",
       "90          ICD10 3D: Atrial fibrillation and flutter  4645\n",
       "91  ICD9 4D: Acute gastrojejunal ulcer without men...  1501\n",
       "92       ICD10 3D: Other peripheral vascular diseases  4722\n",
       "93  ICD10 4D: Chronic kidney disease, stage 3 (mod...  5695\n",
       "94                           ICD9 4D: Common Migraine   786\n",
       "95  ICD10 3D: Postprocedural endocrine and metabol...  3962\n",
       "96                          ICD10 4D: Acute vaginitis  5813\n",
       "97     ICD9 4D: Congestive heart failure, unspecified  1154\n",
       "98  ICD9 4D: Chronic kidney disease, Stage III (mo...  1672\n",
       "99                        ICD10 3D: Acute pharyngitis  4798\n",
       "\n",
       "[100 rows x 2 columns]"
      ]
     },
     "execution_count": 45,
     "metadata": {},
     "output_type": "execute_result"
    }
   ],
   "source": [
    "top100"
   ]
  },
  {
   "cell_type": "markdown",
   "metadata": {},
   "source": [
    "# Find intersecting features from each model"
   ]
  },
  {
   "cell_type": "code",
   "execution_count": null,
   "metadata": {
    "collapsed": true
   },
   "outputs": [],
   "source": [
    "_, ave = topAveDFSfeatures(0,102)\n",
    "_, xg = topXGBoostfeatures(0,102)\n",
    "_, union = unionDFSfeatures(27)\n",
    "\n",
    "# Intersection indexes\n",
    "intersect_3models = np.intersect1d(np.intersect1d(ave,union),xg).tolist()\n",
    "print temp.shape\n",
    "\n",
    "temp = inputX[:,intersect_3models]\n",
    "\n",
    "# Accuracy rate based on the three models\n",
    "np.mean(cross_val_score(svm, temp, inputY, cv=5))"
   ]
  }
 ],
 "metadata": {
  "kernelspec": {
   "display_name": "Python 2",
   "language": "python",
   "name": "python2"
  },
  "language_info": {
   "codemirror_mode": {
    "name": "ipython",
    "version": 2
   },
   "file_extension": ".py",
   "mimetype": "text/x-python",
   "name": "python",
   "nbconvert_exporter": "python",
   "pygments_lexer": "ipython2",
   "version": "2.7.12"
  }
 },
 "nbformat": 4,
 "nbformat_minor": 0
}

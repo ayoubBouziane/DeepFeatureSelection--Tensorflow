{
 "cells": [
  {
   "cell_type": "code",
   "execution_count": null,
   "metadata": {
    "collapsed": false
   },
   "outputs": [],
   "source": [
    "from scipy import io as sio\n",
    "import pandas as pd\n",
    "import numpy as np\n",
    "\n",
    "# Process Q and B data separately\n",
    "\n",
    "filePath = \"./data/QMatrix_label.csv\"\n",
    "if 'B' in filePath:\n",
    "    dataType = 'B'\n",
    "else:\n",
    "    dataType = 'Q'\n",
    "\n",
    "impute_strategy = 'mean'\n",
    "    \n",
    "df = pd.read_csv(filePath)"
   ]
  },
  {
   "cell_type": "code",
   "execution_count": null,
   "metadata": {
    "collapsed": false
   },
   "outputs": [],
   "source": [
    "# See what does the data looks like\n",
    "df"
   ]
  },
  {
   "cell_type": "code",
   "execution_count": null,
   "metadata": {
    "collapsed": true
   },
   "outputs": [],
   "source": [
    "# Read the labels\n",
    "labels = df.ix[:,1].values"
   ]
  },
  {
   "cell_type": "code",
   "execution_count": null,
   "metadata": {
    "collapsed": false
   },
   "outputs": [],
   "source": [
    "# Convert alphabet subgroups to numbers\n",
    "mappingSub = {j:i for i,j in enumerate(np.unique(df['Smoking_Sub_Group']))}\n",
    "numericSub = np.array([mappingSub[i] for i in df['Smoking_Sub_Group']])\n",
    "df['Smoking_Sub_Group'] = numericSub"
   ]
  },
  {
   "cell_type": "code",
   "execution_count": null,
   "metadata": {
    "collapsed": false
   },
   "outputs": [],
   "source": [
    "# Convert string labels to numbers\n",
    "mappingLabels = {j:i for i,j in enumerate(np.unique(labels))}\n",
    "numericLabels = np.array([mappingLabels[i] for i in labels])"
   ]
  },
  {
   "cell_type": "code",
   "execution_count": null,
   "metadata": {
    "collapsed": false
   },
   "outputs": [],
   "source": [
    "# Drop first two columns\n",
    "df.drop(df.columns[[0,1]], axis=1, inplace=True)"
   ]
  },
  {
   "cell_type": "code",
   "execution_count": null,
   "metadata": {
    "collapsed": true
   },
   "outputs": [],
   "source": [
    "# Data to be imputed\n",
    "dataToBeImputed = df.values\n",
    "\n",
    "# Get column names\n",
    "columnNames = df.columns.values.astype('U')\n",
    "# columnNames = [i for i in columnNames]"
   ]
  },
  {
   "cell_type": "markdown",
   "metadata": {},
   "source": [
    "## Get the info from the data, for each feature and each label, calculate their NA rate and store the non-NA values for further analysis, like box-plot"
   ]
  },
  {
   "cell_type": "code",
   "execution_count": null,
   "metadata": {
    "collapsed": false
   },
   "outputs": [],
   "source": [
    "info = {}\n",
    "for column in xrange(len(columnNames)):\n",
    "    if column % 100 == 0:\n",
    "        print column\n",
    "    info[columnNames[column]] = {}\n",
    "    for label in xrange(3):\n",
    "        info[columnNames[column]][label] = {}\n",
    "        indexes = list(np.where(numericLabels==label)[0])\n",
    "        temp = df.ix[indexes,column]\n",
    "        info[columnNames[column]][label]['NA rate'] = temp.isnull().values.sum()*1.0/len(indexes)\n",
    "        info[columnNames[column]][label]['non-NA data'] = temp[temp.notnull().values].values\n",
    "\n",
    "info['labelMap'] = {0:'Acos',1:'Asthma',2:'COPD'}"
   ]
  },
  {
   "cell_type": "code",
   "execution_count": null,
   "metadata": {
    "collapsed": false
   },
   "outputs": [],
   "source": [
    "np.save('./data/Info_' + dataType + '.npy', info)"
   ]
  },
  {
   "cell_type": "markdown",
   "metadata": {},
   "source": [
    "## Data Imputation with simply mean/median, advanced methods will be attached as well"
   ]
  },
  {
   "cell_type": "code",
   "execution_count": null,
   "metadata": {
    "collapsed": false
   },
   "outputs": [],
   "source": [
    "from sklearn.preprocessing import Imputer\n",
    "\n",
    "imp = Imputer(missing_values='NaN', strategy=impute_strategy, axis=0)\n",
    "imp.fit(dataToBeImputed)\n",
    "imputedData = imp.transform(dataToBeImputed)"
   ]
  },
  {
   "cell_type": "markdown",
   "metadata": {},
   "source": [
    "## Scale the data from 0 to 1"
   ]
  },
  {
   "cell_type": "code",
   "execution_count": null,
   "metadata": {
    "collapsed": false
   },
   "outputs": [],
   "source": [
    "from sklearn.preprocessing import MinMaxScaler\n",
    "\n",
    "mm = MinMaxScaler(feature_range=(0, 1))\n",
    "scaledData = mm.fit_transform(imputedData)"
   ]
  },
  {
   "cell_type": "code",
   "execution_count": null,
   "metadata": {
    "collapsed": false
   },
   "outputs": [],
   "source": [
    "# Read the patient list generated from the last file\n",
    "\n",
    "patientList = np.load(\"./data/patientList\"+dataType+\".npy\")"
   ]
  },
  {
   "cell_type": "code",
   "execution_count": null,
   "metadata": {
    "collapsed": false
   },
   "outputs": [],
   "source": [
    "# Save the file\n",
    "sio.savemat(\"./data/\" + dataType + \"_3labels_mean_scaled.mat\", \\\n",
    "                {'X':scaledData,'Y':numericLabels,'patients':patientList, 'columnNames':columnNames})"
   ]
  },
  {
   "cell_type": "code",
   "execution_count": null,
   "metadata": {
    "collapsed": false
   },
   "outputs": [],
   "source": [
    "labels2_list = ['AsthmaCOPD','AcosCOPD','AcosAsthma']\n",
    "for i in xrange(len(labels2_list)):\n",
    "    # Create 2-classes patients list\n",
    "    indexes = np.where(numericLabels!=i)\n",
    "    Y = numericLabels[indexes]\n",
    "    if i == 0:\n",
    "        Y = Y-1\n",
    "    elif i == 1:\n",
    "        Y = np.array([j if j == 0 else 1 for j in Y])\n",
    "    X, p = scaledData[indexes,:], patientList[indexes]\n",
    "    \n",
    "    sio.savemat(\"./data/\" + dataType + \"_\" + labels2_list[i] + \"_mean_scaled.mat\", \\\n",
    "                {'X':X, 'Y':Y, 'patients':p, 'columnNames':columnNames})"
   ]
  }
 ],
 "metadata": {
  "kernelspec": {
   "display_name": "Python 2",
   "language": "python",
   "name": "python2"
  },
  "language_info": {
   "codemirror_mode": {
    "name": "ipython",
    "version": 2
   },
   "file_extension": ".py",
   "mimetype": "text/x-python",
   "name": "python",
   "nbconvert_exporter": "python",
   "pygments_lexer": "ipython2",
   "version": "2.7.12"
  }
 },
 "nbformat": 4,
 "nbformat_minor": 0
}
